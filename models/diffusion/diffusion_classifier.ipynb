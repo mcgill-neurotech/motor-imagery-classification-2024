{
 "cells": [
  {
   "cell_type": "code",
   "execution_count": 41,
   "metadata": {},
   "outputs": [
    {
     "name": "stderr",
     "output_type": "stream",
     "text": [
      "Seed set to 0\n"
     ]
    }
   ],
   "source": [
    "import numpy as np\n",
    "import pandas as pd\n",
    "import os\n",
    "import scipy.io\n",
    "from einops import rearrange\n",
    "import matplotlib.pyplot as plt\n",
    "import seaborn as sns\n",
    "# import pywt\n",
    "import torch\n",
    "from torch.utils.data import Dataset, DataLoader\n",
    "import torch.nn as nn\n",
    "import torch.optim as optim\n",
    "from lightning import Fabric\n",
    "from pytorch_lightning.utilities.model_summary import ModelSummary\n",
    "from lightning_fabric.utilities.seed import seed_everything\n",
    "import lightning as L\n",
    "from einops import repeat,reduce,rearrange\n",
    "import argparse\n",
    "import pickle\n",
    "import wandb\n",
    "\n",
    "import sys\n",
    "\n",
    "sys.path.append(\"../../../motor-imagery-classification-2024/\")\n",
    "\n",
    "from classification.loaders import EEGDataset,load_data\n",
    "from models.unet.eeg_unets import Unet,UnetConfig, BottleNeckClassifier, Unet1D\n",
    "from classification.classifiers import DeepClassifier , SimpleCSP, k_fold_splits\n",
    "from classification.loaders import subject_dataset\n",
    "from ntd.networks import SinusoidalPosEmb\n",
    "from ntd.diffusion_model import Diffusion\n",
    "from ntd.utils.kernels_and_diffusion_utils import WhiteNoiseProcess\n",
    "\n",
    "from u_net_diffusion import DiffusionUnet, DiffusionUnetConfig\n",
    "\n",
    "torch.set_float32_matmul_precision('medium')\n",
    "seed_everything(0)\n",
    "\n",
    "FS = 250\n",
    "DEVICE = \"cuda\"\n",
    "sns.set_style(\"darkgrid\")\n",
    "\n",
    "\n",
    "DEBUG = False\n",
    "\n",
    "if DEBUG:\n",
    "\tprint(\"---\\n---\\nCurrently in debug mode\\n---\\n---\")\n",
    "\n",
    "NUM_TIMESTEPS = 1000\n",
    "DIFFUSION_LR = 6E-4\n",
    "CNN_LR = 1E-4\n",
    "SCHEDULE = \"linear\"\n",
    "START_BETA = 1E-4\n",
    "END_BETA = 8E-2\n",
    "DIFFUSION_NUM_EPOCHS = 100 if not DEBUG else 1\n",
    "DIFFUSION_BATCH_SIZE = 64\n",
    "CLASSIFICATION_MAX_EPOCHS = 150 if not DEBUG else 1\n",
    "CHANNELS = [0,1,2]\n",
    "\n",
    "dataset = {}\n",
    "for i in range(1,10):\n",
    "    mat_train,mat_test = load_data(\"../../data/2b_iv\",i)\n",
    "    dataset[f\"subject_{i}\"] = {\"train\":mat_train,\"test\":mat_test}\n",
    "\n",
    "REAL_DATA = \"../../data/2b_iv/raw\"\n",
    "\n",
    "SAVE_PATH = \"../../saved_models\"\n",
    "\n"
   ]
  },
  {
   "cell_type": "code",
   "execution_count": 37,
   "metadata": {},
   "outputs": [],
   "source": [
    "UnetDiff1D = DiffusionUnetConfig(\n",
    "\t\ttime_dim=12,\n",
    "\t\tclass_dim=12,\n",
    "\t\tnum_classes=2,\n",
    "\t\tinput_shape=(512),\n",
    "\t\tinput_channels=3,\n",
    "\t\tconv_op=nn.Conv1d,\n",
    "\t\tnorm_op=nn.InstanceNorm1d,\n",
    "\t\tnon_lin=nn.ReLU,\n",
    "\t\tpool_op=nn.AvgPool1d,\n",
    "\t\tup_op=nn.ConvTranspose1d,\n",
    "\t\tstarting_channels=32,\n",
    "\t\tmax_channels=256,\n",
    "\t\tconv_group=1,\n",
    "\t\tconv_padding=(1),\n",
    "\t\tconv_kernel=(3),\n",
    "\t\tpool_fact=2,\n",
    "\t\tdeconv_group=1,\n",
    "\t\tdeconv_padding=(0),\n",
    "\t\tdeconv_kernel=(2),\n",
    "\t\tdeconv_stride=(2),\n",
    "\t\tresidual=True\n",
    "\t)"
   ]
  },
  {
   "cell_type": "code",
   "execution_count": 38,
   "metadata": {},
   "outputs": [],
   "source": [
    "train_split = 9*[[\"train\"]]\n",
    "test_split = 9*[[\"test\"]]"
   ]
  },
  {
   "cell_type": "code",
   "execution_count": 39,
   "metadata": {},
   "outputs": [
    {
     "name": "stdout",
     "output_type": "stream",
     "text": [
      "train split: [['train'], ['train'], ['train'], ['train'], ['train'], ['train'], ['train'], ['train'], ['train']]\n",
      "test split: [['test'], ['test'], ['test'], ['test'], ['test'], ['test'], ['test'], ['test'], ['test']]\n",
      "(3026, 3, 512)\n",
      "(3026,)\n",
      "final data shape: (3026, 3, 512)\n",
      "(2241, 3, 512)\n",
      "(2241,)\n",
      "final data shape: (2241, 3, 512)\n"
     ]
    }
   ],
   "source": [
    "print(f\"train split: {train_split}\")\n",
    "print(f\"test split: {test_split}\")\n",
    "\n",
    "train_set = EEGDataset(subject_splits=train_split,\n",
    "\t\t\t\tdataset=None,\n",
    "\t\t\t\tsave_paths=[REAL_DATA],\n",
    "\t\t\t\tdataset_type=subject_dataset,\n",
    "\t\t\t\tchannels=CHANNELS,\n",
    "\t\t\t\tsanity_check=False,\n",
    "\t\t\t\tlength=2.05)\n",
    "\n",
    "test_set = EEGDataset(subject_splits=test_split,\n",
    "\t\t\t\t\tdataset=None,\n",
    "\t\t\t\t\tsave_paths=[REAL_DATA],\n",
    "\t\t\t\t\tchannels=CHANNELS,\n",
    "\t\t\t\t\tsanity_check=False,\n",
    "\t\t\t\t\tlength=2.05)\n",
    "\n",
    "classifier = BottleNeckClassifier((2048,1024),)\n",
    "unet = DiffusionUnet(UnetDiff1D,classifier)\n",
    "\n",
    "noise_sampler = WhiteNoiseProcess(1.0, 512)\n",
    "\n",
    "diffusion_model = Diffusion(\n",
    "\tnetwork=unet,\n",
    "\tdiffusion_time_steps=NUM_TIMESTEPS,\n",
    "\tnoise_sampler=noise_sampler,\n",
    "\tmal_dist_computer=noise_sampler,\n",
    "\tschedule=SCHEDULE,\n",
    "\tstart_beta=START_BETA,\n",
    "\tend_beta=END_BETA,\n",
    ")\n"
   ]
  },
  {
   "cell_type": "code",
   "execution_count": 66,
   "metadata": {},
   "outputs": [],
   "source": [
    "def test_batch(self, \n",
    "                    batch,\n",
    "                    conditions,\n",
    "                    mask=None,\n",
    "                    p_uncond=0):\n",
    "        self.eval()\n",
    "\n",
    "        losses = []\n",
    "\n",
    "        for cond in conditions:\n",
    "            batch_size = batch.shape[0]\n",
    "            time_index = self.fixed_steps\n",
    "            n = len(time_index)\n",
    "            time_index = repeat(time_index,\"n -> (n b)\",b=batch_size)\n",
    "            batch = repeat(batch,\"b ... -> (n b) ...\",n=n)\n",
    "            train_alpha_bars = self.alpha_bars[time_index].unsqueeze(-1).unsqueeze(-1)\n",
    "            noise = self.noise_sampler.sample(\n",
    "                sample_shape=(\n",
    "                    batch_size,\n",
    "                    self.network.signal_channel,\n",
    "                    self.network.signal_length,\n",
    "                )\n",
    "            )\n",
    "            noise = repeat(noise,\"b ... -> (n b) ...\",n=n)\n",
    "            if noise.shape != batch.shape:\n",
    "                raise ValueError(f\"shape mismatch between noise ({noise.shape}) and batch ({batch.shape})\")\n",
    "            \n",
    "            noisy_sig = (\n",
    "                torch.sqrt(train_alpha_bars) * batch\n",
    "                + torch.sqrt(1.0 - train_alpha_bars) * noise\n",
    "            )\n",
    "            cond = repeat(cond,\"t -> (n b) 1 t\",n=n,b=batch_size)\n",
    "            res = self.network.forward(noisy_sig, time_index, cond=cond)\n",
    "            diff = rearrange(noise - res,\"(n b) ... -> b n ...\",n=n)\n",
    "            norms = reduce((diff)**2,\"b ... -> b\",reduction=\"mean\")\n",
    "            losses.append(norms)\n",
    "        return torch.stack(losses,-1)"
   ]
  },
  {
   "cell_type": "code",
   "execution_count": 67,
   "metadata": {},
   "outputs": [],
   "source": [
    "x = torch.rand((4,3,512))"
   ]
  },
  {
   "cell_type": "code",
   "execution_count": 68,
   "metadata": {},
   "outputs": [
    {
     "data": {
      "text/plain": [
       "torch.Size([4, 3, 512])"
      ]
     },
     "execution_count": 68,
     "metadata": {},
     "output_type": "execute_result"
    }
   ],
   "source": [
    "x.shape"
   ]
  },
  {
   "cell_type": "code",
   "execution_count": 69,
   "metadata": {},
   "outputs": [],
   "source": [
    "cond_1 = (torch.zeros(512)+1).to(torch.int)\n",
    "cond_2 = (torch.ones(512)+1).to(torch.int)"
   ]
  },
  {
   "cell_type": "code",
   "execution_count": 70,
   "metadata": {},
   "outputs": [],
   "source": [
    "conds = [cond_1,cond_2]"
   ]
  },
  {
   "cell_type": "code",
   "execution_count": 71,
   "metadata": {},
   "outputs": [
    {
     "data": {
      "text/plain": [
       "torch.Size([512])"
      ]
     },
     "execution_count": 71,
     "metadata": {},
     "output_type": "execute_result"
    }
   ],
   "source": [
    "cond_1.shape"
   ]
  }
 ],
 "metadata": {
  "kernelspec": {
   "display_name": "neuro",
   "language": "python",
   "name": "python3"
  },
  "language_info": {
   "codemirror_mode": {
    "name": "ipython",
    "version": 3
   },
   "file_extension": ".py",
   "mimetype": "text/x-python",
   "name": "python",
   "nbconvert_exporter": "python",
   "pygments_lexer": "ipython3",
   "version": "3.10.12"
  }
 },
 "nbformat": 4,
 "nbformat_minor": 2
}
