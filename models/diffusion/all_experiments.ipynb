{
 "cells": [
  {
   "cell_type": "code",
   "execution_count": 1,
   "metadata": {},
   "outputs": [
    {
     "name": "stderr",
     "output_type": "stream",
     "text": [
      "c:\\Users\\rahar\\anaconda3\\envs\\neuro\\lib\\site-packages\\torchaudio\\backend\\utils.py:74: UserWarning: No audio backend is available.\n",
      "  warnings.warn(\"No audio backend is available.\")\n"
     ]
    }
   ],
   "source": [
    "import numpy as np\n",
    "import pandas as pd\n",
    "import os\n",
    "import scipy.io\n",
    "from scipy.signal import butter, filtfilt, iirnotch, cheby2\n",
    "from einops import rearrange\n",
    "import matplotlib.pyplot as plt\n",
    "import seaborn as sns\n",
    "import torch\n",
    "from torch.utils.data import Dataset, DataLoader\n",
    "import torch.nn as nn\n",
    "import torch.optim as optim\n",
    "from lightning import Fabric\n",
    "import yaml\n",
    "import lightning\n",
    "from pytorch_lightning.utilities.model_summary import ModelSummary\n",
    "from einops import repeat\n",
    "from typing import Tuple\n",
    "from torch.nn import functional as F\n",
    "\n",
    "from sklearn.svm import SVC\n",
    "from sklearn.pipeline import Pipeline\n",
    "from mne.decoding import CSP\n",
    "from sklearn.metrics import accuracy_score\n",
    "\n",
    "import sys\n",
    "\n",
    "sys.path.append(\"../../\")\n",
    "\n",
    "from classification.loaders import EEGDataset,load_data\n",
    "from models.unet.eeg_unets import Unet,UnetConfig, BottleNeckClassifier, Unet1D\n",
    "from classification.classifiers import DeepClassifier\n",
    "from classification.loaders import subject_dataset, CSP_subject_dataset\n",
    "from classification.open_bci_loaders import OpenBCIDataset,OpenBCISubject,load_files,CSPOpenBCISubject\n",
    "from models.unet import base_eegnet\n",
    "from ntd.networks import LongConv\n",
    "from ntd.diffusion_model import Diffusion\n",
    "from ntd.utils.kernels_and_diffusion_utils import WhiteNoiseProcess\n",
    "from classification_heads import ClassificationHead, EEGNetHead, DiffusionClf\n",
    "import json"
   ]
  },
  {
   "cell_type": "code",
   "execution_count": 2,
   "metadata": {},
   "outputs": [
    {
     "name": "stderr",
     "output_type": "stream",
     "text": [
      "Using bfloat16 Automatic Mixed Precision (AMP)\n",
      "Seed set to 0\n"
     ]
    },
    {
     "data": {
      "text/plain": [
       "0"
      ]
     },
     "execution_count": 2,
     "metadata": {},
     "output_type": "execute_result"
    }
   ],
   "source": [
    "torch.set_float32_matmul_precision(\"medium\")\n",
    "FABRIC = Fabric(accelerator=\"cuda\",precision=\"bf16-mixed\")\n",
    "lightning.seed_everything(0)"
   ]
  },
  {
   "cell_type": "markdown",
   "metadata": {},
   "source": [
    "## Datasets"
   ]
  },
  {
   "cell_type": "markdown",
   "metadata": {},
   "source": [
    "### Constants"
   ]
  },
  {
   "cell_type": "code",
   "execution_count": 3,
   "metadata": {},
   "outputs": [],
   "source": [
    "c = np.split(np.arange(3*9),3)\n",
    "c = np.concatenate([c[0],c[2]])\n"
   ]
  },
  {
   "cell_type": "code",
   "execution_count": 4,
   "metadata": {},
   "outputs": [],
   "source": [
    "DEVICE = torch.device(\"cuda\" if torch.cuda.is_available() else \"cpu\")\n",
    "SIGNAL_LENGTH = 512\n",
    "N_CSP_CHANNELS = 18\n",
    "N_EEG_CHANNELS = 2\n",
    "\n",
    "CONF_PATH = \"../diffusion/conf\"\n",
    "\n",
    "FS_BCI_COMP = 250\n",
    "DATA_PATH_BCI_COMP = \"../../data/2b_iv\"\n",
    "SAVE_PATH_BCI_COMP = \"../../saved_models/raw_eeg\"\n",
    "\n",
    "REAL_DATA_BCI_COMP = \"../../data/2b_iv/raw\"\n",
    "CSP_DATA_BCI_COMP = \"../../data/2b_iv/csp\"\n",
    "\n",
    "TRAIN_SPLIT_BCI_COMP = 9*[[\"train\"]]\n",
    "TEST_SPLIT_BCI_COMP = 9*[[\"test\"]]\n",
    "\n",
    "CHANNELS_BCI_COMP = [0,2]\n",
    "\n",
    "c = np.split(np.arange(3*9),3)\n",
    "c = np.concatenate([c[0],c[2]])\n",
    "\n",
    "CSP_CHANNELS_BCI_COMP = c\n",
    "\n",
    "\n",
    "train_split = 2*[[\"train\"]]\n",
    "test_split = 2*[[\"test\"]]\n",
    "save_path = os.path.join(\"processed\",\"raw\")\n",
    "small_stride = os.path.join(\"processed\",\"data/collected_data/small_stride\")\n"
   ]
  },
  {
   "cell_type": "code",
   "execution_count": 5,
   "metadata": {},
   "outputs": [],
   "source": [
    "TRAIN_SPLIT_OPENBCI = 2*[[\"train\"]]\n",
    "TEST_SPLIT_OPENBCI = 2*[[\"test\"]]\n",
    "\n",
    "SAVE_PATH_OPENBCI = os.path.join(\"processed\",\"raw\")\n",
    "CSP_SAVE_PATH_OPENBCI = os.path.join(\"processed\",\"data/collected_data/csp\")\n",
    "\n",
    "CSP_CHANNELS_OPENBCI = np.arange(2*9)\n",
    "CHANNELS_OPENBCI = np.arange(0,2)"
   ]
  },
  {
   "cell_type": "code",
   "execution_count": 6,
   "metadata": {},
   "outputs": [],
   "source": [
    "with open(os.path.join(CONF_PATH, \"train.yaml\"), \"r\") as f:\n",
    "    train_yaml = yaml.safe_load(f)\n",
    "    \n",
    "with open(os.path.join(CONF_PATH, \"classifier.yaml\"), \"r\") as f:\n",
    "    classifier_yaml = yaml.safe_load(f)\n",
    "    \n",
    "with open(os.path.join(CONF_PATH, \"network.yaml\"), \"r\") as f:\n",
    "    network_yaml = yaml.safe_load(f)\n",
    "    \n",
    "with open(os.path.join(CONF_PATH, \"diffusion.yaml\"), \"r\") as f:\n",
    "    diffusion_yaml = yaml.safe_load(f)"
   ]
  },
  {
   "cell_type": "markdown",
   "metadata": {},
   "source": [
    "### BCI Competition"
   ]
  },
  {
   "cell_type": "markdown",
   "metadata": {},
   "source": [
    "#### Normal"
   ]
  },
  {
   "cell_type": "code",
   "execution_count": 7,
   "metadata": {},
   "outputs": [
    {
     "name": "stdout",
     "output_type": "stream",
     "text": [
      "(3026, 2, 512)\n",
      "(3026,)\n",
      "final data shape: (3026, 2, 512)\n",
      "(2241, 2, 512)\n",
      "(2241,)\n",
      "final data shape: (2241, 2, 512)\n"
     ]
    }
   ],
   "source": [
    "dataset = {}\n",
    "for i in range(1,10):\n",
    "    mat_train,mat_test = load_data(\"../../data/2b_iv\",i)\n",
    "    dataset[f\"subject_{i}\"] = {\"train\":mat_train,\"test\":mat_test}\n",
    "\n",
    "train_dataset_bci_comp = EEGDataset(subject_splits=TRAIN_SPLIT_BCI_COMP,\n",
    "                    dataset=None,\n",
    "                    save_paths=[REAL_DATA_BCI_COMP],\n",
    "                    subject_dataset_type=subject_dataset,\n",
    "                    channels=CHANNELS_BCI_COMP,\n",
    "                    sanity_check=False,\n",
    "                    length=2.05)\n",
    "\n",
    "test_dataset_bci_comp = EEGDataset(subject_splits=TEST_SPLIT_BCI_COMP,\n",
    "                    dataset=None,\n",
    "                    save_paths=[REAL_DATA_BCI_COMP],\n",
    "                    channels=CHANNELS_BCI_COMP,\n",
    "                    sanity_check=False,\n",
    "                    length=2.05)"
   ]
  },
  {
   "cell_type": "markdown",
   "metadata": {},
   "source": [
    "#### CSP"
   ]
  },
  {
   "cell_type": "code",
   "execution_count": 8,
   "metadata": {},
   "outputs": [
    {
     "name": "stdout",
     "output_type": "stream",
     "text": [
      "(3026, 18, 512)\n",
      "(3026,)\n",
      "final data shape: (3026, 18, 512)\n",
      "(2241, 18, 512)\n",
      "(2241,)\n",
      "final data shape: (2241, 18, 512)\n"
     ]
    }
   ],
   "source": [
    "train_csp_dataset_bci_comp = EEGDataset(subject_splits=TRAIN_SPLIT_BCI_COMP,\n",
    "                    dataset=None,\n",
    "                    save_paths=[CSP_DATA_BCI_COMP],\n",
    "                    subject_dataset_type=CSP_subject_dataset,\n",
    "                    channels=CSP_CHANNELS_BCI_COMP,\n",
    "                    sanity_check=False,\n",
    "                    length=2.05)\n",
    "\n",
    "test_csp_dataset_bci_comp = EEGDataset(subject_splits=TEST_SPLIT_BCI_COMP,\n",
    "                    dataset=None,\n",
    "                    save_paths=[CSP_DATA_BCI_COMP],\n",
    "                    channels=CSP_CHANNELS_BCI_COMP,\n",
    "                    sanity_check=False,\n",
    "                    length=2.05)"
   ]
  },
  {
   "cell_type": "markdown",
   "metadata": {},
   "source": [
    "### OpenBCI"
   ]
  },
  {
   "cell_type": "markdown",
   "metadata": {},
   "source": [
    "#### Normal"
   ]
  },
  {
   "cell_type": "code",
   "execution_count": 9,
   "metadata": {},
   "outputs": [
    {
     "name": "stdout",
     "output_type": "stream",
     "text": [
      "path d:\\Machine learning\\MI SSL\\motor-imagery-classification-2024\\models\\diffusion\n",
      "Saving new data\n",
      "(416, 2, 512)\n",
      "(416,)\n",
      "final data shape: (416, 2, 512)\n",
      "Loading saved data\n",
      "(208, 2, 512)\n",
      "(208,)\n",
      "final data shape: (208, 2, 512)\n"
     ]
    }
   ],
   "source": [
    "print(f\"path {os.getcwd()}\")\n",
    "files = load_files(\"../../data/collected_data/\")\n",
    "\n",
    "train_dataset_openbci = OpenBCIDataset(\n",
    "\tsubject_splits=TRAIN_SPLIT_OPENBCI,\n",
    "\tdataset=files,\n",
    "\tsave_paths=[SAVE_PATH_OPENBCI],\n",
    "\tfake_data=None,\n",
    "\tdataset_type=OpenBCISubject,\n",
    "\tchannels=np.arange(0,2),\n",
    "\tsubject_channels=[\"ch2\",\"ch5\"],\n",
    "\tstride=128,\n",
    "\tepoch_length=512\n",
    ")\n",
    "\n",
    "test_dataset_openbci = OpenBCIDataset(\n",
    "\tsubject_splits=TEST_SPLIT_OPENBCI,\n",
    "\tsave_paths=[SAVE_PATH_OPENBCI],\n",
    "\tfake_data=None,\n",
    "\tdataset_type=OpenBCISubject,\n",
    "\tchannels=np.arange(0,2),\n",
    "\tsubject_channels=[\"ch2\",\"ch5\"],\n",
    "\tstride=128,\n",
    "\tepoch_length=512\n",
    ")"
   ]
  },
  {
   "cell_type": "code",
   "execution_count": 10,
   "metadata": {},
   "outputs": [
    {
     "name": "stdout",
     "output_type": "stream",
     "text": [
      "path d:\\Machine learning\\MI SSL\\motor-imagery-classification-2024\\models\\diffusion\n",
      "Saving new data\n",
      "(1984, 2, 512)\n",
      "(1984,)\n",
      "final data shape: (1984, 2, 512)\n",
      "Loading saved data\n",
      "(992, 2, 512)\n",
      "(992,)\n",
      "final data shape: (992, 2, 512)\n"
     ]
    }
   ],
   "source": [
    "print(f\"path {os.getcwd()}\")\n",
    "files = load_files(\"../../data/collected_data/\")\n",
    "\n",
    "train_s25_dataset_openbci = OpenBCIDataset(\n",
    "\tsubject_splits=TRAIN_SPLIT_OPENBCI,\n",
    "\tdataset=files,\n",
    "\tsave_paths=[small_stride],\n",
    "\tfake_data=None,\n",
    "\tdataset_type=OpenBCISubject,\n",
    "\tchannels=np.arange(0,2),\n",
    "\tsubject_channels=[\"ch2\",\"ch5\"],\n",
    "\tstride=25,\n",
    "\tepoch_length=512\n",
    ")\n",
    "\n",
    "test_s25_dataset_openbci = OpenBCIDataset(\n",
    "\tsubject_splits=TEST_SPLIT_OPENBCI,\n",
    "\tsave_paths=[small_stride],\n",
    "\tfake_data=None,\n",
    "\tdataset_type=OpenBCISubject,\n",
    "\tchannels=np.arange(0,2),\n",
    "\tsubject_channels=[\"ch2\",\"ch5\"],\n",
    "\tstride=25,\n",
    "\tepoch_length=512\n",
    ")"
   ]
  },
  {
   "cell_type": "markdown",
   "metadata": {},
   "source": [
    "#### CSP"
   ]
  },
  {
   "cell_type": "code",
   "execution_count": 11,
   "metadata": {},
   "outputs": [
    {
     "name": "stdout",
     "output_type": "stream",
     "text": [
      "Saving new data\n",
      "(416, 18, 512)\n",
      "(416,)\n",
      "final data shape: (416, 18, 512)\n",
      "Loading saved data\n",
      "(208, 18, 512)\n",
      "(208,)\n",
      "final data shape: (208, 18, 512)\n"
     ]
    }
   ],
   "source": [
    "\n",
    "train_csp_dataset_openbci = OpenBCIDataset(\n",
    "\tsubject_splits=TRAIN_SPLIT_OPENBCI,\n",
    "\tdataset=files,\n",
    "\tsave_paths=[CSP_SAVE_PATH_OPENBCI],\n",
    "\tfake_data=None,\n",
    "\tdataset_type=CSPOpenBCISubject,\n",
    "\tchannels=CSP_CHANNELS_OPENBCI,\n",
    "\tsubject_channels=[\"ch2\",\"ch5\"],\n",
    "\tstride=128,\n",
    "\tepoch_length=512\n",
    ")\n",
    "\n",
    "test_csp_dataset_openbci = OpenBCIDataset(\n",
    "\tsubject_splits=TEST_SPLIT_OPENBCI,\n",
    "\tsave_paths=[CSP_SAVE_PATH_OPENBCI],\n",
    "\tfake_data=None,\n",
    "\tdataset_type=CSPOpenBCISubject,\n",
    "\tchannels=CSP_CHANNELS_OPENBCI,\n",
    "\tsubject_channels=[\"ch2\",\"ch5\"],\n",
    "\tstride=128,\n",
    "\tepoch_length=512\n",
    ")"
   ]
  },
  {
   "cell_type": "markdown",
   "metadata": {},
   "source": [
    "---\n",
    "## CSP"
   ]
  },
  {
   "cell_type": "code",
   "execution_count": 12,
   "metadata": {},
   "outputs": [],
   "source": [
    "def csp_train_test(train_dset,test_dset):\n",
    "\n",
    "\tx_train,y_train = train_dset.data\n",
    "\tx_test,y_test = test_dset.data\n",
    "\n",
    "\tx_train,y_train = np.float64(x_train),np.float64(y_train)\n",
    "\tx_test,y_test = np.float64(x_test),np.float64(y_test)\n",
    "\n",
    "\tcsp = CSP(n_components=x_train.shape[1],reg=None,log=True,norm_trace=False)\n",
    "\tsvm = SVC(C=1)\n",
    "\n",
    "\tclf = Pipeline(steps=[(\"csp\",csp),\n",
    "\t\t\t\t\t\t(\"classification\",svm)])\n",
    "\n",
    "\tclf.fit(x_train,y_train)\n",
    "\n",
    "\ty_train_pred = clf.predict(x_train)\n",
    "\ty_test_pred = clf.predict(x_test)\n",
    "\ttrain_acc = accuracy_score(y_train,y_train_pred)\n",
    "\ttest_acc = accuracy_score(y_test,y_test_pred)\n",
    "\n",
    "\tprint(f\"train accuracy: {train_acc}\")\n",
    "\tprint(f\"test accuracy: {test_acc}\")\n",
    "\treturn test_acc\n"
   ]
  },
  {
   "cell_type": "markdown",
   "metadata": {},
   "source": [
    "### BCI Competition"
   ]
  },
  {
   "cell_type": "code",
   "execution_count": 13,
   "metadata": {},
   "outputs": [
    {
     "name": "stdout",
     "output_type": "stream",
     "text": [
      "Computing rank from data with rank=None\n"
     ]
    },
    {
     "name": "stdout",
     "output_type": "stream",
     "text": [
      "    Using tolerance 9.6 (2.2e-16 eps * 18 dim * 2.4e+15  max singular value)\n",
      "    Estimated rank (mag): 18\n",
      "    MAG: rank 18 computed from 18 data channels with 0 projectors\n",
      "Reducing data rank from 18 -> 18\n",
      "Estimating covariance using EMPIRICAL\n",
      "Done.\n",
      "Computing rank from data with rank=None\n",
      "    Using tolerance 9.6 (2.2e-16 eps * 18 dim * 2.4e+15  max singular value)\n",
      "    Estimated rank (mag): 18\n",
      "    MAG: rank 18 computed from 18 data channels with 0 projectors\n",
      "Reducing data rank from 18 -> 18\n",
      "Estimating covariance using EMPIRICAL\n",
      "Done.\n",
      "train accuracy: 0.7699933906146729\n",
      "test accuracy: 0.7175368139223561\n"
     ]
    }
   ],
   "source": [
    "csp_bci_comp_acc = csp_train_test(train_csp_dataset_bci_comp,test_csp_dataset_bci_comp)"
   ]
  },
  {
   "cell_type": "markdown",
   "metadata": {},
   "source": [
    "### OpenBCI"
   ]
  },
  {
   "cell_type": "code",
   "execution_count": 14,
   "metadata": {},
   "outputs": [
    {
     "name": "stdout",
     "output_type": "stream",
     "text": [
      "Computing rank from data with rank=None\n",
      "    Using tolerance 2.7 (2.2e-16 eps * 18 dim * 6.6e+14  max singular value)\n",
      "    Estimated rank (mag): 18\n",
      "    MAG: rank 18 computed from 18 data channels with 0 projectors\n",
      "Reducing data rank from 18 -> 18\n",
      "Estimating covariance using EMPIRICAL\n",
      "Done.\n",
      "Computing rank from data with rank=None\n"
     ]
    },
    {
     "name": "stdout",
     "output_type": "stream",
     "text": [
      "    Using tolerance 2.6 (2.2e-16 eps * 18 dim * 6.5e+14  max singular value)\n",
      "    Estimated rank (mag): 18\n",
      "    MAG: rank 18 computed from 18 data channels with 0 projectors\n",
      "Reducing data rank from 18 -> 18\n",
      "Estimating covariance using EMPIRICAL\n",
      "Done.\n",
      "train accuracy: 0.7932692307692307\n",
      "test accuracy: 0.6105769230769231\n"
     ]
    }
   ],
   "source": [
    "csp_openbci_acc = csp_train_test(train_csp_dataset_openbci,test_csp_dataset_openbci)"
   ]
  },
  {
   "cell_type": "markdown",
   "metadata": {},
   "source": [
    "---\n",
    "## EEGNet"
   ]
  },
  {
   "cell_type": "markdown",
   "metadata": {},
   "source": [
    "#### Constants"
   ]
  },
  {
   "cell_type": "code",
   "execution_count": 15,
   "metadata": {},
   "outputs": [],
   "source": [
    "EEGNET_LR = 1E-3\n",
    "EEGNET_WEIGHT_DECAY = 1E-4"
   ]
  },
  {
   "cell_type": "markdown",
   "metadata": {},
   "source": [
    "### BCI Competition"
   ]
  },
  {
   "cell_type": "code",
   "execution_count": 16,
   "metadata": {},
   "outputs": [
    {
     "name": "stdout",
     "output_type": "stream",
     "text": [
      "(3026, 2, 512)\n",
      "(3026,)\n",
      "final data shape: (3026, 2, 512)\n",
      "(2241, 2, 512)\n",
      "(2241,)\n",
      "final data shape: (2241, 2, 512)\n"
     ]
    },
    {
     "name": "stdout",
     "output_type": "stream",
     "text": [
      "checkpointing\n",
      "Epoch [1/50], Training Loss: 0.742, Training Accuracy: 54.23%, Validation Loss: 0.655, Validation Accuracy: 59.11%\n",
      "checkpointing\n",
      "Epoch [2/50], Training Loss: 0.648, Training Accuracy: 62.86%, Validation Loss: 0.534, Validation Accuracy: 71.61%\n",
      "checkpointing\n",
      "Epoch [3/50], Training Loss: 0.609, Training Accuracy: 65.43%, Validation Loss: 0.505, Validation Accuracy: 75.18%\n",
      "Min loss: 0.5051339285714286 vs 0.5448660714285715\n",
      "Epoch [4/50], Training Loss: 0.588, Training Accuracy: 68.21%, Validation Loss: 0.545, Validation Accuracy: 71.70%\n",
      "Min loss: 0.5051339285714286 vs 0.5224330357142857\n",
      "Epoch [5/50], Training Loss: 0.573, Training Accuracy: 67.91%, Validation Loss: 0.522, Validation Accuracy: 70.98%\n",
      "Min loss: 0.5051339285714286 vs 0.5079241071428572\n",
      "Epoch [6/50], Training Loss: 0.573, Training Accuracy: 69.80%, Validation Loss: 0.508, Validation Accuracy: 71.96%\n",
      "checkpointing\n",
      "Epoch [7/50], Training Loss: 0.565, Training Accuracy: 69.33%, Validation Loss: 0.497, Validation Accuracy: 73.48%\n",
      "Min loss: 0.49720982142857145 vs 0.5065290178571429\n",
      "Epoch [8/50], Training Loss: 0.567, Training Accuracy: 69.76%, Validation Loss: 0.507, Validation Accuracy: 73.30%\n",
      "checkpointing\n",
      "Epoch [9/50], Training Loss: 0.554, Training Accuracy: 71.15%, Validation Loss: 0.493, Validation Accuracy: 73.75%\n",
      "checkpointing\n",
      "Epoch [10/50], Training Loss: 0.547, Training Accuracy: 70.98%, Validation Loss: 0.484, Validation Accuracy: 75.54%\n",
      "checkpointing\n",
      "Epoch [11/50], Training Loss: 0.535, Training Accuracy: 71.51%, Validation Loss: 0.476, Validation Accuracy: 78.04%\n",
      "Min loss: 0.4763950892857143 vs 0.5122767857142857\n",
      "Epoch [12/50], Training Loss: 0.543, Training Accuracy: 71.91%, Validation Loss: 0.512, Validation Accuracy: 72.23%\n",
      "Min loss: 0.4763950892857143 vs 0.49375\n",
      "Epoch [13/50], Training Loss: 0.529, Training Accuracy: 72.34%, Validation Loss: 0.494, Validation Accuracy: 73.04%\n",
      "Min loss: 0.4763950892857143 vs 0.486328125\n",
      "Epoch [14/50], Training Loss: 0.526, Training Accuracy: 72.50%, Validation Loss: 0.486, Validation Accuracy: 74.91%\n",
      "Min loss: 0.4763950892857143 vs 0.4806919642857143\n",
      "Epoch [15/50], Training Loss: 0.541, Training Accuracy: 72.11%, Validation Loss: 0.481, Validation Accuracy: 76.34%\n",
      "Min loss: 0.4763950892857143 vs 0.4888950892857143\n",
      "Epoch [16/50], Training Loss: 0.520, Training Accuracy: 73.89%, Validation Loss: 0.489, Validation Accuracy: 74.91%\n",
      "checkpointing\n",
      "Epoch [17/50], Training Loss: 0.502, Training Accuracy: 74.95%, Validation Loss: 0.465, Validation Accuracy: 76.88%\n",
      "Min loss: 0.46495535714285713 vs 0.47963169642857145\n",
      "Epoch [18/50], Training Loss: 0.501, Training Accuracy: 73.73%, Validation Loss: 0.480, Validation Accuracy: 75.00%\n",
      "Min loss: 0.46495535714285713 vs 0.48588169642857143\n",
      "Epoch [19/50], Training Loss: 0.497, Training Accuracy: 74.95%, Validation Loss: 0.486, Validation Accuracy: 74.11%\n",
      "checkpointing\n",
      "Epoch [20/50], Training Loss: 0.495, Training Accuracy: 74.65%, Validation Loss: 0.462, Validation Accuracy: 75.98%\n",
      "Min loss: 0.4618582589285714 vs 0.46484375\n",
      "Epoch [21/50], Training Loss: 0.494, Training Accuracy: 75.12%, Validation Loss: 0.465, Validation Accuracy: 76.07%\n",
      "checkpointing\n",
      "Epoch [22/50], Training Loss: 0.486, Training Accuracy: 75.94%, Validation Loss: 0.458, Validation Accuracy: 76.34%\n",
      "Min loss: 0.45814732142857145 vs 0.4583147321428571\n",
      "Epoch [23/50], Training Loss: 0.479, Training Accuracy: 75.94%, Validation Loss: 0.458, Validation Accuracy: 76.88%\n",
      "Min loss: 0.45814732142857145 vs 0.5066685267857143\n",
      "Epoch [24/50], Training Loss: 0.480, Training Accuracy: 75.81%, Validation Loss: 0.507, Validation Accuracy: 74.55%\n",
      "Min loss: 0.45814732142857145 vs 0.4582589285714286\n",
      "Epoch [25/50], Training Loss: 0.481, Training Accuracy: 75.91%, Validation Loss: 0.458, Validation Accuracy: 76.70%\n",
      "Min loss: 0.45814732142857145 vs 0.47416294642857143\n",
      "Epoch [26/50], Training Loss: 0.471, Training Accuracy: 77.10%, Validation Loss: 0.474, Validation Accuracy: 77.59%\n",
      "Min loss: 0.45814732142857145 vs 0.47505580357142857\n",
      "Epoch [27/50], Training Loss: 0.474, Training Accuracy: 76.54%, Validation Loss: 0.475, Validation Accuracy: 77.41%\n",
      "Min loss: 0.45814732142857145 vs 0.4654017857142857\n",
      "Epoch [28/50], Training Loss: 0.488, Training Accuracy: 75.05%, Validation Loss: 0.465, Validation Accuracy: 76.25%\n",
      "Min loss: 0.45814732142857145 vs 0.4886439732142857\n",
      "Epoch [29/50], Training Loss: 0.462, Training Accuracy: 77.07%, Validation Loss: 0.489, Validation Accuracy: 75.27%\n",
      "Min loss: 0.45814732142857145 vs 0.48208705357142856\n",
      "Epoch [30/50], Training Loss: 0.463, Training Accuracy: 77.43%, Validation Loss: 0.482, Validation Accuracy: 75.27%\n",
      "Min loss: 0.45814732142857145 vs 0.5034877232142857\n",
      "Epoch [31/50], Training Loss: 0.482, Training Accuracy: 76.44%, Validation Loss: 0.503, Validation Accuracy: 74.82%\n",
      "Min loss: 0.45814732142857145 vs 0.5012276785714286\n",
      "Epoch [32/50], Training Loss: 0.455, Training Accuracy: 76.67%, Validation Loss: 0.501, Validation Accuracy: 75.80%\n",
      "Min loss: 0.45814732142857145 vs 0.46615513392857144\n",
      "Epoch [33/50], Training Loss: 0.455, Training Accuracy: 77.26%, Validation Loss: 0.466, Validation Accuracy: 77.50%\n",
      "Min loss: 0.45814732142857145 vs 0.46593191964285713\n",
      "Epoch [34/50], Training Loss: 0.454, Training Accuracy: 77.92%, Validation Loss: 0.466, Validation Accuracy: 77.14%\n",
      "checkpointing\n",
      "Epoch [35/50], Training Loss: 0.451, Training Accuracy: 77.46%, Validation Loss: 0.455, Validation Accuracy: 77.14%\n",
      "Min loss: 0.45479910714285715 vs 0.4556361607142857\n",
      "Epoch [36/50], Training Loss: 0.454, Training Accuracy: 78.19%, Validation Loss: 0.456, Validation Accuracy: 77.50%\n",
      "Min loss: 0.45479910714285715 vs 0.4849888392857143\n",
      "Epoch [37/50], Training Loss: 0.451, Training Accuracy: 77.96%, Validation Loss: 0.485, Validation Accuracy: 75.18%\n",
      "Min loss: 0.45479910714285715 vs 0.4750279017857143\n",
      "Epoch [38/50], Training Loss: 0.461, Training Accuracy: 77.63%, Validation Loss: 0.475, Validation Accuracy: 76.52%\n",
      "Min loss: 0.45479910714285715 vs 0.48097098214285716\n",
      "Epoch [39/50], Training Loss: 0.452, Training Accuracy: 78.59%, Validation Loss: 0.481, Validation Accuracy: 75.36%\n",
      "Min loss: 0.45479910714285715 vs 0.47647879464285714\n",
      "Epoch [40/50], Training Loss: 0.432, Training Accuracy: 78.68%, Validation Loss: 0.476, Validation Accuracy: 76.70%\n",
      "Min loss: 0.45479910714285715 vs 0.47837611607142855\n",
      "Epoch [41/50], Training Loss: 0.440, Training Accuracy: 78.62%, Validation Loss: 0.478, Validation Accuracy: 75.54%\n",
      "Min loss: 0.45479910714285715 vs 0.49916294642857145\n",
      "Epoch [42/50], Training Loss: 0.433, Training Accuracy: 79.51%, Validation Loss: 0.499, Validation Accuracy: 75.62%\n",
      "Min loss: 0.45479910714285715 vs 0.4917689732142857\n",
      "Epoch [43/50], Training Loss: 0.433, Training Accuracy: 78.52%, Validation Loss: 0.492, Validation Accuracy: 76.61%\n",
      "Min loss: 0.45479910714285715 vs 0.49601004464285714\n",
      "Epoch [44/50], Training Loss: 0.433, Training Accuracy: 78.92%, Validation Loss: 0.496, Validation Accuracy: 76.52%\n",
      "Min loss: 0.45479910714285715 vs 0.47195870535714285\n",
      "Epoch [45/50], Training Loss: 0.430, Training Accuracy: 79.41%, Validation Loss: 0.472, Validation Accuracy: 77.41%\n",
      "Min loss: 0.45479910714285715 vs 0.5191964285714286\n",
      "Epoch [46/50], Training Loss: 0.433, Training Accuracy: 79.48%, Validation Loss: 0.519, Validation Accuracy: 75.62%\n",
      "Min loss: 0.45479910714285715 vs 0.5644810267857143\n",
      "Epoch [47/50], Training Loss: 0.446, Training Accuracy: 78.39%, Validation Loss: 0.564, Validation Accuracy: 72.50%\n",
      "Min loss: 0.45479910714285715 vs 0.4642578125\n",
      "Epoch [48/50], Training Loss: 0.430, Training Accuracy: 80.17%, Validation Loss: 0.464, Validation Accuracy: 78.48%\n",
      "Min loss: 0.45479910714285715 vs 0.4869977678571429\n",
      "Epoch [49/50], Training Loss: 0.436, Training Accuracy: 79.15%, Validation Loss: 0.487, Validation Accuracy: 76.61%\n",
      "Min loss: 0.45479910714285715 vs 0.5229352678571428\n",
      "Epoch [50/50], Training Loss: 0.434, Training Accuracy: 79.31%, Validation Loss: 0.523, Validation Accuracy: 74.82%\n",
      "Finished Training\n"
     ]
    }
   ],
   "source": [
    "eegnet_bci_comp = base_eegnet.EEGNet(2,224)\n",
    "eegnet_clf_bci_comp = DeepClassifier(\n",
    "\tmodel=eegnet_bci_comp,\n",
    "\tsave_paths=[REAL_DATA_BCI_COMP],\n",
    "\ttrain_split=TRAIN_SPLIT_BCI_COMP,\n",
    "\ttest_split=TEST_SPLIT_BCI_COMP,\n",
    "\tdataset=None,\n",
    "\tsubject_dataset_type=subject_dataset,\n",
    "\tchannels=CHANNELS_BCI_COMP,\n",
    "\tlength=2.05,\n",
    "\tindex_cutoff=512\n",
    ")\n",
    "\n",
    "eegnet_bci_comp_acc = eegnet_clf_bci_comp.fit(FABRIC,50,EEGNET_LR,EEGNET_WEIGHT_DECAY)"
   ]
  },
  {
   "cell_type": "markdown",
   "metadata": {},
   "source": [
    "---\n",
    "### OpenBCI"
   ]
  },
  {
   "cell_type": "code",
   "execution_count": 17,
   "metadata": {},
   "outputs": [
    {
     "name": "stdout",
     "output_type": "stream",
     "text": [
      "Loading saved data\n",
      "(1984, 2, 512)\n",
      "(1984,)\n",
      "final data shape: (1984, 2, 512)\n",
      "Loading saved data\n",
      "(992, 2, 512)\n",
      "(992,)\n",
      "final data shape: (992, 2, 512)\n",
      "checkpointing\n",
      "Epoch [1/50], Training Loss: 0.760, Training Accuracy: 49.19%, Validation Loss: 0.699, Validation Accuracy: 50.60%\n",
      "checkpointing\n",
      "Epoch [2/50], Training Loss: 0.712, Training Accuracy: 54.84%, Validation Loss: 0.693, Validation Accuracy: 54.03%\n",
      "checkpointing\n",
      "Epoch [3/50], Training Loss: 0.700, Training Accuracy: 55.04%, Validation Loss: 0.657, Validation Accuracy: 60.48%\n",
      "Min loss: 0.6572265625 vs 0.687744140625\n",
      "Epoch [4/50], Training Loss: 0.695, Training Accuracy: 57.76%, Validation Loss: 0.688, Validation Accuracy: 56.45%\n",
      "Min loss: 0.6572265625 vs 0.678466796875\n",
      "Epoch [5/50], Training Loss: 0.669, Training Accuracy: 60.23%, Validation Loss: 0.678, Validation Accuracy: 54.84%\n",
      "checkpointing\n",
      "Epoch [6/50], Training Loss: 0.651, Training Accuracy: 61.09%, Validation Loss: 0.654, Validation Accuracy: 60.69%\n",
      "checkpointing\n",
      "Epoch [7/50], Training Loss: 0.625, Training Accuracy: 65.37%, Validation Loss: 0.651, Validation Accuracy: 61.69%\n",
      "Min loss: 0.65087890625 vs 0.683349609375\n",
      "Epoch [8/50], Training Loss: 0.599, Training Accuracy: 69.30%, Validation Loss: 0.683, Validation Accuracy: 57.06%\n",
      "checkpointing\n",
      "Epoch [9/50], Training Loss: 0.558, Training Accuracy: 70.51%, Validation Loss: 0.637, Validation Accuracy: 64.92%\n",
      "Min loss: 0.63671875 vs 0.6390380859375\n",
      "Epoch [10/50], Training Loss: 0.508, Training Accuracy: 74.95%, Validation Loss: 0.639, Validation Accuracy: 62.70%\n",
      "Min loss: 0.63671875 vs 0.640380859375\n",
      "Epoch [11/50], Training Loss: 0.471, Training Accuracy: 77.42%, Validation Loss: 0.640, Validation Accuracy: 63.91%\n",
      "Min loss: 0.63671875 vs 0.67138671875\n",
      "Epoch [12/50], Training Loss: 0.464, Training Accuracy: 76.51%, Validation Loss: 0.671, Validation Accuracy: 64.11%\n",
      "Min loss: 0.63671875 vs 0.686279296875\n",
      "Epoch [13/50], Training Loss: 0.422, Training Accuracy: 81.15%, Validation Loss: 0.686, Validation Accuracy: 61.29%\n",
      "Min loss: 0.63671875 vs 0.7509765625\n",
      "Epoch [14/50], Training Loss: 0.377, Training Accuracy: 83.11%, Validation Loss: 0.751, Validation Accuracy: 60.48%\n",
      "Min loss: 0.63671875 vs 0.8006591796875\n",
      "Epoch [15/50], Training Loss: 0.350, Training Accuracy: 83.92%, Validation Loss: 0.801, Validation Accuracy: 62.70%\n",
      "Min loss: 0.63671875 vs 0.82568359375\n",
      "Epoch [16/50], Training Loss: 0.350, Training Accuracy: 84.43%, Validation Loss: 0.826, Validation Accuracy: 61.90%\n",
      "Min loss: 0.63671875 vs 0.847900390625\n",
      "Epoch [17/50], Training Loss: 0.338, Training Accuracy: 85.38%, Validation Loss: 0.848, Validation Accuracy: 61.69%\n",
      "Min loss: 0.63671875 vs 0.888916015625\n",
      "Epoch [18/50], Training Loss: 0.331, Training Accuracy: 84.83%, Validation Loss: 0.889, Validation Accuracy: 59.27%\n",
      "Min loss: 0.63671875 vs 0.801025390625\n",
      "Epoch [19/50], Training Loss: 0.320, Training Accuracy: 85.84%, Validation Loss: 0.801, Validation Accuracy: 63.31%\n",
      "Min loss: 0.63671875 vs 0.899658203125\n",
      "Epoch [20/50], Training Loss: 0.293, Training Accuracy: 87.25%, Validation Loss: 0.900, Validation Accuracy: 62.10%\n",
      "Min loss: 0.63671875 vs 0.90283203125\n",
      "Epoch [21/50], Training Loss: 0.263, Training Accuracy: 88.61%, Validation Loss: 0.903, Validation Accuracy: 61.90%\n",
      "Min loss: 0.63671875 vs 0.929443359375\n",
      "Epoch [22/50], Training Loss: 0.255, Training Accuracy: 89.67%, Validation Loss: 0.929, Validation Accuracy: 63.51%\n",
      "Min loss: 0.63671875 vs 1.056396484375\n",
      "Epoch [23/50], Training Loss: 0.262, Training Accuracy: 89.11%, Validation Loss: 1.056, Validation Accuracy: 60.08%\n",
      "Min loss: 0.63671875 vs 0.992431640625\n",
      "Epoch [24/50], Training Loss: 0.223, Training Accuracy: 90.37%, Validation Loss: 0.992, Validation Accuracy: 59.88%\n",
      "Min loss: 0.63671875 vs 0.998291015625\n",
      "Epoch [25/50], Training Loss: 0.247, Training Accuracy: 90.17%, Validation Loss: 0.998, Validation Accuracy: 59.27%\n",
      "Min loss: 0.63671875 vs 1.04736328125\n",
      "Epoch [26/50], Training Loss: 0.200, Training Accuracy: 91.68%, Validation Loss: 1.047, Validation Accuracy: 57.26%\n",
      "Min loss: 0.63671875 vs 1.138427734375\n",
      "Epoch [27/50], Training Loss: 0.233, Training Accuracy: 89.62%, Validation Loss: 1.138, Validation Accuracy: 57.86%\n",
      "Min loss: 0.63671875 vs 1.1533203125\n",
      "Epoch [28/50], Training Loss: 0.216, Training Accuracy: 91.28%, Validation Loss: 1.153, Validation Accuracy: 60.08%\n",
      "Min loss: 0.63671875 vs 1.1171875\n",
      "Epoch [29/50], Training Loss: 0.180, Training Accuracy: 92.79%, Validation Loss: 1.117, Validation Accuracy: 60.69%\n",
      "Min loss: 0.63671875 vs 1.158203125\n",
      "Epoch [30/50], Training Loss: 0.211, Training Accuracy: 91.03%, Validation Loss: 1.158, Validation Accuracy: 57.86%\n",
      "Min loss: 0.63671875 vs 1.127197265625\n",
      "Epoch [31/50], Training Loss: 0.196, Training Accuracy: 91.48%, Validation Loss: 1.127, Validation Accuracy: 60.08%\n",
      "Min loss: 0.63671875 vs 1.109130859375\n",
      "Epoch [32/50], Training Loss: 0.169, Training Accuracy: 93.20%, Validation Loss: 1.109, Validation Accuracy: 60.48%\n",
      "Min loss: 0.63671875 vs 1.3740234375\n",
      "Epoch [33/50], Training Loss: 0.170, Training Accuracy: 93.55%, Validation Loss: 1.374, Validation Accuracy: 57.86%\n",
      "Min loss: 0.63671875 vs 1.14306640625\n",
      "Epoch [34/50], Training Loss: 0.156, Training Accuracy: 94.05%, Validation Loss: 1.143, Validation Accuracy: 60.28%\n",
      "Min loss: 0.63671875 vs 1.191162109375\n",
      "Epoch [35/50], Training Loss: 0.149, Training Accuracy: 93.85%, Validation Loss: 1.191, Validation Accuracy: 58.67%\n",
      "Min loss: 0.63671875 vs 1.406494140625\n",
      "Epoch [36/50], Training Loss: 0.163, Training Accuracy: 93.50%, Validation Loss: 1.406, Validation Accuracy: 56.85%\n",
      "Min loss: 0.63671875 vs 1.2421875\n",
      "Epoch [37/50], Training Loss: 0.184, Training Accuracy: 92.69%, Validation Loss: 1.242, Validation Accuracy: 58.06%\n",
      "Min loss: 0.63671875 vs 1.16845703125\n",
      "Epoch [38/50], Training Loss: 0.152, Training Accuracy: 93.45%, Validation Loss: 1.168, Validation Accuracy: 59.68%\n",
      "Min loss: 0.63671875 vs 1.197998046875\n",
      "Epoch [39/50], Training Loss: 0.146, Training Accuracy: 94.30%, Validation Loss: 1.198, Validation Accuracy: 61.29%\n",
      "Min loss: 0.63671875 vs 1.38525390625\n",
      "Epoch [40/50], Training Loss: 0.147, Training Accuracy: 93.75%, Validation Loss: 1.385, Validation Accuracy: 55.65%\n",
      "Min loss: 0.63671875 vs 1.272705078125\n",
      "Epoch [41/50], Training Loss: 0.137, Training Accuracy: 94.91%, Validation Loss: 1.273, Validation Accuracy: 62.90%\n",
      "Min loss: 0.63671875 vs 1.256591796875\n",
      "Epoch [42/50], Training Loss: 0.138, Training Accuracy: 94.86%, Validation Loss: 1.257, Validation Accuracy: 60.48%\n",
      "Min loss: 0.63671875 vs 1.26171875\n",
      "Epoch [43/50], Training Loss: 0.146, Training Accuracy: 93.80%, Validation Loss: 1.262, Validation Accuracy: 62.70%\n",
      "Min loss: 0.63671875 vs 1.3603515625\n",
      "Epoch [44/50], Training Loss: 0.111, Training Accuracy: 95.82%, Validation Loss: 1.360, Validation Accuracy: 58.27%\n",
      "Min loss: 0.63671875 vs 1.308837890625\n",
      "Epoch [45/50], Training Loss: 0.118, Training Accuracy: 94.86%, Validation Loss: 1.309, Validation Accuracy: 62.70%\n",
      "Min loss: 0.63671875 vs 1.33642578125\n",
      "Epoch [46/50], Training Loss: 0.135, Training Accuracy: 94.91%, Validation Loss: 1.336, Validation Accuracy: 58.47%\n",
      "Min loss: 0.63671875 vs 1.421875\n",
      "Epoch [47/50], Training Loss: 0.131, Training Accuracy: 94.56%, Validation Loss: 1.422, Validation Accuracy: 58.47%\n",
      "Min loss: 0.63671875 vs 1.368896484375\n",
      "Epoch [48/50], Training Loss: 0.132, Training Accuracy: 94.76%, Validation Loss: 1.369, Validation Accuracy: 56.45%\n",
      "Min loss: 0.63671875 vs 1.47802734375\n",
      "Epoch [49/50], Training Loss: 0.138, Training Accuracy: 94.35%, Validation Loss: 1.478, Validation Accuracy: 57.26%\n",
      "Min loss: 0.63671875 vs 1.33154296875\n",
      "Epoch [50/50], Training Loss: 0.105, Training Accuracy: 96.07%, Validation Loss: 1.332, Validation Accuracy: 58.06%\n",
      "Finished Training\n"
     ]
    }
   ],
   "source": [
    "eegnet_openbci = base_eegnet.EEGNet(2,224)\n",
    "eegnet_clf_openbci = DeepClassifier(\n",
    "\tmodel=eegnet_openbci,\n",
    "\tsave_paths=[small_stride],\n",
    "\ttrain_split=train_split,\n",
    "\ttest_split=test_split,\n",
    "\tdataset=None,\n",
    "\tdataset_type=OpenBCIDataset,\n",
    "\tsubject_dataset_type=OpenBCISubject,\n",
    "\tchannels=np.arange(0,2),\n",
    "\tsubject_channels=[\"ch2\",\"ch5\"],\n",
    "\tstride=25,\n",
    "\tepoch_length=512,\n",
    "\tindex_cutoff=512\n",
    "\t)\n",
    "\n",
    "eeg_net_openbci_acc = eegnet_clf_openbci.fit(FABRIC,50,EEGNET_LR,EEGNET_WEIGHT_DECAY)"
   ]
  },
  {
   "cell_type": "markdown",
   "metadata": {},
   "source": [
    "---\n",
    "## SLC"
   ]
  },
  {
   "cell_type": "markdown",
   "metadata": {},
   "source": [
    "#### Constants and setup"
   ]
  },
  {
   "cell_type": "code",
   "execution_count": 18,
   "metadata": {},
   "outputs": [],
   "source": [
    "DIFFUSION_LR = 6E-4\n",
    "DIFFUSION_N_EPOCHS = 250\n",
    "DIFFUSION_BATCH_SIZE = 64\n",
    "\n",
    "TIME_DIM = 12\n",
    "HIDDEN_CHANNEL = 64\n",
    "KERNEL_SIZE = 65\n",
    "NUM_SCALES = 2\n",
    "DECAY_MIN = 2\n",
    "DECAY_MAX = 2\n",
    "ACTIVATION_TYPE = \"leaky_relu\"\n",
    "\n",
    "USE_FFT_CONV = KERNEL_SIZE * (2**(NUM_SCALES - 1)) >= 100\n",
    "NUM_TIMESTEPS = 1024\n",
    "SCHEDULE = \"linear\"\n",
    "START_BETA = 1E-4\n",
    "END_BETA = 8E-2"
   ]
  },
  {
   "cell_type": "code",
   "execution_count": 19,
   "metadata": {},
   "outputs": [],
   "source": [
    "def diff_train(fabric,\n",
    "\t\t\t   diffusion_model,\n",
    "\t\t\t   train_loader):\n",
    "\toptimizer = optim.AdamW(\n",
    "        diffusion_model.parameters(),\n",
    "        lr=DIFFUSION_LR,\n",
    "    )\n",
    "\n",
    "\tdiffusion_model,optimizer = fabric.setup(diffusion_model,optimizer)\n",
    "\n",
    "\ttrain_loader = fabric.setup_dataloaders(train_loader)\n",
    "\tfor i in range(DIFFUSION_N_EPOCHS):\n",
    "\t\t\t\n",
    "\t\t\tepoch_loss = []\n",
    "\t\t\tfor batch in train_loader:\n",
    "\t\t\t\t\n",
    "\t\t\t\twith fabric.autocast():\n",
    "\n",
    "\t\t\t\t\tsignal,cue = batch\n",
    "\t\t\t\t\tsignal = signal.to(torch.bfloat16)\n",
    "\t\t\t\t\tcue = cue.to(torch.bfloat16)\n",
    "\t\t\t\t\tcond = cue.unsqueeze(-1).unsqueeze(-1).repeat(1, 1, SIGNAL_LENGTH).to(DEVICE)\n",
    "\t\t\t\t\tloss = diffusion_model.train_batch(signal.to(DEVICE),\n",
    "\t\t\t\t\t\t\t\t\t\t cond=cond)\n",
    "\t\t\t\tloss = torch.mean(loss)\n",
    "\t\t\t\t\n",
    "\t\t\t\tepoch_loss.append(loss.item())\n",
    "\t\t\t\t\n",
    "\t\t\t\tfabric.backward(loss)\n",
    "\t\t\t\toptimizer.step()\n",
    "\t\t\t\toptimizer.zero_grad()\n",
    "\t\t\t\t\n",
    "\t\t\tepoch_loss = np.mean(epoch_loss)\n",
    "\n",
    "\t\t\tprint(f\"Epoch {i} loss: {epoch_loss}\")\n",
    "\n",
    "fabric_train = lambda model,loader : diff_train(FABRIC,model,loader)"
   ]
  },
  {
   "cell_type": "code",
   "execution_count": 30,
   "metadata": {},
   "outputs": [],
   "source": [
    "def diffusion_loop(\n",
    "\t\tdiffusion_dset,\n",
    "\t\tdset_path,\n",
    "\t\ttrain_split,\n",
    "\t\ttest_split,\n",
    "\t\tsave_folder,\n",
    "\t\tname,\n",
    "\t\tclf_head,\n",
    "\t\ttrain=True,\n",
    "\t\t**head_kwargs):\n",
    "\t\n",
    "\tif not os.path.isdir(save_folder):\n",
    "\t\tos.makedirs(save_folder)\n",
    "\n",
    "\tnetwork = LongConv(\n",
    "\t\t\tsignal_length=SIGNAL_LENGTH,\n",
    "\t\t\tsignal_channel=2, # The CSP classifier components\n",
    "\t\t\ttime_dim=TIME_DIM,\n",
    "\t\t\tcond_channel=network_yaml[\"cond_channel\"], # The cond channel will contain the cue (0 or 1)\n",
    "\t\t\thidden_channel=HIDDEN_CHANNEL,\n",
    "\t\t\tin_kernel_size=KERNEL_SIZE,\n",
    "\t\t\tout_kernel_size=KERNEL_SIZE,\n",
    "\t\t\tslconv_kernel_size=KERNEL_SIZE,\n",
    "\t\t\tnum_scales=NUM_SCALES,\n",
    "\t\t\tdecay_min=DECAY_MIN,\n",
    "\t\t\tdecay_max=DECAY_MAX,\n",
    "\t\t\theads=network_yaml[\"heads\"],\n",
    "\t\t\tactivation_type=ACTIVATION_TYPE,\n",
    "\t\t\tuse_fft_conv=USE_FFT_CONV,\n",
    "\t\t)\n",
    "\t\n",
    "\tnoise_sampler = WhiteNoiseProcess(1.0, SIGNAL_LENGTH)\n",
    "\n",
    "\tdiffusion_model = Diffusion(\n",
    "\t\tnetwork=network,\n",
    "\t\tdiffusion_time_steps=NUM_TIMESTEPS,\n",
    "\t\tnoise_sampler=noise_sampler,\n",
    "\t\tmal_dist_computer=noise_sampler,\n",
    "\t\tschedule=SCHEDULE,\n",
    "\t\tstart_beta=START_BETA,\n",
    "\t\tend_beta=END_BETA,\n",
    "\t)\n",
    "\n",
    "\ttrain_loader = DataLoader(\n",
    "\t\tdiffusion_dset,\n",
    "\t\tDIFFUSION_BATCH_SIZE,\n",
    "\t)\n",
    "\n",
    "\tfabric_train = lambda fabric : diff_train(fabric,diffusion_model,train_loader)\n",
    "\tif train:\n",
    "\t\tFABRIC.launch(fabric_train)\n",
    "\n",
    "\tdiff_path = os.path.join(save_folder,name)\n",
    "\n",
    "\ttorch.save(diffusion_model.state_dict(),diff_path)\n",
    "\n",
    "\tdiffusion_model.load_state_dict(torch.load(diff_path))\n",
    "\n",
    "\thead = clf_head(**head_kwargs)\n",
    "\n",
    "\tclf = DiffusionClf(diffusion_model,head,freeze=False)\n",
    "\n",
    "\tclf.to(DEVICE)\n",
    "\n",
    "\tslc_clf = DeepClassifier(\n",
    "\t\tmodel=clf.to(DEVICE),\n",
    "\t\tsave_paths=[dset_path],\n",
    "\t\tfake_data=None,\n",
    "\t\ttrain_split=train_split,\n",
    "\t\ttest_split=test_split,\n",
    "\t\t**head_kwargs\n",
    "\t)\n",
    "\n",
    "\toptimizer = optim.AdamW([\n",
    "\t\t{\"params\":slc_clf.model.model.parameters(),\"lr\":2E-5,\"weight_decay\":1E-4},\n",
    "\t\t{\"params\":slc_clf.model.clf.parameters(),\"lr\":1E-3,\"weight_decay\":1E-4}\n",
    "\t])\n",
    "\n",
    "\ttest_acc = slc_clf.fit(fabric=FABRIC,\n",
    "\t\t\t num_epochs=25,\n",
    "\t\t\t lr=1E-3,\n",
    "\t\t\t weight_decay=1E-4,\n",
    "\t\t\t verbose=True,\n",
    "\t\t\t optimizer=optimizer)\n",
    "\t\n",
    "\tprint(f\"\\n\\nTest acc: {test_acc}\")\n",
    "\n",
    "\treturn test_acc"
   ]
  },
  {
   "cell_type": "markdown",
   "metadata": {},
   "source": [
    "### BCI Competition"
   ]
  },
  {
   "cell_type": "code",
   "execution_count": 31,
   "metadata": {},
   "outputs": [
    {
     "name": "stdout",
     "output_type": "stream",
     "text": [
      "(3026, 2, 512)\n",
      "(3026,)\n",
      "final data shape: (3026, 2, 512)\n",
      "(2241, 2, 512)\n",
      "(2241,)\n",
      "final data shape: (2241, 2, 512)\n",
      "using specified optimizer\n",
      "checkpointing\n",
      "Epoch [1/25], Training Loss: 0.758, Training Accuracy: 50.26%, Validation Loss: 0.715, Validation Accuracy: 51.34%\n",
      "checkpointing\n",
      "Epoch [2/25], Training Loss: 0.698, Training Accuracy: 53.93%, Validation Loss: 0.682, Validation Accuracy: 56.52%\n",
      "checkpointing\n",
      "Epoch [3/25], Training Loss: 0.671, Training Accuracy: 59.45%, Validation Loss: 0.629, Validation Accuracy: 63.66%\n",
      "checkpointing\n",
      "Epoch [4/25], Training Loss: 0.640, Training Accuracy: 63.19%, Validation Loss: 0.580, Validation Accuracy: 66.52%\n",
      "checkpointing\n",
      "Epoch [5/25], Training Loss: 0.586, Training Accuracy: 68.08%, Validation Loss: 0.541, Validation Accuracy: 70.89%\n",
      "checkpointing\n",
      "Epoch [6/25], Training Loss: 0.564, Training Accuracy: 69.30%, Validation Loss: 0.536, Validation Accuracy: 71.16%\n",
      "Min loss: 0.5356584821428572 vs 0.5575334821428571\n",
      "Epoch [7/25], Training Loss: 0.527, Training Accuracy: 72.84%, Validation Loss: 0.558, Validation Accuracy: 71.34%\n",
      "Min loss: 0.5356584821428572 vs 0.5453125\n",
      "Epoch [8/25], Training Loss: 0.492, Training Accuracy: 75.25%, Validation Loss: 0.545, Validation Accuracy: 71.43%\n",
      "Min loss: 0.5356584821428572 vs 0.5462611607142858\n",
      "Epoch [9/25], Training Loss: 0.464, Training Accuracy: 76.93%, Validation Loss: 0.546, Validation Accuracy: 72.77%\n",
      "Min loss: 0.5356584821428572 vs 0.55\n",
      "Epoch [10/25], Training Loss: 0.437, Training Accuracy: 78.92%, Validation Loss: 0.550, Validation Accuracy: 72.41%\n",
      "Min loss: 0.5356584821428572 vs 0.5874162946428572\n",
      "Epoch [11/25], Training Loss: 0.389, Training Accuracy: 81.59%, Validation Loss: 0.587, Validation Accuracy: 72.41%\n",
      "Min loss: 0.5356584821428572 vs 0.6383928571428571\n",
      "Epoch [12/25], Training Loss: 0.344, Training Accuracy: 84.20%, Validation Loss: 0.638, Validation Accuracy: 72.23%\n",
      "Min loss: 0.5356584821428572 vs 0.6647321428571429\n",
      "Epoch [13/25], Training Loss: 0.303, Training Accuracy: 87.14%, Validation Loss: 0.665, Validation Accuracy: 71.61%\n",
      "Min loss: 0.5356584821428572 vs 0.7110491071428572\n",
      "Epoch [14/25], Training Loss: 0.271, Training Accuracy: 89.16%, Validation Loss: 0.711, Validation Accuracy: 70.00%\n",
      "Min loss: 0.5356584821428572 vs 0.8369977678571429\n",
      "Epoch [15/25], Training Loss: 0.221, Training Accuracy: 91.18%, Validation Loss: 0.837, Validation Accuracy: 69.20%\n",
      "Min loss: 0.5356584821428572 vs 0.7813058035714285\n",
      "Epoch [16/25], Training Loss: 0.198, Training Accuracy: 92.33%, Validation Loss: 0.781, Validation Accuracy: 73.12%\n",
      "Min loss: 0.5356584821428572 vs 0.7931361607142857\n",
      "Epoch [17/25], Training Loss: 0.172, Training Accuracy: 93.13%, Validation Loss: 0.793, Validation Accuracy: 72.68%\n",
      "Min loss: 0.5356584821428572 vs 0.8357142857142857\n",
      "Epoch [18/25], Training Loss: 0.132, Training Accuracy: 94.91%, Validation Loss: 0.836, Validation Accuracy: 73.12%\n",
      "Min loss: 0.5356584821428572 vs 0.9435267857142857\n",
      "Epoch [19/25], Training Loss: 0.137, Training Accuracy: 94.61%, Validation Loss: 0.944, Validation Accuracy: 71.79%\n",
      "Min loss: 0.5356584821428572 vs 0.9632254464285714\n",
      "Epoch [20/25], Training Loss: 0.105, Training Accuracy: 96.27%, Validation Loss: 0.963, Validation Accuracy: 71.61%\n",
      "Min loss: 0.5356584821428572 vs 1.3572544642857143\n",
      "Epoch [21/25], Training Loss: 0.093, Training Accuracy: 96.76%, Validation Loss: 1.357, Validation Accuracy: 65.98%\n",
      "Min loss: 0.5356584821428572 vs 0.9838169642857143\n",
      "Epoch [22/25], Training Loss: 0.097, Training Accuracy: 96.23%, Validation Loss: 0.984, Validation Accuracy: 72.32%\n",
      "Min loss: 0.5356584821428572 vs 1.0537388392857143\n",
      "Epoch [23/25], Training Loss: 0.087, Training Accuracy: 96.73%, Validation Loss: 1.054, Validation Accuracy: 72.50%\n",
      "Min loss: 0.5356584821428572 vs 1.2845424107142858\n",
      "Epoch [24/25], Training Loss: 0.078, Training Accuracy: 97.16%, Validation Loss: 1.285, Validation Accuracy: 72.05%\n",
      "Min loss: 0.5356584821428572 vs 1.1856026785714286\n",
      "Epoch [25/25], Training Loss: 0.061, Training Accuracy: 97.55%, Validation Loss: 1.186, Validation Accuracy: 70.62%\n",
      "Finished Training\n",
      "\n",
      "\n",
      "Test acc: 73.125\n"
     ]
    }
   ],
   "source": [
    "diff_bci_comp_acc = diffusion_loop(\n",
    "\tdiffusion_dset=train_dataset_bci_comp,\n",
    "\tdset_path=REAL_DATA_BCI_COMP,\n",
    "\ttrain_split=TRAIN_SPLIT_BCI_COMP,\n",
    "\ttest_split=TEST_SPLIT_BCI_COMP,\n",
    "\tsave_folder=\"results/saved_models/bci_comp\",\n",
    "\tname=\"slc_eegnet.pt\",\n",
    "\tclf_head=EEGNetHead,\n",
    "\tc_in=128,\n",
    "\td_out=256,\n",
    "\tdataset=None,\n",
    "\tsubject_dataset_type=subject_dataset,\n",
    "\tlength=2.05,\n",
    "\tindex_cutoff=512,\n",
    "\tchannels=CHANNELS_BCI_COMP,\n",
    "\ttrain=True\n",
    ")"
   ]
  },
  {
   "cell_type": "markdown",
   "metadata": {},
   "source": [
    "### OpenBCI"
   ]
  },
  {
   "cell_type": "code",
   "execution_count": 27,
   "metadata": {},
   "outputs": [
    {
     "name": "stdout",
     "output_type": "stream",
     "text": [
      "Loading saved data\n",
      "(416, 2, 512)\n",
      "(416,)\n",
      "final data shape: (416, 2, 512)\n",
      "Loading saved data\n",
      "(208, 2, 512)\n",
      "(208,)\n",
      "final data shape: (208, 2, 512)\n",
      "using specified optimizer\n",
      "checkpointing\n",
      "Epoch [1/25], Training Loss: 0.746, Training Accuracy: 55.05%, Validation Loss: 0.696, Validation Accuracy: 50.96%\n",
      "checkpointing\n",
      "Epoch [2/25], Training Loss: 0.734, Training Accuracy: 50.24%, Validation Loss: 0.691, Validation Accuracy: 45.19%\n",
      "Min loss: 0.69140625 vs 0.7060546875\n",
      "Epoch [3/25], Training Loss: 0.702, Training Accuracy: 53.12%, Validation Loss: 0.706, Validation Accuracy: 47.12%\n",
      "Min loss: 0.69140625 vs 0.7216796875\n",
      "Epoch [4/25], Training Loss: 0.679, Training Accuracy: 56.01%, Validation Loss: 0.722, Validation Accuracy: 49.04%\n",
      "Min loss: 0.69140625 vs 0.708984375\n",
      "Epoch [5/25], Training Loss: 0.684, Training Accuracy: 57.69%, Validation Loss: 0.709, Validation Accuracy: 52.88%\n",
      "Min loss: 0.69140625 vs 0.7294921875\n",
      "Epoch [6/25], Training Loss: 0.660, Training Accuracy: 61.54%, Validation Loss: 0.729, Validation Accuracy: 47.12%\n",
      "Min loss: 0.69140625 vs 0.7041015625\n",
      "Epoch [7/25], Training Loss: 0.655, Training Accuracy: 56.73%, Validation Loss: 0.704, Validation Accuracy: 50.96%\n",
      "Min loss: 0.69140625 vs 0.693359375\n",
      "Epoch [8/25], Training Loss: 0.630, Training Accuracy: 64.90%, Validation Loss: 0.693, Validation Accuracy: 45.19%\n",
      "Min loss: 0.69140625 vs 0.703125\n",
      "Epoch [9/25], Training Loss: 0.641, Training Accuracy: 62.02%, Validation Loss: 0.703, Validation Accuracy: 44.23%\n",
      "Min loss: 0.69140625 vs 0.7392578125\n",
      "Epoch [10/25], Training Loss: 0.625, Training Accuracy: 63.70%, Validation Loss: 0.739, Validation Accuracy: 40.38%\n",
      "Min loss: 0.69140625 vs 0.7333984375\n",
      "Epoch [11/25], Training Loss: 0.602, Training Accuracy: 67.07%, Validation Loss: 0.733, Validation Accuracy: 47.12%\n",
      "Min loss: 0.69140625 vs 0.7021484375\n",
      "Epoch [12/25], Training Loss: 0.633, Training Accuracy: 64.18%, Validation Loss: 0.702, Validation Accuracy: 47.12%\n",
      "Min loss: 0.69140625 vs 0.7314453125\n",
      "Epoch [13/25], Training Loss: 0.567, Training Accuracy: 70.43%, Validation Loss: 0.731, Validation Accuracy: 46.15%\n",
      "Min loss: 0.69140625 vs 0.7216796875\n",
      "Epoch [14/25], Training Loss: 0.575, Training Accuracy: 71.88%, Validation Loss: 0.722, Validation Accuracy: 50.00%\n",
      "Min loss: 0.69140625 vs 0.7890625\n",
      "Epoch [15/25], Training Loss: 0.570, Training Accuracy: 69.95%, Validation Loss: 0.789, Validation Accuracy: 39.42%\n",
      "Min loss: 0.69140625 vs 0.7568359375\n",
      "Epoch [16/25], Training Loss: 0.564, Training Accuracy: 71.39%, Validation Loss: 0.757, Validation Accuracy: 48.08%\n",
      "Min loss: 0.69140625 vs 0.810546875\n",
      "Epoch [17/25], Training Loss: 0.526, Training Accuracy: 74.52%, Validation Loss: 0.811, Validation Accuracy: 42.31%\n",
      "Min loss: 0.69140625 vs 0.8818359375\n",
      "Epoch [18/25], Training Loss: 0.519, Training Accuracy: 76.68%, Validation Loss: 0.882, Validation Accuracy: 34.62%\n",
      "Min loss: 0.69140625 vs 0.8447265625\n",
      "Epoch [19/25], Training Loss: 0.476, Training Accuracy: 79.57%, Validation Loss: 0.845, Validation Accuracy: 43.27%\n",
      "Min loss: 0.69140625 vs 0.8359375\n",
      "Epoch [20/25], Training Loss: 0.468, Training Accuracy: 79.33%, Validation Loss: 0.836, Validation Accuracy: 41.35%\n",
      "Min loss: 0.69140625 vs 0.859375\n",
      "Epoch [21/25], Training Loss: 0.462, Training Accuracy: 78.12%, Validation Loss: 0.859, Validation Accuracy: 39.42%\n",
      "Min loss: 0.69140625 vs 0.947265625\n",
      "Epoch [22/25], Training Loss: 0.469, Training Accuracy: 78.61%, Validation Loss: 0.947, Validation Accuracy: 43.27%\n",
      "Min loss: 0.69140625 vs 0.8779296875\n",
      "Epoch [23/25], Training Loss: 0.421, Training Accuracy: 84.38%, Validation Loss: 0.878, Validation Accuracy: 42.31%\n",
      "Min loss: 0.69140625 vs 0.9091796875\n",
      "Epoch [24/25], Training Loss: 0.409, Training Accuracy: 84.13%, Validation Loss: 0.909, Validation Accuracy: 41.35%\n",
      "Min loss: 0.69140625 vs 0.8447265625\n",
      "Epoch [25/25], Training Loss: 0.352, Training Accuracy: 87.50%, Validation Loss: 0.845, Validation Accuracy: 47.12%\n",
      "Finished Training\n",
      "\n",
      "\n",
      "Test acc: 52.88461538461539\n"
     ]
    }
   ],
   "source": [
    "diff_openbci_acc = diffusion_loop(\n",
    "\tdiffusion_dset=train_s25_dataset_openbci,\n",
    "\tdset_path=SAVE_PATH_OPENBCI,\n",
    "\ttrain_split=TRAIN_SPLIT_OPENBCI,\n",
    "\ttest_split=TEST_SPLIT_OPENBCI,\n",
    "\tsave_folder=\"results/saved_models/openbci\",\n",
    "\tname=\"slc_eegnet.pt\",\n",
    "\tclf_head=EEGNetHead,\n",
    "\tc_in=128,\n",
    "\td_out=256,\n",
    "\tdataset=None,\n",
    "\tdataset_type = OpenBCIDataset,\n",
    "\tsubject_dataset_type=OpenBCISubject,\n",
    "\tsubject_channels=[\"ch2\",\"ch5\"],\n",
    "\tlength=2.0,\n",
    "\tepoch_length=512,\n",
    "\tindex_cutoff=512,\n",
    "\tchannels=CHANNELS_OPENBCI,\n",
    "\ttrain=True\n",
    ")"
   ]
  },
  {
   "cell_type": "markdown",
   "metadata": {},
   "source": [
    "---"
   ]
  },
  {
   "cell_type": "markdown",
   "metadata": {},
   "source": [
    "## Results"
   ]
  },
  {
   "cell_type": "code",
   "execution_count": 23,
   "metadata": {},
   "outputs": [
    {
     "name": "stdout",
     "output_type": "stream",
     "text": [
      "\n",
      "\n",
      "BCI Competition\n",
      "--------\n",
      "CSP: 0.7175368139223561\n",
      "EEGNet: 78.48214285714286\n",
      "Pre-trained: 77.41071428571429\n",
      "\n",
      "OpenBCI\n",
      "--------\n",
      "CSP: 0.6105769230769231\n",
      "EEGNet: 64.91935483870968\n",
      "Pre-trained: 59.61538461538461\n",
      "\n",
      "\n"
     ]
    }
   ],
   "source": [
    "print(f\"\"\"\n",
    "\n",
    "BCI Competition\n",
    "--------\n",
    "CSP: {csp_bci_comp_acc}\n",
    "EEGNet: {eegnet_bci_comp_acc}\n",
    "Pre-trained: {diff_bci_comp_acc}\n",
    "\n",
    "OpenBCI\n",
    "--------\n",
    "CSP: {csp_openbci_acc}\n",
    "EEGNet: {eeg_net_openbci_acc}\n",
    "Pre-trained: {diff_openbci_acc}\n",
    "\n",
    "\"\"\")"
   ]
  },
  {
   "cell_type": "code",
   "execution_count": null,
   "metadata": {},
   "outputs": [],
   "source": []
  }
 ],
 "metadata": {
  "kernelspec": {
   "display_name": "neuro",
   "language": "python",
   "name": "python3"
  },
  "language_info": {
   "codemirror_mode": {
    "name": "ipython",
    "version": 3
   },
   "file_extension": ".py",
   "mimetype": "text/x-python",
   "name": "python",
   "nbconvert_exporter": "python",
   "pygments_lexer": "ipython3",
   "version": "3.10.12"
  }
 },
 "nbformat": 4,
 "nbformat_minor": 2
}
