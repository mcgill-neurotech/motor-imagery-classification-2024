{
 "cells": [
  {
   "cell_type": "code",
   "execution_count": 1,
   "metadata": {},
   "outputs": [
    {
     "name": "stderr",
     "output_type": "stream",
     "text": [
      "c:\\Users\\rahar\\anaconda3\\envs\\neuro\\lib\\site-packages\\torchaudio\\backend\\utils.py:74: UserWarning: No audio backend is available.\n",
      "  warnings.warn(\"No audio backend is available.\")\n"
     ]
    }
   ],
   "source": [
    "import numpy as np\n",
    "import pandas as pd\n",
    "import os\n",
    "import scipy.io\n",
    "from einops import rearrange\n",
    "import matplotlib.pyplot as plt\n",
    "import seaborn as sns\n",
    "# import pywt\n",
    "import torch\n",
    "from torch.utils.data import Dataset, DataLoader\n",
    "import torch.nn as nn\n",
    "import torch.optim as optim\n",
    "from lightning import Fabric\n",
    "from pytorch_lightning.utilities.model_summary import ModelSummary\n",
    "import lightning as L\n",
    "from einops import repeat"
   ]
  },
  {
   "cell_type": "code",
   "execution_count": 2,
   "metadata": {},
   "outputs": [],
   "source": [
    "import sys\n",
    "\n",
    "sys.path.append(\"../../../motor-imagery-classification-2024/\")\n",
    "\n",
    "from classification.loaders import EEGDataset,load_data\n",
    "from models.unet.eeg_unets import Unet,UnetConfig, BottleNeckClassifier, Unet1D\n",
    "from classification.classifiers import DeepClassifier , SimpleCSP\n",
    "from classification.loaders import subject_dataset\n",
    "from ntd.networks import SinusoidalPosEmb\n",
    "from ntd.diffusion_model import Diffusion\n",
    "from ntd.utils.kernels_and_diffusion_utils import WhiteNoiseProcess"
   ]
  },
  {
   "cell_type": "code",
   "execution_count": 3,
   "metadata": {},
   "outputs": [],
   "source": [
    "FS = 250\n",
    "DEVICE = \"cuda\"\n",
    "sns.set_style(\"darkgrid\")"
   ]
  },
  {
   "cell_type": "markdown",
   "metadata": {},
   "source": [
    "## Loading Data"
   ]
  },
  {
   "cell_type": "code",
   "execution_count": 4,
   "metadata": {},
   "outputs": [
    {
     "ename": "KeyboardInterrupt",
     "evalue": "",
     "output_type": "error",
     "traceback": [
      "\u001b[1;31m---------------------------------------------------------------------------\u001b[0m",
      "\u001b[1;31mKeyboardInterrupt\u001b[0m                         Traceback (most recent call last)",
      "Cell \u001b[1;32mIn[4], line 3\u001b[0m\n\u001b[0;32m      1\u001b[0m dataset \u001b[38;5;241m=\u001b[39m {}\n\u001b[0;32m      2\u001b[0m \u001b[38;5;28;01mfor\u001b[39;00m i \u001b[38;5;129;01min\u001b[39;00m \u001b[38;5;28mrange\u001b[39m(\u001b[38;5;241m1\u001b[39m,\u001b[38;5;241m10\u001b[39m):\n\u001b[1;32m----> 3\u001b[0m     mat_train,mat_test \u001b[38;5;241m=\u001b[39m \u001b[43mload_data\u001b[49m\u001b[43m(\u001b[49m\u001b[38;5;124;43m\"\u001b[39;49m\u001b[38;5;124;43m../../data/2b_iv\u001b[39;49m\u001b[38;5;124;43m\"\u001b[39;49m\u001b[43m,\u001b[49m\u001b[43mi\u001b[49m\u001b[43m)\u001b[49m\n\u001b[0;32m      4\u001b[0m     dataset[\u001b[38;5;124mf\u001b[39m\u001b[38;5;124m\"\u001b[39m\u001b[38;5;124msubject_\u001b[39m\u001b[38;5;132;01m{\u001b[39;00mi\u001b[38;5;132;01m}\u001b[39;00m\u001b[38;5;124m\"\u001b[39m] \u001b[38;5;241m=\u001b[39m {\u001b[38;5;124m\"\u001b[39m\u001b[38;5;124mtrain\u001b[39m\u001b[38;5;124m\"\u001b[39m:mat_train,\u001b[38;5;124m\"\u001b[39m\u001b[38;5;124mtest\u001b[39m\u001b[38;5;124m\"\u001b[39m:mat_test}\n\u001b[0;32m      6\u001b[0m REAL_DATA \u001b[38;5;241m=\u001b[39m \u001b[38;5;124m\"\u001b[39m\u001b[38;5;124m../../data/2b_iv/raw\u001b[39m\u001b[38;5;124m\"\u001b[39m\n",
      "File \u001b[1;32md:\\Machine learning\\MI SSL\\motor-imagery-classification-2024\\models\\diffusion\\../../../motor-imagery-classification-2024\\classification\\loaders.py:24\u001b[0m, in \u001b[0;36mload_data\u001b[1;34m(folder, idx)\u001b[0m\n\u001b[0;32m     22\u001b[0m path_train \u001b[38;5;241m=\u001b[39m os\u001b[38;5;241m.\u001b[39mpath\u001b[38;5;241m.\u001b[39mjoin(folder,\u001b[38;5;124mf\u001b[39m\u001b[38;5;124m\"\u001b[39m\u001b[38;5;124mB0\u001b[39m\u001b[38;5;132;01m{\u001b[39;00midx\u001b[38;5;132;01m}\u001b[39;00m\u001b[38;5;124mT.mat\u001b[39m\u001b[38;5;124m\"\u001b[39m)\n\u001b[0;32m     23\u001b[0m path_test \u001b[38;5;241m=\u001b[39m os\u001b[38;5;241m.\u001b[39mpath\u001b[38;5;241m.\u001b[39mjoin(folder,\u001b[38;5;124mf\u001b[39m\u001b[38;5;124m\"\u001b[39m\u001b[38;5;124mB0\u001b[39m\u001b[38;5;132;01m{\u001b[39;00midx\u001b[38;5;132;01m}\u001b[39;00m\u001b[38;5;124mE.mat\u001b[39m\u001b[38;5;124m\"\u001b[39m)\n\u001b[1;32m---> 24\u001b[0m mat_train \u001b[38;5;241m=\u001b[39m \u001b[43mscipy\u001b[49m\u001b[38;5;241;43m.\u001b[39;49m\u001b[43mio\u001b[49m\u001b[38;5;241;43m.\u001b[39;49m\u001b[43mloadmat\u001b[49m\u001b[43m(\u001b[49m\u001b[43mpath_train\u001b[49m\u001b[43m)\u001b[49m[\u001b[38;5;124m\"\u001b[39m\u001b[38;5;124mdata\u001b[39m\u001b[38;5;124m\"\u001b[39m]\n\u001b[0;32m     25\u001b[0m mat_test \u001b[38;5;241m=\u001b[39m scipy\u001b[38;5;241m.\u001b[39mio\u001b[38;5;241m.\u001b[39mloadmat(path_test)[\u001b[38;5;124m\"\u001b[39m\u001b[38;5;124mdata\u001b[39m\u001b[38;5;124m\"\u001b[39m]\n\u001b[0;32m     26\u001b[0m \u001b[38;5;28;01mreturn\u001b[39;00m mat_train,mat_test\n",
      "File \u001b[1;32mc:\\Users\\rahar\\anaconda3\\envs\\neuro\\lib\\site-packages\\scipy\\io\\matlab\\_mio.py:227\u001b[0m, in \u001b[0;36mloadmat\u001b[1;34m(file_name, mdict, appendmat, **kwargs)\u001b[0m\n\u001b[0;32m    225\u001b[0m \u001b[38;5;28;01mwith\u001b[39;00m _open_file_context(file_name, appendmat) \u001b[38;5;28;01mas\u001b[39;00m f:\n\u001b[0;32m    226\u001b[0m     MR, _ \u001b[38;5;241m=\u001b[39m mat_reader_factory(f, \u001b[38;5;241m*\u001b[39m\u001b[38;5;241m*\u001b[39mkwargs)\n\u001b[1;32m--> 227\u001b[0m     matfile_dict \u001b[38;5;241m=\u001b[39m \u001b[43mMR\u001b[49m\u001b[38;5;241;43m.\u001b[39;49m\u001b[43mget_variables\u001b[49m\u001b[43m(\u001b[49m\u001b[43mvariable_names\u001b[49m\u001b[43m)\u001b[49m\n\u001b[0;32m    229\u001b[0m \u001b[38;5;28;01mif\u001b[39;00m mdict \u001b[38;5;129;01mis\u001b[39;00m \u001b[38;5;129;01mnot\u001b[39;00m \u001b[38;5;28;01mNone\u001b[39;00m:\n\u001b[0;32m    230\u001b[0m     mdict\u001b[38;5;241m.\u001b[39mupdate(matfile_dict)\n",
      "File \u001b[1;32mc:\\Users\\rahar\\anaconda3\\envs\\neuro\\lib\\site-packages\\scipy\\io\\matlab\\_mio5.py:330\u001b[0m, in \u001b[0;36mMatFile5Reader.get_variables\u001b[1;34m(self, variable_names)\u001b[0m\n\u001b[0;32m    328\u001b[0m     \u001b[38;5;28;01mcontinue\u001b[39;00m\n\u001b[0;32m    329\u001b[0m \u001b[38;5;28;01mtry\u001b[39;00m:\n\u001b[1;32m--> 330\u001b[0m     res \u001b[38;5;241m=\u001b[39m \u001b[38;5;28;43mself\u001b[39;49m\u001b[38;5;241;43m.\u001b[39;49m\u001b[43mread_var_array\u001b[49m\u001b[43m(\u001b[49m\u001b[43mhdr\u001b[49m\u001b[43m,\u001b[49m\u001b[43m \u001b[49m\u001b[43mprocess\u001b[49m\u001b[43m)\u001b[49m\n\u001b[0;32m    331\u001b[0m \u001b[38;5;28;01mexcept\u001b[39;00m MatReadError \u001b[38;5;28;01mas\u001b[39;00m err:\n\u001b[0;32m    332\u001b[0m     warnings\u001b[38;5;241m.\u001b[39mwarn(\n\u001b[0;32m    333\u001b[0m         \u001b[38;5;124m'\u001b[39m\u001b[38;5;124mUnreadable variable \u001b[39m\u001b[38;5;124m\"\u001b[39m\u001b[38;5;132;01m%s\u001b[39;00m\u001b[38;5;124m\"\u001b[39m\u001b[38;5;124m, because \u001b[39m\u001b[38;5;124m\"\u001b[39m\u001b[38;5;132;01m%s\u001b[39;00m\u001b[38;5;124m\"\u001b[39m\u001b[38;5;124m'\u001b[39m \u001b[38;5;241m%\u001b[39m\n\u001b[0;32m    334\u001b[0m         (name, err),\n\u001b[0;32m    335\u001b[0m         \u001b[38;5;167;01mWarning\u001b[39;00m, stacklevel\u001b[38;5;241m=\u001b[39m\u001b[38;5;241m2\u001b[39m)\n",
      "File \u001b[1;32mc:\\Users\\rahar\\anaconda3\\envs\\neuro\\lib\\site-packages\\scipy\\io\\matlab\\_mio5.py:290\u001b[0m, in \u001b[0;36mMatFile5Reader.read_var_array\u001b[1;34m(self, header, process)\u001b[0m\n\u001b[0;32m    273\u001b[0m \u001b[38;5;28;01mdef\u001b[39;00m \u001b[38;5;21mread_var_array\u001b[39m(\u001b[38;5;28mself\u001b[39m, header, process\u001b[38;5;241m=\u001b[39m\u001b[38;5;28;01mTrue\u001b[39;00m):\n\u001b[0;32m    274\u001b[0m \u001b[38;5;250m    \u001b[39m\u001b[38;5;124;03m''' Read array, given `header`\u001b[39;00m\n\u001b[0;32m    275\u001b[0m \n\u001b[0;32m    276\u001b[0m \u001b[38;5;124;03m    Parameters\u001b[39;00m\n\u001b[1;32m   (...)\u001b[0m\n\u001b[0;32m    288\u001b[0m \u001b[38;5;124;03m       `process`.\u001b[39;00m\n\u001b[0;32m    289\u001b[0m \u001b[38;5;124;03m    '''\u001b[39;00m\n\u001b[1;32m--> 290\u001b[0m     \u001b[38;5;28;01mreturn\u001b[39;00m \u001b[38;5;28;43mself\u001b[39;49m\u001b[38;5;241;43m.\u001b[39;49m\u001b[43m_matrix_reader\u001b[49m\u001b[38;5;241;43m.\u001b[39;49m\u001b[43marray_from_header\u001b[49m\u001b[43m(\u001b[49m\u001b[43mheader\u001b[49m\u001b[43m,\u001b[49m\u001b[43m \u001b[49m\u001b[43mprocess\u001b[49m\u001b[43m)\u001b[49m\n",
      "File \u001b[1;32m_mio5_utils.pyx:665\u001b[0m, in \u001b[0;36mscipy.io.matlab._mio5_utils.VarReader5.array_from_header\u001b[1;34m()\u001b[0m\n",
      "File \u001b[1;32m_mio5_utils.pyx:710\u001b[0m, in \u001b[0;36mscipy.io.matlab._mio5_utils.VarReader5.array_from_header\u001b[1;34m()\u001b[0m\n",
      "File \u001b[1;32m_mio5_utils.pyx:885\u001b[0m, in \u001b[0;36mscipy.io.matlab._mio5_utils.VarReader5.read_cells\u001b[1;34m()\u001b[0m\n",
      "File \u001b[1;32m_mio5_utils.pyx:663\u001b[0m, in \u001b[0;36mscipy.io.matlab._mio5_utils.VarReader5.read_mi_matrix\u001b[1;34m()\u001b[0m\n",
      "File \u001b[1;32m_mio5_utils.pyx:712\u001b[0m, in \u001b[0;36mscipy.io.matlab._mio5_utils.VarReader5.array_from_header\u001b[1;34m()\u001b[0m\n",
      "File \u001b[1;32m_mio5_utils.pyx:956\u001b[0m, in \u001b[0;36mscipy.io.matlab._mio5_utils.VarReader5.read_struct\u001b[1;34m()\u001b[0m\n",
      "File \u001b[1;32m_mio5_utils.pyx:663\u001b[0m, in \u001b[0;36mscipy.io.matlab._mio5_utils.VarReader5.read_mi_matrix\u001b[1;34m()\u001b[0m\n",
      "File \u001b[1;32m_mio5_utils.pyx:710\u001b[0m, in \u001b[0;36mscipy.io.matlab._mio5_utils.VarReader5.array_from_header\u001b[1;34m()\u001b[0m\n",
      "File \u001b[1;32m_mio5_utils.pyx:885\u001b[0m, in \u001b[0;36mscipy.io.matlab._mio5_utils.VarReader5.read_cells\u001b[1;34m()\u001b[0m\n",
      "File \u001b[1;32m_mio5_utils.pyx:663\u001b[0m, in \u001b[0;36mscipy.io.matlab._mio5_utils.VarReader5.read_mi_matrix\u001b[1;34m()\u001b[0m\n",
      "File \u001b[1;32m_mio5_utils.pyx:706\u001b[0m, in \u001b[0;36mscipy.io.matlab._mio5_utils.VarReader5.array_from_header\u001b[1;34m()\u001b[0m\n",
      "File \u001b[1;32m_mio5_utils.pyx:867\u001b[0m, in \u001b[0;36mscipy.io.matlab._mio5_utils.VarReader5.read_char\u001b[1;34m()\u001b[0m\n",
      "\u001b[1;31mKeyboardInterrupt\u001b[0m: "
     ]
    }
   ],
   "source": [
    "dataset = {}\n",
    "for i in range(1,10):\n",
    "    mat_train,mat_test = load_data(\"../../data/2b_iv\",i)\n",
    "    dataset[f\"subject_{i}\"] = {\"train\":mat_train,\"test\":mat_test}\n",
    "\n",
    "REAL_DATA = \"../../data/2b_iv/raw\"\n",
    "\n",
    "TRAIN_SPLIT = 3*[[]] + 6*[[\"train\",\"test\"]] + 3*[[]]\n",
    "TEST_SPLIT = 3*[[\"test\",\"train\"]]+ 3*[[]] +3*[[\"test\",\"train\"]]\n",
    "SAVE_PATH = \"../../saved_models/unet\"\n",
    "if not os.path.isdir(SAVE_PATH):\n",
    "\tos.makedirs(SAVE_PATH)\n",
    "\n",
    "CHANNELS = [0,1,2]\n",
    "\n",
    "train_dataset = EEGDataset(subject_splits=TRAIN_SPLIT,\n",
    "                    dataset=None,\n",
    "                    save_paths=[REAL_DATA],\n",
    "                    dataset_type=subject_dataset,\n",
    "                    channels=CHANNELS,\n",
    "                    sanity_check=False,\n",
    "                    length=2.05)\n",
    "\n",
    "test_dataset = EEGDataset(subject_splits=TEST_SPLIT,\n",
    "                    dataset=None,\n",
    "                    save_paths=[REAL_DATA],\n",
    "                    channels=CHANNELS,\n",
    "                    sanity_check=False,\n",
    "                    length=2.05)"
   ]
  },
  {
   "cell_type": "markdown",
   "metadata": {},
   "source": [
    "## Defining diffusion model"
   ]
  },
  {
   "cell_type": "code",
   "execution_count": null,
   "metadata": {},
   "outputs": [],
   "source": [
    "@torch.jit.script\n",
    "def double_inputs(x:torch.Tensor,\n",
    "\t\t\t\t  t:torch.Tensor,\n",
    "\t\t\t\t  cond:torch.Tensor):\n",
    "\t\n",
    "\tx = torch.cat([x,x],0)\n",
    "\tt = torch.cat([t,t],0)\n",
    "\tcond = torch.cat([cond,0*cond],0)\n",
    "\treturn x,t,cond"
   ]
  },
  {
   "cell_type": "code",
   "execution_count": null,
   "metadata": {},
   "outputs": [],
   "source": [
    "@torch.jit.script\n",
    "def dedouble_outputs(x:torch.Tensor,\n",
    "\t\t\t\t\t w:float):\n",
    "\t\n",
    "\tconditional = x[0:len(x)//2]\n",
    "\tunconditinoal = x[len(x)//2:]\n",
    "\treturn (1+w)*conditional-w*unconditinoal"
   ]
  },
  {
   "cell_type": "code",
   "execution_count": null,
   "metadata": {},
   "outputs": [],
   "source": [
    "from lightning import LightningDataModule\n",
    "\n",
    "\n",
    "from models.unet.eeg_unets import (UnetConfig,\n",
    "\t\t\t\t\t\t\t\t   Encode,\n",
    "\t\t\t\t\t\t\t\t   Decode,\n",
    "\t\t\t\t\t\t\t\t   ConvConfig,\n",
    "\t\t\t\t\t\t\t\t   EncodeConfig,\n",
    "\t\t\t\t\t\t\t\t   DecodeConfig,\n",
    "\t\t\t\t\t\t\t\t   Convdown)\n",
    "\n",
    "\n",
    "class DiffusionUnet(L.LightningModule):\n",
    "\n",
    "\t\"\"\"\n",
    "\tbase Unet model with adaptable topology and dimension in nnUnet style.\n",
    "\t\n",
    "\tAttributes:\n",
    "\t\tconfig: configuration for Unet\n",
    "\t\n",
    "\t\"\"\"\n",
    "\n",
    "\tdef __init__(self,\n",
    "\t\t\t\t config: UnetConfig,\n",
    "\t\t\t\t classifier: L.LightningDataModule,\n",
    "\t\t\t\t time_dim=12,\n",
    "\t\t\t\t ):\n",
    "\t\t\n",
    "\t\tsuper().__init__()\n",
    "\n",
    "\t\tself.time_dim = 12\n",
    "\t\tself.time_embbeder = SinusoidalPosEmb(time_dim)\n",
    "\t\tself.class_dim = 1\n",
    "\t\tself.signal_length = config.input_shape\n",
    "\t\tself.input_features = [config.starting_channels]\n",
    "\t\tself.signal_channel = config.input_channels\n",
    "\t\tsize = torch.tensor(config.input_shape)\n",
    "\n",
    "\t\tself.class_embed_product = nn.Linear(1,config.input_channels,\n",
    "\t\t\t\t\t\t\t\t\t   bias=True)\n",
    "\t\tself.class_embed_addition = nn.Linear(1,config.input_channels,\n",
    "\t\t\t\t\t\t\t\t\t   bias=False)\n",
    "\n",
    "\t\t\"\"\"\n",
    "\t\tpossible input shapes:\n",
    "\t\t1. N x D x L\n",
    "\t\t\tstarting with N examples D=2 (2 electrodes) with length L (time)\n",
    "\t\t\tgoing to N x 32 x L after 1st layer\n",
    "\t\t\t\n",
    "\t\t2. N X D x C x L\n",
    "\t\t\tstarting with N examples D = 1 (one feature) with 2 electrodes with lenght L\n",
    "\t\t\tgoing to N x 32 x 2 x L\n",
    "\n",
    "\t\t3. N x D x C x F x L\n",
    "\t\t\tN examples D =1 feature 2 electrodes x frequency x L\n",
    "\n",
    "\t\t4. N x D x F x L\n",
    "\t\t\twe don't do the distinction between channels and features but add a frequency dimension\n",
    "\t\t\"\"\"\n",
    "\n",
    "\t\t# can't divice 0-d tensor\n",
    "\t\tget_min = lambda x: min(x) if len(size.shape)>0 else x\n",
    "\n",
    "\t\twhile (get_min(size) > 8) & (len(self.input_features)<=6):\n",
    "\t\t\tif 2*self.input_features[-1] < config.max_channels:\n",
    "\t\t\t\tself.input_features.append(2*self.input_features[-1])\n",
    "\t\t\telse:\n",
    "\t\t\t\tself.input_features.append(config.max_channels)\n",
    "\t\t\tsize = size/config.pool_fact\n",
    "\n",
    "\t\tself.encoder = nn.ModuleList()\n",
    "\t\tself.decoder = nn.ModuleList()\n",
    "\t\tself.out_shape = [get_min(size),self.input_features[-1]]\n",
    "\n",
    "\t\t# input_channels = [32, 64, 128, 256,256....]\n",
    "\n",
    "\t\tself.auxiliary_clf = classifier\n",
    "\n",
    "\t\tself.base_conv_config = ConvConfig(\n",
    "\t\t\tinput_channels=1,\n",
    "\t\t\toutput_channels=1,\n",
    "\t\t\tconv_op=config.conv_op,\n",
    "\t\t\tnorm_op=config.norm_op,\n",
    "\t\t\tnon_lin=config.non_lin,\n",
    "\t\t\tgroups=config.conv_group,\n",
    "\t\t\tpadding=config.conv_padding,\n",
    "\t\t\tkernel_size=config.conv_kernel,\n",
    "\t\t\tpool_fact=config.pool_fact,\n",
    "\t\t\tpool_op=config.pool_op,\n",
    "\t\t\tresidual=config.residual,\n",
    "\t\t\tp_drop=config.conv_pdrop\n",
    "\t\t)\n",
    "\n",
    "\t\tself.base_decode_config = DecodeConfig(\n",
    "\t\t\tx_channels=1,\n",
    "\t\t\tg_channels=1,\n",
    "\t\t\toutput_channels=1,\n",
    "\t\t\tup_conv=config.up_op,\n",
    "\t\t\tgroups=config.deconv_group,\n",
    "\t\t\tpadding=config.deconv_padding,\n",
    "\t\t\tkernel_size=config.deconv_kernel,\n",
    "\t\t\tstride=config.deconv_stride,\n",
    "\t\t\tconv_config=self.base_conv_config\n",
    "\t\t)\n",
    "\n",
    "\t\tinput_channels = config.input_channels + self.time_dim\n",
    "\n",
    "\t\tfor idx,i in enumerate(self.input_features[:-1]):\n",
    "\t\t\tencode_config = self.base_conv_config.new_shapes(input_channels,i)\n",
    "\t\t\tself.encoder.append(Encode(encode_config))\n",
    "\t\t\tinput_channels = i\n",
    "\n",
    "\t\tbottleneck_conv_config = self.base_conv_config.new_shapes(\n",
    "\t\t\tinput_channels=self.input_features[-2],\n",
    "\t\t\touput_channels=self.input_features[-1]\n",
    "\t\t)\n",
    "\n",
    "\t\tself.middle_conv = Convdown(bottleneck_conv_config)\n",
    "\n",
    "\t\toutput_features = self.input_features[::-1]\n",
    "\n",
    "\t\tfor i in range(len(self.input_features)-1):\n",
    "\n",
    "\t\t\tdecode_config = self.base_decode_config.new_shapes(\n",
    "\t\t\t\tx_channels=output_features[i+1],\n",
    "\t\t\t\tg_channels=output_features[i],\n",
    "\t\t\t\toutput_channels=output_features[i+1]\n",
    "\t\t\t)\n",
    "\n",
    "\t\t\tself.decoder.append(Decode(decode_config))\n",
    "\n",
    "\t\tself.output_conv = config.conv_op(config.starting_channels,config.input_channels,1)\n",
    "\n",
    "\tdef forward(self,\n",
    "\t\t\t x,\n",
    "\t\t\t t,\n",
    "\t\t\t cond):\n",
    "\n",
    "\t\t\"\"\"\n",
    "\t\tFull U-net forward pass to get the reconstructed datas\n",
    "\t\t\"\"\"\n",
    "\t\t\n",
    "\t\tfactor = repeat(self.class_embed_product(cond[...,0]),\"b d -> b d l\",l=x.shape[-1])\n",
    "\t\tbias = repeat(self.class_embed_addition(cond[...,0]),\"b d -> b d l\",l=x.shape[-1])\n",
    "\t\tx = x*factor+bias\n",
    "\t\tif self.time_embbeder is not None:\n",
    "\t\t\ttime_emb = self.time_embbeder(t)  # (-1, time_dim)\n",
    "\t\t\ttime_emb_repeat = repeat(time_emb, \"b t -> b t l\", l=x.shape[2])\n",
    "\t\t\tx = torch.cat([x, time_emb_repeat], dim=1)\n",
    "\n",
    "\t\tskip_connections = []\n",
    "\t\tfor encode in self.encoder:\n",
    "\t\t\tx,skip = encode(x)\n",
    "\t\t\tskip_connections.append(skip)\n",
    "\n",
    "\t\tx = self.middle_conv(x)\n",
    "\n",
    "\t\tfor decode,skip in zip(self.decoder,reversed(skip_connections)):\n",
    "\t\t\tx = decode(skip,x)\n",
    "\n",
    "\t\tx = self.output_conv(x)\n",
    "\t\treturn x\n",
    "\t\n",
    "\tdef conditional_forward(self,\n",
    "\t\t\t x,\n",
    "\t\t\t t,\n",
    "\t\t\t cond,\n",
    "\t\t\t w):\n",
    "\n",
    "\t\t\"\"\"\n",
    "\t\tFull U-net forward pass to get the reconstructed datas\n",
    "\t\t\"\"\"\n",
    "\n",
    "\t\tn = len(x)\n",
    "\t\tx,t,cond = double_inputs(x,t,cond)\n",
    "\t\tx = self.forward(x,t,cond)\n",
    "\t\tx = dedouble_outputs(x,w)\n",
    "\t\treturn x\n",
    "\t\n",
    "\tdef classify(self,x):\n",
    "\n",
    "\t\tcond = torch.zeros((x.shape[0],1,x.shape[-1]),device=x.device)\n",
    "\t\tfactor = repeat(self.class_embed_product(cond[...,0]),\"b d -> b d l\",l=x.shape[-1])\n",
    "\t\tbias = repeat(self.class_embed_addition(cond[...,0]),\"b d -> b d l\",l=x.shape[-1])\n",
    "\t\tx = x*factor+bias\n",
    "\t\tt = torch.zeros((len(x)),device=x.device)\n",
    "\t\tif self.time_embbeder is not None:\n",
    "\t\t\ttime_emb = self.time_embbeder(t)\n",
    "\t\t\ttime_emb_repeat = repeat(time_emb, \"b t -> b t l\", l=x.shape[2])\n",
    "\t\t\tx = torch.cat([x, time_emb_repeat], dim=1)\n",
    "\n",
    "\t\tskip_connections = []\n",
    "\t\tfor encode in self.encoder:\n",
    "\t\t\tx,skip = encode(x)\n",
    "\t\t\tskip_connections.append(skip)\n",
    "\n",
    "\t\tx = self.middle_conv(x)\n",
    "\t\ty = self.auxiliary_clf(x)\n",
    "\n",
    "\t\treturn y"
   ]
  },
  {
   "cell_type": "code",
   "execution_count": null,
   "metadata": {},
   "outputs": [],
   "source": [
    "Unet1D = UnetConfig(\n",
    "\tinput_shape=(512),\n",
    "\tinput_channels=3,\n",
    "\tconv_op=nn.Conv1d,\n",
    "\tnorm_op=nn.InstanceNorm1d,\n",
    "\tnon_lin=nn.ReLU,\n",
    "\tpool_op=nn.AvgPool1d,\n",
    "\tup_op=nn.ConvTranspose1d,\n",
    "\tstarting_channels=32,\n",
    "\tmax_channels=256,\n",
    "\tconv_group=1,\n",
    "\tconv_padding=(1),\n",
    "\tconv_kernel=(3),\n",
    "\tpool_fact=2,\n",
    "\tdeconv_group=1,\n",
    "\tdeconv_padding=(0),\n",
    "\tdeconv_kernel=(2),\n",
    "\tdeconv_stride=(2),\n",
    "\tresidual=True\n",
    ")"
   ]
  },
  {
   "cell_type": "code",
   "execution_count": null,
   "metadata": {},
   "outputs": [],
   "source": [
    "classifier = BottleNeckClassifier((2048,1024))\n",
    "unet_1d = DiffusionUnet(Unet1D,classifier)"
   ]
  },
  {
   "cell_type": "markdown",
   "metadata": {},
   "source": [
    "## Training"
   ]
  },
  {
   "cell_type": "code",
   "execution_count": null,
   "metadata": {},
   "outputs": [],
   "source": [
    "lr = 6E-4\n",
    "num_epochs = 180\n",
    "time_dim = 12\n",
    "decay_min = 2\n",
    "decay_max = 2\n",
    "activation_type = \"leaky_relu\"\n",
    "num_timesteps = 250\n",
    "schedule = \"linear\"\n",
    "batch_size = 64\n",
    "# If the schedule is not cosine, we need to test the end_beta\n",
    "start_beta = 0.0001\n",
    "end_beta = 0.08\n",
    "\t\t\n",
    "train_loader = DataLoader(\n",
    "\ttrain_dataset,\n",
    "\tbatch_size,\n",
    ")"
   ]
  },
  {
   "cell_type": "code",
   "execution_count": null,
   "metadata": {},
   "outputs": [
    {
     "data": {
      "text/plain": [
       "512"
      ]
     },
     "execution_count": 11,
     "metadata": {},
     "output_type": "execute_result"
    }
   ],
   "source": [
    "unet_1d.signal_length"
   ]
  },
  {
   "cell_type": "code",
   "execution_count": null,
   "metadata": {},
   "outputs": [],
   "source": [
    "# Optimizer (also testing learning rate here)\n",
    "def train(fabric,\n",
    "\t\t  num_epochs):\n",
    "\t\t\n",
    "\tnoise_sampler = WhiteNoiseProcess(1.0, 512)\n",
    "\n",
    "\tdiffusion_model = Diffusion(\n",
    "\t\tnetwork=unet_1d,\n",
    "\t\tdiffusion_time_steps=num_timesteps,\n",
    "\t\tnoise_sampler=noise_sampler,\n",
    "\t\tmal_dist_computer=noise_sampler,\n",
    "\t\tschedule=schedule,\n",
    "\t\tstart_beta=start_beta,\n",
    "\t\tend_beta=end_beta,\n",
    "\t)\n",
    "\toptimizer = optim.AdamW(\n",
    "\t\tunet_1d.parameters(),\n",
    "\t\tlr=lr,\n",
    "\t)\n",
    "\n",
    "\ttrain_loader = DataLoader(\n",
    "\t\ttrain_dataset,\n",
    "\t\tbatch_size,\n",
    "\t)\n",
    "\t\t\n",
    "\tdiffusion_model,optimizer = fabric.setup(diffusion_model,optimizer)\n",
    "\ttrain_loader = fabric.setup_dataloaders(train_loader)\n",
    "\n",
    "\tloss_per_epoch = []\n",
    "\n",
    "\tstop_counter = 0\n",
    "\tmin_delta = 0.05\n",
    "\ttolerance = 30\n",
    "\t\t\t\n",
    "\t\t# Train model\n",
    "\tfor i in range(num_epochs):\n",
    "\t\t\n",
    "\t\tepoch_loss = []\n",
    "\t\tfor batch in train_loader:\n",
    "\t\t\t\n",
    "\t\t\twith fabric.autocast():\n",
    "\t\t\t# Repeat the cue signal to match the signal length\n",
    "\t\t\t\t# print(batch[\"signal\"].shape)\n",
    "\t\t\t\tsignal,cue = batch\n",
    "\t\t\t\tcue = (cue + 1).to(signal.dtype)\n",
    "\t\t\t\tcond = cue.unsqueeze(-1).unsqueeze(-1).repeat(1, 1, 512).to(DEVICE)\n",
    "\t\t\t\t\n",
    "\t\t\t\tloss = diffusion_model.train_batch(signal.to(DEVICE), cond=cond,\n",
    "\t\t\t\t\t\t\t\t\t   p_uncond=0.15)\n",
    "\t\t\tloss = torch.mean(loss)\n",
    "\t\t\t\n",
    "\t\t\tepoch_loss.append(loss.item())\n",
    "\t\t\t\n",
    "\t\t\tfabric.backward(loss)\n",
    "\t\t\t# loss.backward()\n",
    "\t\t\toptimizer.step()\n",
    "\t\t\toptimizer.zero_grad()\n",
    "\t\t\t\n",
    "\t\tepoch_loss = np.mean(epoch_loss)\n",
    "\t\tloss_per_epoch.append(epoch_loss)\n",
    "\t\t\n",
    "\t\tprint(f\"Epoch {i} loss: {epoch_loss}\")\n",
    "\n",
    "\t\tprint(f\"diff: {epoch_loss - min(loss_per_epoch)}\")\n",
    "\n",
    "\t\tif epoch_loss - min(loss_per_epoch) >= min_delta*min(loss_per_epoch):\n",
    "\t\t\tstop_counter += 1\n",
    "\t\tif stop_counter > tolerance:\n",
    "\t\t\tbreak\n",
    "\ttorch.save(diffusion_model.state_dict(),os.path.join(SAVE_PATH,\"unet_diff.pt\"))\n",
    "\ttorch.save(unet_1d.state_dict(),os.path.join(SAVE_PATH,\"unet_state_dict.pt\"))\n",
    "\treturn diffusion_model"
   ]
  },
  {
   "cell_type": "code",
   "execution_count": null,
   "metadata": {},
   "outputs": [
    {
     "name": "stderr",
     "output_type": "stream",
     "text": [
      "Using bfloat16 Automatic Mixed Precision (AMP)\n"
     ]
    }
   ],
   "source": [
    "FABRIC = Fabric(accelerator=\"cuda\",precision=\"bf16-mixed\")"
   ]
  },
  {
   "cell_type": "markdown",
   "metadata": {},
   "source": [
    "## Diffusion"
   ]
  },
  {
   "cell_type": "code",
   "execution_count": null,
   "metadata": {},
   "outputs": [
    {
     "name": "stderr",
     "output_type": "stream",
     "text": [
      "You are using a CUDA device ('NVIDIA GeForce RTX 3090') that has Tensor Cores. To properly utilize them, you should set `torch.set_float32_matmul_precision('medium' | 'high')` which will trade-off precision for performance. For more details, read https://pytorch.org/docs/stable/generated/torch.set_float32_matmul_precision.html#torch.set_float32_matmul_precision\n"
     ]
    },
    {
     "name": "stdout",
     "output_type": "stream",
     "text": [
      "Epoch 0 loss: 1400.421052631579\n",
      "diff: 0.0\n",
      "Epoch 1 loss: 1122.5263157894738\n",
      "diff: 0.0\n",
      "Epoch 2 loss: 909.6140350877193\n",
      "diff: 0.0\n",
      "Epoch 3 loss: 790.0350877192982\n",
      "diff: 0.0\n",
      "Epoch 4 loss: 720.421052631579\n",
      "diff: 0.0\n",
      "Epoch 5 loss: 704.3508771929825\n",
      "diff: 0.0\n",
      "Epoch 6 loss: 670.4561403508771\n",
      "diff: 0.0\n",
      "Epoch 7 loss: 650.5263157894736\n",
      "diff: 0.0\n",
      "Epoch 8 loss: 631.0175438596491\n",
      "diff: 0.0\n",
      "Epoch 9 loss: 628.5964912280701\n",
      "diff: 0.0\n",
      "Epoch 10 loss: 609.6491228070175\n",
      "diff: 0.0\n",
      "Epoch 11 loss: 619.6491228070175\n",
      "diff: 10.0\n",
      "Epoch 12 loss: 608.7368421052631\n",
      "diff: 0.0\n",
      "Epoch 13 loss: 596.0701754385965\n",
      "diff: 0.0\n",
      "Epoch 14 loss: 594.140350877193\n",
      "diff: 0.0\n",
      "Epoch 15 loss: 589.7894736842105\n",
      "diff: 0.0\n",
      "Epoch 16 loss: 588.1754385964912\n",
      "diff: 0.0\n",
      "Epoch 17 loss: 565.8245614035088\n",
      "diff: 0.0\n",
      "Epoch 18 loss: 567.6491228070175\n",
      "diff: 1.82456140350871\n",
      "Epoch 19 loss: 566.4561403508771\n",
      "diff: 0.6315789473683253\n",
      "Epoch 20 loss: 573.0877192982456\n",
      "diff: 7.263157894736764\n",
      "Epoch 21 loss: 565.8947368421053\n",
      "diff: 0.07017543859649322\n",
      "Epoch 22 loss: 558.7368421052631\n",
      "diff: 0.0\n",
      "Epoch 23 loss: 554.421052631579\n",
      "diff: 0.0\n",
      "Epoch 24 loss: 546.1052631578947\n",
      "diff: 0.0\n",
      "Epoch 25 loss: 564.7368421052631\n",
      "diff: 18.63157894736844\n",
      "Epoch 26 loss: 551.6140350877193\n",
      "diff: 5.508771929824661\n",
      "Epoch 27 loss: 560.7719298245614\n",
      "diff: 14.666666666666742\n",
      "Epoch 28 loss: 557.4035087719299\n",
      "diff: 11.298245614035181\n",
      "Epoch 29 loss: 558.0701754385965\n",
      "diff: 11.96491228070181\n",
      "Epoch 30 loss: 535.4736842105264\n",
      "diff: 0.0\n",
      "Epoch 31 loss: 553.2982456140351\n",
      "diff: 17.82456140350871\n",
      "Epoch 32 loss: 533.7894736842105\n",
      "diff: 0.0\n",
      "Epoch 33 loss: 539.3333333333334\n",
      "diff: 5.543859649122851\n",
      "Epoch 34 loss: 542.0701754385965\n",
      "diff: 8.280701754385973\n",
      "Epoch 35 loss: 542.140350877193\n",
      "diff: 8.350877192982466\n",
      "Epoch 36 loss: 544.1052631578947\n",
      "diff: 10.315789473684163\n",
      "Epoch 37 loss: 535.2280701754386\n",
      "diff: 1.4385964912280542\n",
      "Epoch 38 loss: 531.2631578947369\n",
      "diff: 0.0\n",
      "Epoch 39 loss: 539.1929824561404\n",
      "diff: 7.929824561403507\n",
      "Epoch 40 loss: 525.2982456140351\n",
      "diff: 0.0\n",
      "Epoch 41 loss: 523.5438596491229\n",
      "diff: 0.0\n",
      "Epoch 42 loss: 527.0877192982456\n",
      "diff: 3.543859649122737\n",
      "Epoch 43 loss: 539.9649122807018\n",
      "diff: 16.42105263157896\n",
      "Epoch 44 loss: 523.4736842105264\n",
      "diff: 0.0\n",
      "Epoch 45 loss: 527.3333333333334\n",
      "diff: 3.8596491228070136\n",
      "Epoch 46 loss: 533.9649122807018\n",
      "diff: 10.491228070175453\n",
      "Epoch 47 loss: 525.4736842105264\n",
      "diff: 2.0\n",
      "Epoch 48 loss: 523.859649122807\n",
      "diff: 0.3859649122806559\n",
      "Epoch 49 loss: 529.0526315789474\n",
      "diff: 5.578947368421041\n",
      "Epoch 50 loss: 536.6315789473684\n",
      "diff: 13.157894736842081\n",
      "Epoch 51 loss: 513.1578947368421\n",
      "diff: 0.0\n",
      "Epoch 52 loss: 527.2631578947369\n",
      "diff: 14.105263157894797\n",
      "Epoch 53 loss: 531.859649122807\n",
      "diff: 18.701754385964932\n",
      "Epoch 54 loss: 525.6842105263158\n",
      "diff: 12.526315789473756\n",
      "Epoch 55 loss: 513.2280701754386\n",
      "diff: 0.07017543859649322\n",
      "Epoch 56 loss: 514.4561403508771\n",
      "diff: 1.2982456140350678\n",
      "Epoch 57 loss: 523.719298245614\n",
      "diff: 10.561403508771946\n",
      "Epoch 58 loss: 522.561403508772\n",
      "diff: 9.403508771929864\n",
      "Epoch 59 loss: 530.8771929824561\n",
      "diff: 17.719298245614027\n",
      "Epoch 60 loss: 515.859649122807\n",
      "diff: 2.7017543859649322\n",
      "Epoch 61 loss: 528.0350877192982\n",
      "diff: 14.877192982456108\n",
      "Epoch 62 loss: 524.5263157894736\n",
      "diff: 11.368421052631561\n",
      "Epoch 63 loss: 531.3684210526316\n",
      "diff: 18.21052631578948\n",
      "Epoch 64 loss: 511.859649122807\n",
      "diff: 0.0\n",
      "Epoch 65 loss: 516.8070175438596\n",
      "diff: 4.947368421052602\n",
      "Epoch 66 loss: 530.6666666666666\n",
      "diff: 18.807017543859615\n",
      "Epoch 67 loss: 521.1228070175439\n",
      "diff: 9.263157894736878\n",
      "Epoch 68 loss: 527.9298245614035\n",
      "diff: 16.070175438596493\n",
      "Epoch 69 loss: 514.3508771929825\n",
      "diff: 2.4912280701754526\n",
      "Epoch 70 loss: 502.10526315789474\n",
      "diff: 0.0\n",
      "Epoch 71 loss: 517.3333333333334\n",
      "diff: 15.228070175438631\n",
      "Epoch 72 loss: 516.8421052631579\n",
      "diff: 14.736842105263179\n",
      "Epoch 73 loss: 506.42105263157896\n",
      "diff: 4.3157894736842195\n",
      "Epoch 74 loss: 527.859649122807\n",
      "diff: 25.754385964912274\n",
      "Epoch 75 loss: 503.29824561403507\n",
      "diff: 1.192982456140328\n",
      "Epoch 76 loss: 526.7719298245614\n",
      "diff: 24.666666666666686\n",
      "Epoch 77 loss: 513.2982456140351\n",
      "diff: 11.192982456140328\n",
      "Epoch 78 loss: 519.9298245614035\n",
      "diff: 17.824561403508767\n",
      "Epoch 79 loss: 512.0\n",
      "diff: 9.89473684210526\n",
      "Epoch 80 loss: 514.4561403508771\n",
      "diff: 12.35087719298241\n",
      "Epoch 81 loss: 528.8771929824561\n",
      "diff: 26.77192982456137\n",
      "Epoch 82 loss: 519.9298245614035\n",
      "diff: 17.824561403508767\n",
      "Epoch 83 loss: 505.6842105263158\n",
      "diff: 3.5789473684210407\n",
      "Epoch 84 loss: 529.9298245614035\n",
      "diff: 27.824561403508767\n",
      "Epoch 85 loss: 519.3333333333334\n",
      "diff: 17.22807017543863\n",
      "Epoch 86 loss: 511.96491228070175\n",
      "diff: 9.859649122807014\n",
      "Epoch 87 loss: 517.1228070175439\n",
      "diff: 15.017543859649152\n",
      "Epoch 88 loss: 526.3508771929825\n",
      "diff: 24.245614035087726\n",
      "Epoch 89 loss: 522.3859649122807\n",
      "diff: 20.280701754385916\n",
      "Epoch 90 loss: 517.5438596491229\n",
      "diff: 15.438596491228111\n",
      "Epoch 91 loss: 532.140350877193\n",
      "diff: 30.035087719298247\n",
      "Epoch 92 loss: 521.0526315789474\n",
      "diff: 18.94736842105266\n",
      "Epoch 93 loss: 522.7719298245614\n",
      "diff: 20.666666666666686\n",
      "Epoch 94 loss: 522.0350877192982\n",
      "diff: 19.92982456140345\n",
      "Epoch 95 loss: 512.3859649122807\n",
      "diff: 10.280701754385916\n",
      "Epoch 96 loss: 522.140350877193\n",
      "diff: 20.035087719298247\n",
      "Epoch 97 loss: 509.1929824561403\n",
      "diff: 7.087719298245588\n",
      "Epoch 98 loss: 517.859649122807\n",
      "diff: 15.754385964912274\n",
      "Epoch 99 loss: 508.17543859649123\n",
      "diff: 6.070175438596493\n",
      "Epoch 100 loss: 513.0526315789474\n",
      "diff: 10.947368421052659\n",
      "Epoch 101 loss: 530.6315789473684\n",
      "diff: 28.5263157894737\n",
      "Epoch 102 loss: 503.4736842105263\n",
      "diff: 1.368421052631561\n",
      "Epoch 103 loss: 507.12280701754383\n",
      "diff: 5.017543859649095\n",
      "Epoch 104 loss: 514.0701754385965\n",
      "diff: 11.964912280701753\n",
      "Epoch 105 loss: 504.8070175438597\n",
      "diff: 2.7017543859649322\n",
      "Epoch 106 loss: 501.3333333333333\n",
      "diff: 0.0\n",
      "Epoch 107 loss: 515.719298245614\n",
      "diff: 14.385964912280713\n",
      "Epoch 108 loss: 522.421052631579\n",
      "diff: 21.087719298245645\n",
      "Epoch 109 loss: 502.9824561403509\n",
      "diff: 1.6491228070175907\n",
      "Epoch 110 loss: 505.82456140350877\n",
      "diff: 4.491228070175453\n",
      "Epoch 111 loss: 509.36842105263156\n",
      "diff: 8.035087719298247\n",
      "Epoch 112 loss: 519.5087719298245\n",
      "diff: 18.175438596491233\n",
      "Epoch 113 loss: 509.4736842105263\n",
      "diff: 8.140350877192986\n",
      "Epoch 114 loss: 506.8070175438597\n",
      "diff: 5.473684210526358\n",
      "Epoch 115 loss: 511.43859649122805\n",
      "diff: 10.10526315789474\n",
      "Epoch 116 loss: 507.1578947368421\n",
      "diff: 5.824561403508767\n",
      "Epoch 117 loss: 511.89473684210526\n",
      "diff: 10.561403508771946\n",
      "Epoch 118 loss: 508.63157894736844\n",
      "diff: 7.298245614035125\n",
      "Epoch 119 loss: 490.63157894736844\n",
      "diff: 0.0\n",
      "Epoch 120 loss: 522.7719298245614\n",
      "diff: 32.140350877192986\n",
      "Epoch 121 loss: 497.719298245614\n",
      "diff: 7.087719298245588\n",
      "Epoch 122 loss: 499.2631578947368\n",
      "diff: 8.631578947368382\n",
      "Epoch 123 loss: 520.1052631578947\n",
      "diff: 29.473684210526244\n",
      "Epoch 124 loss: 512.1754385964912\n",
      "diff: 21.543859649122737\n",
      "Epoch 125 loss: 523.9298245614035\n",
      "diff: 33.29824561403507\n",
      "Epoch 126 loss: 519.9298245614035\n",
      "diff: 29.298245614035068\n",
      "Epoch 127 loss: 510.03508771929825\n",
      "diff: 19.403508771929808\n",
      "Epoch 128 loss: 502.17543859649123\n",
      "diff: 11.543859649122794\n",
      "Epoch 129 loss: 507.12280701754383\n",
      "diff: 16.491228070175396\n",
      "Epoch 130 loss: 514.3157894736842\n",
      "diff: 23.684210526315724\n",
      "Epoch 131 loss: 503.0877192982456\n",
      "diff: 12.456140350877149\n",
      "Epoch 132 loss: 507.4736842105263\n",
      "diff: 16.842105263157862\n",
      "Epoch 133 loss: 513.1929824561404\n",
      "diff: 22.561403508771946\n",
      "Epoch 134 loss: 507.0877192982456\n",
      "diff: 16.45614035087715\n",
      "Epoch 135 loss: 511.36842105263156\n",
      "diff: 20.736842105263122\n",
      "Epoch 136 loss: 502.5263157894737\n",
      "diff: 11.89473684210526\n",
      "Epoch 137 loss: 520.3508771929825\n",
      "diff: 29.719298245614027\n",
      "Epoch 138 loss: 504.2456140350877\n",
      "diff: 13.614035087719287\n",
      "Epoch 139 loss: 507.1929824561403\n",
      "diff: 16.56140350877189\n",
      "Epoch 140 loss: 511.96491228070175\n",
      "diff: 21.333333333333314\n",
      "Epoch 141 loss: 492.3859649122807\n",
      "diff: 1.7543859649122737\n",
      "Epoch 142 loss: 506.63157894736844\n",
      "diff: 16.0\n",
      "Epoch 143 loss: 512.3859649122807\n",
      "diff: 21.754385964912217\n",
      "Epoch 144 loss: 524.8070175438596\n",
      "diff: 34.175438596491176\n",
      "Epoch 145 loss: 509.82456140350877\n",
      "diff: 19.192982456140328\n",
      "Epoch 146 loss: 503.89473684210526\n",
      "diff: 13.263157894736821\n",
      "Epoch 147 loss: 501.7543859649123\n",
      "diff: 11.122807017543835\n",
      "Epoch 148 loss: 514.9122807017544\n",
      "diff: 24.280701754385973\n",
      "Epoch 149 loss: 507.2280701754386\n",
      "diff: 16.596491228070136\n"
     ]
    }
   ],
   "source": [
    "train_fn = lambda x:train(x,150)\n",
    "diffusion_model = FABRIC.launch(train_fn)"
   ]
  },
  {
   "cell_type": "code",
   "execution_count": null,
   "metadata": {},
   "outputs": [],
   "source": [
    "def generate_samples(fabric,\n",
    "                     diffusion_model, \n",
    "\t\t\t\t\t condition, \n",
    "                     n_iter=20,\n",
    "                     w=0):\n",
    "    # it's a bit hard to predict memory consumption so splitting in mini-batches to be safe\n",
    "    num_samples = 200\n",
    "    cond = 0\n",
    "    if (condition == 0):\n",
    "        cond = (torch.zeros(num_samples, 1, 512)+1).to(dtype=torch.float16,\n",
    "                                                       device=DEVICE)\n",
    "    elif (condition == 1):\n",
    "        cond = (torch.ones(num_samples, 1, 512)+1).to(dtype=torch.float16,\n",
    "                                                      device=DEVICE)\n",
    "    \n",
    "    diffusion_model.eval()\n",
    "\n",
    "    print(f\"Generating samples: cue {condition + 1}\")\n",
    "    complete_samples = []\n",
    "    with fabric.autocast():\n",
    "        with torch.no_grad():\n",
    "            for i in range(n_iter):\n",
    "                samples, _ = diffusion_model.sample(num_samples, cond=cond,w=w)\n",
    "                samples = samples.cpu().numpy()\n",
    "                print(samples.shape)\n",
    "                complete_samples.append(samples)\n",
    "    complete_samples = np.float32(np.concatenate(complete_samples))\n",
    "    print(complete_samples.shape)\n",
    "    return complete_samples"
   ]
  },
  {
   "cell_type": "code",
   "execution_count": null,
   "metadata": {},
   "outputs": [],
   "source": [
    "# diffusion_model.load_state_dict(torch.load(os.path.join(SAVE_PATH,\"unet_diff.pt\")))"
   ]
  },
  {
   "cell_type": "code",
   "execution_count": null,
   "metadata": {},
   "outputs": [],
   "source": [
    "# unet_1d.load_state_dict(torch.load(os.path.join(SAVE_PATH,\"unet_state_dict.pt\")))"
   ]
  },
  {
   "cell_type": "code",
   "execution_count": null,
   "metadata": {},
   "outputs": [
    {
     "name": "stdout",
     "output_type": "stream",
     "text": [
      "Generating samples: cue 1\n",
      "(200, 3, 512)\n",
      "(200, 3, 512)\n",
      "(200, 3, 512)\n",
      "(200, 3, 512)\n",
      "(200, 3, 512)\n",
      "(200, 3, 512)\n",
      "(200, 3, 512)\n",
      "(200, 3, 512)\n",
      "(200, 3, 512)\n",
      "(200, 3, 512)\n",
      "(2000, 3, 512)\n",
      "Generating samples: cue 2\n",
      "(200, 3, 512)\n",
      "(200, 3, 512)\n",
      "(200, 3, 512)\n",
      "(200, 3, 512)\n",
      "(200, 3, 512)\n",
      "(200, 3, 512)\n",
      "(200, 3, 512)\n",
      "(200, 3, 512)\n",
      "(200, 3, 512)\n",
      "(200, 3, 512)\n",
      "(2000, 3, 512)\n"
     ]
    }
   ],
   "source": [
    "generated_signals_zero = generate_samples(FABRIC,diffusion_model, condition=0,n_iter=10,w=8)\n",
    "generated_signals_one = generate_samples(FABRIC,diffusion_model, condition=1,n_iter=10,w=8)\n",
    "np.save(os.path.join(SAVE_PATH,\"generated_zeros.npy\"),generated_signals_zero)\n",
    "np.save(os.path.join(SAVE_PATH,\"generated_ones.npy\"),generated_signals_one)"
   ]
  },
  {
   "cell_type": "code",
   "execution_count": null,
   "metadata": {},
   "outputs": [],
   "source": [
    "generated_signals_zero = np.load(os.path.join(SAVE_PATH,\"generated_zeros.npy\"))\n",
    "generated_signals_one = np.load(os.path.join(SAVE_PATH,\"generated_ones.npy\"))"
   ]
  },
  {
   "cell_type": "code",
   "execution_count": null,
   "metadata": {},
   "outputs": [],
   "source": [
    "def check():\n",
    "\n",
    "\taccuracies = []\n",
    "\t\t\n",
    "\ttest_classifier = SimpleCSP(train_split=TRAIN_SPLIT,\n",
    "\t\t\t\t\t\t\t\ttest_split=TEST_SPLIT,\n",
    "\t\t\t\t\t\t\t\tdataset=None,\n",
    "\t\t\t\t\t\t\t\tsave_paths=[REAL_DATA],\n",
    "\t\t\t\t\t\t\t\tchannels=CHANNELS,\n",
    "\t\t\t\t\t\t\t\tlength=2.05)\n",
    "\n",
    "\tfull_x,full_y = test_classifier.get_train()\n",
    "\n",
    "\tprint(f\"full x shape: {full_x.shape}\")\n",
    "\n",
    "\tacc = test_classifier.fit()\n",
    "\n",
    "\tprint(f\"reaching an accuracy of {acc} without fake data\")\n",
    "\n",
    "\tfor real_fake_split in range(15, 46, 15):\n",
    "\t\t\n",
    "\t\t# Train new classifier with a mix of generated and real data\n",
    "\t\t\n",
    "\t\t# Change real_fake_split percent of the test_classifier data to generated signals\n",
    "\t\tn = int(len(full_x) * real_fake_split / 100)\n",
    "\n",
    "\t\tshuffling = np.random.permutation(full_x.shape[0])\n",
    "\n",
    "\t\tsplit_x = full_x[shuffling]\n",
    "\t\tsplit_y = full_y[shuffling]\n",
    "\t\tsplit_x[0:n//2] = generated_signals_one[0:n//2]\n",
    "\t\tsplit_y[0:n//2] = 1\n",
    "\n",
    "\t\tsplit_x[n//2:n] = generated_signals_zero[0:n//2]\n",
    "\t\tsplit_y[n//2:n] = 0\n",
    "\n",
    "\t\tprint(f\"split x shape: {split_x.shape}\")\n",
    "\n",
    "\t\tacc = test_classifier.fit((split_x,split_y))\n",
    "\n",
    "\t\taccuracies.append(acc)\n",
    "\t\t\t\t\t\n",
    "\t\tprint(f\"Reaching an accuracy of {acc} using {real_fake_split}% fake data\")"
   ]
  },
  {
   "cell_type": "code",
   "execution_count": null,
   "metadata": {},
   "outputs": [],
   "source": [
    "x = torch.rand((2,3,512),device=unet_1d.device)"
   ]
  },
  {
   "cell_type": "code",
   "execution_count": null,
   "metadata": {},
   "outputs": [
    {
     "data": {
      "text/plain": [
       "torch.Size([2, 2])"
      ]
     },
     "execution_count": 22,
     "metadata": {},
     "output_type": "execute_result"
    }
   ],
   "source": [
    "unet_1d.classify(x).shape"
   ]
  },
  {
   "cell_type": "markdown",
   "metadata": {},
   "source": [
    "## Classification"
   ]
  },
  {
   "cell_type": "code",
   "execution_count": null,
   "metadata": {},
   "outputs": [],
   "source": [
    "ones = os.path.join(SAVE_PATH,\"generated_ones.npy\")\n",
    "zeros = os.path.join(SAVE_PATH,\"generated_zeros.npy\")\n",
    "fake_paths = (ones,zeros)"
   ]
  },
  {
   "cell_type": "code",
   "execution_count": null,
   "metadata": {},
   "outputs": [
    {
     "name": "stdout",
     "output_type": "stream",
     "text": [
      "(3615, 3, 512)\n",
      "(3615,)\n",
      "we have fake data\n",
      "final data shape: (5421, 3, 512)\n",
      "(3360, 3, 512)\n",
      "(3360,)\n",
      "final data shape: (3360, 3, 512)\n"
     ]
    }
   ],
   "source": [
    "deep_clf = DeepClassifier(\n",
    "\tmodel=unet_1d,\n",
    "\tsave_paths=[\"../../data/2b_iv/raw/\"],\n",
    "\tfake_data=fake_paths,\n",
    "\ttrain_split=TRAIN_SPLIT,\n",
    "\ttest_split=TEST_SPLIT,\n",
    "\tdataset=None,\n",
    "\tdataset_type=subject_dataset,\n",
    "\tlength=2.05,\n",
    "\tindex_cutoff=512\n",
    ")"
   ]
  },
  {
   "cell_type": "markdown",
   "metadata": {},
   "source": [
    "- We can reach about 78% accuracy without any kind of pre-training or fake data"
   ]
  },
  {
   "cell_type": "code",
   "execution_count": null,
   "metadata": {},
   "outputs": [
    {
     "data": {
      "text/plain": [
       "  | Name                 | Type                 | Params\n",
       "--------------------------------------------------------------\n",
       "0 | time_embbeder        | SinusoidalPosEmb     | 0     \n",
       "1 | class_embed_product  | Linear               | 6     \n",
       "2 | class_embed_addition | Linear               | 3     \n",
       "3 | encoder              | ModuleList           | 1.2 M \n",
       "4 | decoder              | ModuleList           | 2.4 M \n",
       "5 | auxiliary_clf        | BottleNeckClassifier | 2.1 M \n",
       "6 | middle_conv          | Convdown             | 393 K \n",
       "7 | output_conv          | Conv1d               | 99    \n",
       "--------------------------------------------------------------\n",
       "6.1 M     Trainable params\n",
       "0         Non-trainable params\n",
       "6.1 M     Total params\n",
       "24.477    Total estimated model params size (MB)"
      ]
     },
     "execution_count": 25,
     "metadata": {},
     "output_type": "execute_result"
    }
   ],
   "source": [
    "ModelSummary(unet_1d)"
   ]
  },
  {
   "cell_type": "code",
   "execution_count": null,
   "metadata": {},
   "outputs": [],
   "source": [
    "fine_tune = [unet_1d.encoder,\n",
    "\t\t\tunet_1d.decoder,\n",
    "\t\t\tunet_1d.middle_conv,\n",
    "\t\t\tunet_1d.output_conv,\n",
    "\t\t\tunet_1d.class_embed_addition,\n",
    "\t\t\tunet_1d.class_embed_product]\n",
    "\n",
    "to_optimize = [{\"params\":i.parameters(),\n",
    "\t\"lr\":1E-3,\n",
    "\t\"weight_decay\":1E-4} for i in fine_tune]\n",
    "\n",
    "to_optimize.append({\"params\":unet_1d.auxiliary_clf.parameters(),\n",
    "     \"lr\":1E-3,\n",
    " \t\"weight_decay\":1E-4})\n",
    "\n",
    "optimizer = optim.AdamW(to_optimize)"
   ]
  },
  {
   "cell_type": "code",
   "execution_count": null,
   "metadata": {},
   "outputs": [
    {
     "name": "stdout",
     "output_type": "stream",
     "text": [
      "using specified optimizer\n"
     ]
    },
    {
     "name": "stdout",
     "output_type": "stream",
     "text": [
      "Epoch [1/150], Training Loss: 0.734, Training Accuracy: 51.47%, Validation Loss: 0.698, Validation Accuracy: 50.42%\n",
      "Epoch [2/150], Training Loss: 0.688, Training Accuracy: 54.18%, Validation Loss: 0.704, Validation Accuracy: 50.68%\n",
      "Epoch [3/150], Training Loss: 0.645, Training Accuracy: 59.53%, Validation Loss: 0.771, Validation Accuracy: 48.96%\n",
      "Epoch [4/150], Training Loss: 0.593, Training Accuracy: 63.00%, Validation Loss: 0.747, Validation Accuracy: 50.09%\n",
      "Epoch [5/150], Training Loss: 0.563, Training Accuracy: 64.80%, Validation Loss: 0.708, Validation Accuracy: 50.60%\n",
      "Epoch [6/150], Training Loss: 0.540, Training Accuracy: 65.60%, Validation Loss: 0.732, Validation Accuracy: 49.61%\n",
      "Epoch [7/150], Training Loss: 0.527, Training Accuracy: 64.53%, Validation Loss: 0.694, Validation Accuracy: 50.48%\n",
      "Epoch [8/150], Training Loss: 0.500, Training Accuracy: 66.19%, Validation Loss: 0.710, Validation Accuracy: 50.86%\n",
      "Epoch [9/150], Training Loss: 0.488, Training Accuracy: 68.29%, Validation Loss: 0.696, Validation Accuracy: 52.38%\n",
      "Epoch [10/150], Training Loss: 0.503, Training Accuracy: 66.48%, Validation Loss: 0.698, Validation Accuracy: 50.83%\n",
      "Epoch [11/150], Training Loss: 0.477, Training Accuracy: 67.40%, Validation Loss: 0.696, Validation Accuracy: 50.18%\n",
      "Epoch [12/150], Training Loss: 0.477, Training Accuracy: 68.92%, Validation Loss: 0.684, Validation Accuracy: 54.97%\n",
      "Finished Training\n"
     ]
    },
    {
     "data": {
      "text/plain": [
       "54.970238095238095"
      ]
     },
     "execution_count": 27,
     "metadata": {},
     "output_type": "execute_result"
    }
   ],
   "source": [
    "deep_clf.fit(fabric=FABRIC,\n",
    "\t\t\t num_epochs=150,\n",
    "\t\t\t lr=1E-3,\n",
    "\t\t\t weight_decay=1E-4,\n",
    "\t\t\t verbose=True,\n",
    "\t\t\t optimizer=optimizer)"
   ]
  },
  {
   "cell_type": "code",
   "execution_count": null,
   "metadata": {},
   "outputs": [
    {
     "name": "stdout",
     "output_type": "stream",
     "text": [
      "(3615, 3, 512)\n",
      "(3615,)\n",
      "final data shape: (3615, 3, 512)\n",
      "(3360, 3, 512)\n",
      "(3360,)\n",
      "final data shape: (3360, 3, 512)\n",
      "using specified optimizer\n",
      "Epoch [1/150], Training Loss: 0.802, Training Accuracy: 49.85%, Validation Loss: 0.695, Validation Accuracy: 50.15%\n",
      "Epoch [2/150], Training Loss: 0.694, Training Accuracy: 49.35%, Validation Loss: 0.694, Validation Accuracy: 49.61%\n",
      "Epoch [3/150], Training Loss: 0.694, Training Accuracy: 50.84%, Validation Loss: 0.693, Validation Accuracy: 50.51%\n",
      "Epoch [4/150], Training Loss: 0.694, Training Accuracy: 50.35%, Validation Loss: 0.693, Validation Accuracy: 50.27%\n",
      "Epoch [5/150], Training Loss: 0.694, Training Accuracy: 50.51%, Validation Loss: 0.693, Validation Accuracy: 50.09%\n",
      "Epoch [6/150], Training Loss: 0.693, Training Accuracy: 50.04%, Validation Loss: 0.693, Validation Accuracy: 50.24%\n",
      "Epoch [7/150], Training Loss: 0.693, Training Accuracy: 49.68%, Validation Loss: 0.693, Validation Accuracy: 50.42%\n",
      "Epoch [8/150], Training Loss: 0.693, Training Accuracy: 50.15%, Validation Loss: 0.693, Validation Accuracy: 50.21%\n",
      "Epoch [9/150], Training Loss: 0.693, Training Accuracy: 48.99%, Validation Loss: 0.692, Validation Accuracy: 50.36%\n",
      "Epoch [10/150], Training Loss: 0.694, Training Accuracy: 49.96%, Validation Loss: 0.691, Validation Accuracy: 49.88%\n",
      "Epoch [11/150], Training Loss: 0.693, Training Accuracy: 48.46%, Validation Loss: 0.694, Validation Accuracy: 50.15%\n",
      "Epoch [12/150], Training Loss: 0.693, Training Accuracy: 50.12%, Validation Loss: 0.694, Validation Accuracy: 50.15%\n",
      "Epoch [13/150], Training Loss: 0.693, Training Accuracy: 48.41%, Validation Loss: 0.694, Validation Accuracy: 50.18%\n",
      "Epoch [14/150], Training Loss: 0.693, Training Accuracy: 49.57%, Validation Loss: 0.694, Validation Accuracy: 50.12%\n",
      "Epoch [15/150], Training Loss: 0.693, Training Accuracy: 50.15%, Validation Loss: 0.695, Validation Accuracy: 50.74%\n",
      "Epoch [16/150], Training Loss: 0.693, Training Accuracy: 51.54%, Validation Loss: 0.693, Validation Accuracy: 50.80%\n",
      "Epoch [17/150], Training Loss: 0.693, Training Accuracy: 51.12%, Validation Loss: 0.694, Validation Accuracy: 49.91%\n",
      "Epoch [18/150], Training Loss: 0.693, Training Accuracy: 49.90%, Validation Loss: 0.694, Validation Accuracy: 49.82%\n",
      "Epoch [19/150], Training Loss: 0.693, Training Accuracy: 49.76%, Validation Loss: 0.694, Validation Accuracy: 50.15%\n",
      "Epoch [20/150], Training Loss: 0.693, Training Accuracy: 49.68%, Validation Loss: 0.693, Validation Accuracy: 50.15%\n",
      "Finished Training\n"
     ]
    },
    {
     "data": {
      "text/plain": [
       "50.80357142857143"
      ]
     },
     "execution_count": 28,
     "metadata": {},
     "output_type": "execute_result"
    }
   ],
   "source": [
    "deep_clf.setup_dataloaders(use_fake=False)\n",
    "deep_clf.fit(fabric=FABRIC,\n",
    "\t\t\t num_epochs=150,\n",
    "\t\t\t lr=1E-3,\n",
    "\t\t\t weight_decay=1E-4,\n",
    "\t\t\t verbose=True,\n",
    "\t\t\t optimizer=optimizer)"
   ]
  },
  {
   "cell_type": "code",
   "execution_count": null,
   "metadata": {},
   "outputs": [
    {
     "data": {
      "text/plain": [
       "4.170000000000002"
      ]
     },
     "execution_count": 31,
     "metadata": {},
     "output_type": "execute_result"
    }
   ],
   "source": [
    "54.97-50.80"
   ]
  },
  {
   "cell_type": "code",
   "execution_count": null,
   "metadata": {},
   "outputs": [
    {
     "data": {
      "text/plain": [
       "1.5799999999999983"
      ]
     },
     "execution_count": 29,
     "metadata": {},
     "output_type": "execute_result"
    }
   ],
   "source": [
    "67.97-66.39"
   ]
  },
  {
   "cell_type": "code",
   "execution_count": null,
   "metadata": {},
   "outputs": [
    {
     "data": {
      "text/plain": [
       "8.840000000000003"
      ]
     },
     "execution_count": 30,
     "metadata": {},
     "output_type": "execute_result"
    }
   ],
   "source": [
    "60.59-51.75"
   ]
  },
  {
   "cell_type": "code",
   "execution_count": null,
   "metadata": {},
   "outputs": [
    {
     "data": {
      "text/plain": [
       "4.863333333333334"
      ]
     },
     "execution_count": 32,
     "metadata": {},
     "output_type": "execute_result"
    }
   ],
   "source": [
    "((54.97-50.80)+(67.97-66.39)+60.59-51.75)/3"
   ]
  },
  {
   "cell_type": "markdown",
   "metadata": {},
   "source": [
    "- 67.97 - 66.39"
   ]
  },
  {
   "cell_type": "markdown",
   "metadata": {},
   "source": [
    "- 83.73% with fine-tuning"
   ]
  },
  {
   "cell_type": "markdown",
   "metadata": {},
   "source": [
    "- 68.7"
   ]
  },
  {
   "cell_type": "code",
   "execution_count": null,
   "metadata": {},
   "outputs": [],
   "source": []
  }
 ],
 "metadata": {
  "kernelspec": {
   "display_name": "neuro",
   "language": "python",
   "name": "python3"
  },
  "language_info": {
   "codemirror_mode": {
    "name": "ipython",
    "version": 3
   },
   "file_extension": ".py",
   "mimetype": "text/x-python",
   "name": "python",
   "nbconvert_exporter": "python",
   "pygments_lexer": "ipython3",
   "version": "3.10.12"
  }
 },
 "nbformat": 4,
 "nbformat_minor": 2
}
