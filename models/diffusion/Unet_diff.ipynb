{
 "cells": [
  {
   "cell_type": "code",
   "execution_count": 2,
   "metadata": {},
   "outputs": [
    {
     "name": "stderr",
     "output_type": "stream",
     "text": [
      "c:\\Users\\rahar\\anaconda3\\envs\\neuro\\lib\\site-packages\\torchaudio\\backend\\utils.py:74: UserWarning: No audio backend is available.\n",
      "  warnings.warn(\"No audio backend is available.\")\n"
     ]
    }
   ],
   "source": [
    "import numpy as np\n",
    "import pandas as pd\n",
    "import os\n",
    "import scipy.io\n",
    "from einops import rearrange\n",
    "import matplotlib.pyplot as plt\n",
    "import seaborn as sns\n",
    "# import pywt\n",
    "import torch\n",
    "from torch.utils.data import Dataset, DataLoader\n",
    "import torch.nn as nn\n",
    "import torch.optim as optim\n",
    "from lightning import Fabric\n",
    "from pytorch_lightning.utilities.model_summary import ModelSummary\n",
    "import lightning as L\n",
    "from einops import repeat"
   ]
  },
  {
   "cell_type": "code",
   "execution_count": 3,
   "metadata": {},
   "outputs": [],
   "source": [
    "import sys\n",
    "\n",
    "sys.path.append(\"../../../motor-imagery-classification-2024/\")\n",
    "\n",
    "from classification.loaders import EEGDataset,load_data\n",
    "from models.unet.eeg_unets import Unet,UnetConfig, BottleNeckClassifier, Unet1D\n",
    "from classification.classifiers import DeepClassifier , SimpleCSP\n",
    "from classification.loaders import subject_dataset\n",
    "from ntd.networks import SinusoidalPosEmb\n",
    "from ntd.diffusion_model import Diffusion\n",
    "from ntd.utils.kernels_and_diffusion_utils import WhiteNoiseProcess\n",
    "\n",
    "from u_net_diffusion import DiffusionUnet, DiffusionUnetConfig\n",
    "\n",
    "torch.set_float32_matmul_precision('medium')"
   ]
  },
  {
   "cell_type": "code",
   "execution_count": 3,
   "metadata": {},
   "outputs": [],
   "source": [
    "FS = 250\n",
    "DEVICE = \"cuda\"\n",
    "sns.set_style(\"darkgrid\")"
   ]
  },
  {
   "cell_type": "markdown",
   "metadata": {},
   "source": [
    "## Loading data"
   ]
  },
  {
   "cell_type": "code",
   "execution_count": 6,
   "metadata": {},
   "outputs": [
    {
     "name": "stdout",
     "output_type": "stream",
     "text": [
      "(4705, 3, 512)\n",
      "(4705,)\n",
      "final data shape: (4705, 3, 512)\n",
      "(245, 3, 512)\n",
      "(245,)\n",
      "final data shape: (245, 3, 512)\n"
     ]
    }
   ],
   "source": [
    "dataset = {}\n",
    "for i in range(1,10):\n",
    "    mat_train,mat_test = load_data(\"../../data/2b_iv\",i)\n",
    "    dataset[f\"subject_{i}\"] = {\"train\":mat_train,\"test\":mat_test}\n",
    "\n",
    "REAL_DATA = \"../../data/2b_iv/raw\"\n",
    "\n",
    "TRAIN_SPLIT = 8*[[\"train\",\"test\"]]\n",
    "TEST_SPLIT = 8*[[]] + [[\"test\"]]\n",
    "SAVE_PATH = \"../../saved_models/unet\"\n",
    "if not os.path.isdir(SAVE_PATH):\n",
    "\tos.makedirs(SAVE_PATH)\n",
    "\n",
    "CHANNELS = [0,1,2]\n",
    "\n",
    "train_dataset = EEGDataset(subject_splits=TRAIN_SPLIT,\n",
    "                    dataset=None,\n",
    "                    save_paths=[REAL_DATA],\n",
    "                    dataset_type=subject_dataset,\n",
    "                    channels=CHANNELS,\n",
    "                    sanity_check=False,\n",
    "                    length=2.05)\n",
    "\n",
    "test_dataset = EEGDataset(subject_splits=TEST_SPLIT,\n",
    "                    dataset=None,\n",
    "                    save_paths=[REAL_DATA],\n",
    "                    channels=CHANNELS,\n",
    "                    sanity_check=False,\n",
    "                    length=2.05)"
   ]
  },
  {
   "cell_type": "code",
   "execution_count": 5,
   "metadata": {},
   "outputs": [],
   "source": [
    "UnetDiff1D = DiffusionUnetConfig(\n",
    "\ttime_dim=12,\n",
    "\tclass_dim=12,\n",
    "\tnum_classes=2,\n",
    "\tinput_shape=(512),\n",
    "\tinput_channels=3,\n",
    "\tconv_op=nn.Conv1d,\n",
    "\tnorm_op=nn.InstanceNorm1d,\n",
    "\tnon_lin=nn.ReLU,\n",
    "\tpool_op=nn.AvgPool1d,\n",
    "\tup_op=nn.ConvTranspose1d,\n",
    "\tstarting_channels=32,\n",
    "\tmax_channels=256,\n",
    "\tconv_group=1,\n",
    "\tconv_padding=(1),\n",
    "\tconv_kernel=(3),\n",
    "\tpool_fact=2,\n",
    "\tdeconv_group=1,\n",
    "\tdeconv_padding=(0),\n",
    "\tdeconv_kernel=(2),\n",
    "\tdeconv_stride=(2),\n",
    "\tresidual=True\n",
    ")"
   ]
  },
  {
   "cell_type": "code",
   "execution_count": 6,
   "metadata": {},
   "outputs": [
    {
     "name": "stdout",
     "output_type": "stream",
     "text": [
      "  | Name          | Type                 | Params\n",
      "-------------------------------------------------------\n",
      "0 | time_embed    | SinusoidalPosEmb     | 0     \n",
      "1 | class_embed   | Embedding            | 36    \n",
      "2 | encoder       | ModuleList           | 1.2 M \n",
      "3 | decoder       | ModuleList           | 2.5 M \n",
      "4 | auxiliary_clf | BottleNeckClassifier | 2.1 M \n",
      "5 | middle_conv   | EmbedConvdown        | 400 K \n",
      "6 | output_conv   | Conv1d               | 99    \n",
      "-------------------------------------------------------\n",
      "6.2 M     Trainable params\n",
      "0         Non-trainable params\n",
      "6.2 M     Total params\n",
      "24.706    Total estimated model params size (MB)\n"
     ]
    }
   ],
   "source": [
    "classifier = BottleNeckClassifier((2048,1024),)\n",
    "unet = DiffusionUnet(UnetDiff1D,classifier)\n",
    "print(ModelSummary(unet))"
   ]
  },
  {
   "cell_type": "markdown",
   "metadata": {},
   "source": [
    "## Training"
   ]
  },
  {
   "cell_type": "code",
   "execution_count": 7,
   "metadata": {},
   "outputs": [],
   "source": [
    "lr = 6E-4\n",
    "num_epochs = 180\n",
    "time_dim = 12\n",
    "decay_min = 2\n",
    "decay_max = 2\n",
    "activation_type = \"leaky_relu\"\n",
    "num_timesteps = 250\n",
    "schedule = \"linear\"\n",
    "batch_size = 64\n",
    "# If the schedule is not cosine, we need to test the end_beta\n",
    "start_beta = 0.0001\n",
    "end_beta = 0.08\n",
    "\t\t\n",
    "train_loader = DataLoader(\n",
    "\ttrain_dataset,\n",
    "\tbatch_size,\n",
    ")"
   ]
  },
  {
   "cell_type": "code",
   "execution_count": 8,
   "metadata": {},
   "outputs": [
    {
     "data": {
      "text/plain": [
       "512"
      ]
     },
     "execution_count": 8,
     "metadata": {},
     "output_type": "execute_result"
    }
   ],
   "source": [
    "unet.signal_length"
   ]
  },
  {
   "cell_type": "code",
   "execution_count": 9,
   "metadata": {},
   "outputs": [],
   "source": [
    "def train(fabric,\n",
    "\t\t  num_epochs):\n",
    "\t\t\n",
    "\tnoise_sampler = WhiteNoiseProcess(1.0, 512)\n",
    "\n",
    "\tdiffusion_model = Diffusion(\n",
    "\t\tnetwork=unet,\n",
    "\t\tdiffusion_time_steps=num_timesteps,\n",
    "\t\tnoise_sampler=noise_sampler,\n",
    "\t\tmal_dist_computer=noise_sampler,\n",
    "\t\tschedule=schedule,\n",
    "\t\tstart_beta=start_beta,\n",
    "\t\tend_beta=end_beta,\n",
    "\t)\n",
    "\toptimizer = optim.AdamW(\n",
    "\t\tunet.parameters(),\n",
    "\t\tlr=lr,\n",
    "\t)\n",
    "\n",
    "\ttrain_loader = DataLoader(\n",
    "\t\ttrain_dataset,\n",
    "\t\tbatch_size,\n",
    "\t)\n",
    "\t\t\n",
    "\tdiffusion_model,optimizer = fabric.setup(diffusion_model,optimizer)\n",
    "\ttrain_loader = fabric.setup_dataloaders(train_loader)\n",
    "\n",
    "\tloss_per_epoch = []\n",
    "\n",
    "\tstop_counter = 0\n",
    "\tmin_delta = 0.05\n",
    "\ttolerance = 30\n",
    "\t\t\t\n",
    "\t\t# Train model\n",
    "\tfor i in range(num_epochs):\n",
    "\t\t\n",
    "\t\tepoch_loss = []\n",
    "\t\tfor batch in train_loader:\n",
    "\t\t\t\n",
    "\t\t\twith fabric.autocast():\n",
    "\t\t\t# Repeat the cue signal to match the signal length\n",
    "\t\t\t\t# print(batch[\"signal\"].shape)\n",
    "\t\t\t\tsignal,cue = batch\n",
    "\t\t\t\tcue = (cue + 1).to(signal.dtype)\n",
    "\t\t\t\tcond = cue.unsqueeze(-1).unsqueeze(-1).repeat(1, 1, 512).to(DEVICE)\n",
    "\t\t\t\t\n",
    "\t\t\t\tloss = diffusion_model.train_batch(signal.to(DEVICE), cond=cond,\n",
    "\t\t\t\t\t\t\t\t\t   p_uncond=0.15)\n",
    "\t\t\tloss = torch.mean(loss)\n",
    "\t\t\t\n",
    "\t\t\tepoch_loss.append(loss.item())\n",
    "\t\t\t\n",
    "\t\t\tfabric.backward(loss)\n",
    "\t\t\t# loss.backward()\n",
    "\t\t\toptimizer.step()\n",
    "\t\t\toptimizer.zero_grad()\n",
    "\t\t\t\n",
    "\t\tepoch_loss = np.mean(epoch_loss)\n",
    "\t\tloss_per_epoch.append(epoch_loss)\n",
    "\t\t\n",
    "\t\tprint(f\"Epoch {i} loss: {epoch_loss}\")\n",
    "\n",
    "\t\tprint(f\"diff: {epoch_loss - min(loss_per_epoch)}\")\n",
    "\n",
    "\t\tif epoch_loss - min(loss_per_epoch) >= min_delta*min(loss_per_epoch):\n",
    "\t\t\tstop_counter += 1\n",
    "\t\tif stop_counter > tolerance:\n",
    "\t\t\tbreak\n",
    "\ttorch.save(diffusion_model.state_dict(),os.path.join(SAVE_PATH,\"unet_diff.pt\"))\n",
    "\ttorch.save(unet.state_dict(),os.path.join(SAVE_PATH,\"unet_state_dict.pt\"))\n",
    "\treturn diffusion_model"
   ]
  },
  {
   "cell_type": "code",
   "execution_count": 10,
   "metadata": {},
   "outputs": [
    {
     "name": "stderr",
     "output_type": "stream",
     "text": [
      "Using bfloat16 Automatic Mixed Precision (AMP)\n"
     ]
    }
   ],
   "source": [
    "FABRIC = Fabric(accelerator=\"cuda\",precision=\"bf16-mixed\")"
   ]
  },
  {
   "cell_type": "code",
   "execution_count": 11,
   "metadata": {},
   "outputs": [
    {
     "name": "stdout",
     "output_type": "stream",
     "text": [
      "Epoch 0 loss: 1170.8333333333333\n",
      "diff: 0.0\n",
      "Epoch 1 loss: 794.4166666666666\n",
      "diff: 0.0\n",
      "Epoch 2 loss: 712.4166666666666\n",
      "diff: 0.0\n",
      "Epoch 3 loss: 696.0833333333334\n",
      "diff: 0.0\n",
      "Epoch 4 loss: 656.7916666666666\n",
      "diff: 0.0\n",
      "Epoch 5 loss: 651.5416666666666\n",
      "diff: 0.0\n",
      "Epoch 6 loss: 652.7916666666666\n",
      "diff: 1.25\n",
      "Epoch 7 loss: 642.625\n",
      "diff: 0.0\n",
      "Epoch 8 loss: 615.7916666666666\n",
      "diff: 0.0\n",
      "Epoch 9 loss: 600.3333333333334\n",
      "diff: 0.0\n",
      "Epoch 10 loss: 604.75\n",
      "diff: 4.416666666666629\n",
      "Epoch 11 loss: 614.9583333333334\n",
      "diff: 14.625\n",
      "Epoch 12 loss: 587.6666666666666\n",
      "diff: 0.0\n",
      "Epoch 13 loss: 589.1666666666666\n",
      "diff: 1.5\n",
      "Epoch 14 loss: 589.75\n",
      "diff: 2.0833333333333712\n",
      "Epoch 15 loss: 592.2083333333334\n",
      "diff: 4.5416666666667425\n",
      "Epoch 16 loss: 591.2916666666666\n",
      "diff: 3.625\n",
      "Epoch 17 loss: 567.0416666666666\n",
      "diff: 0.0\n",
      "Epoch 18 loss: 585.625\n",
      "diff: 18.58333333333337\n",
      "Epoch 19 loss: 572.0\n",
      "diff: 4.958333333333371\n",
      "Epoch 20 loss: 563.9166666666666\n",
      "diff: 0.0\n",
      "Epoch 21 loss: 586.7083333333334\n",
      "diff: 22.791666666666742\n",
      "Epoch 22 loss: 552.9583333333334\n",
      "diff: 0.0\n",
      "Epoch 23 loss: 566.5833333333334\n",
      "diff: 13.625\n",
      "Epoch 24 loss: 570.625\n",
      "diff: 17.66666666666663\n",
      "Epoch 25 loss: 575.25\n",
      "diff: 22.29166666666663\n",
      "Epoch 26 loss: 547.4166666666666\n",
      "diff: 0.0\n",
      "Epoch 27 loss: 564.375\n",
      "diff: 16.95833333333337\n",
      "Epoch 28 loss: 553.875\n",
      "diff: 6.458333333333371\n",
      "Epoch 29 loss: 561.7916666666666\n",
      "diff: 14.375\n",
      "Epoch 30 loss: 549.125\n",
      "diff: 1.7083333333333712\n",
      "Epoch 31 loss: 566.5833333333334\n",
      "diff: 19.166666666666742\n",
      "Epoch 32 loss: 550.5833333333334\n",
      "diff: 3.1666666666667425\n",
      "Epoch 33 loss: 556.7916666666666\n",
      "diff: 9.375\n",
      "Epoch 34 loss: 548.6666666666666\n",
      "diff: 1.25\n",
      "Epoch 35 loss: 556.3333333333334\n",
      "diff: 8.916666666666742\n",
      "Epoch 36 loss: 547.0833333333334\n",
      "diff: 0.0\n",
      "Epoch 37 loss: 550.0416666666666\n",
      "diff: 2.9583333333332575\n",
      "Epoch 38 loss: 552.0833333333334\n",
      "diff: 5.0\n",
      "Epoch 39 loss: 568.9166666666666\n",
      "diff: 21.833333333333258\n",
      "Epoch 40 loss: 553.0833333333334\n",
      "diff: 6.0\n",
      "Epoch 41 loss: 552.0\n",
      "diff: 4.916666666666629\n",
      "Epoch 42 loss: 534.5\n",
      "diff: 0.0\n",
      "Epoch 43 loss: 543.0416666666666\n",
      "diff: 8.541666666666629\n",
      "Epoch 44 loss: 550.0\n",
      "diff: 15.5\n",
      "Epoch 45 loss: 541.7083333333334\n",
      "diff: 7.208333333333371\n",
      "Epoch 46 loss: 552.9583333333334\n",
      "diff: 18.45833333333337\n",
      "Epoch 47 loss: 541.5833333333334\n",
      "diff: 7.083333333333371\n",
      "Epoch 48 loss: 557.875\n",
      "diff: 23.375\n",
      "Epoch 49 loss: 547.0833333333334\n",
      "diff: 12.583333333333371\n",
      "Epoch 50 loss: 556.9583333333334\n",
      "diff: 22.45833333333337\n",
      "Epoch 51 loss: 543.875\n",
      "diff: 9.375\n",
      "Epoch 52 loss: 533.5416666666666\n",
      "diff: 0.0\n",
      "Epoch 53 loss: 540.375\n",
      "diff: 6.833333333333371\n",
      "Epoch 54 loss: 538.25\n",
      "diff: 4.708333333333371\n",
      "Epoch 55 loss: 529.5\n",
      "diff: 0.0\n",
      "Epoch 56 loss: 552.4166666666666\n",
      "diff: 22.91666666666663\n",
      "Epoch 57 loss: 547.9583333333334\n",
      "diff: 18.45833333333337\n",
      "Epoch 58 loss: 545.25\n",
      "diff: 15.75\n",
      "Epoch 59 loss: 552.8333333333334\n",
      "diff: 23.33333333333337\n",
      "Epoch 60 loss: 546.25\n",
      "diff: 16.75\n",
      "Epoch 61 loss: 535.5416666666666\n",
      "diff: 6.041666666666629\n",
      "Epoch 62 loss: 526.75\n",
      "diff: 0.0\n",
      "Epoch 63 loss: 540.6666666666666\n",
      "diff: 13.916666666666629\n",
      "Epoch 64 loss: 541.7083333333334\n",
      "diff: 14.958333333333371\n",
      "Epoch 65 loss: 546.8333333333334\n",
      "diff: 20.08333333333337\n",
      "Epoch 66 loss: 536.7916666666666\n",
      "diff: 10.041666666666629\n",
      "Epoch 67 loss: 537.25\n",
      "diff: 10.5\n",
      "Epoch 68 loss: 528.8333333333334\n",
      "diff: 2.0833333333333712\n",
      "Epoch 69 loss: 528.7083333333334\n",
      "diff: 1.9583333333333712\n",
      "Epoch 70 loss: 536.25\n",
      "diff: 9.5\n",
      "Epoch 71 loss: 520.9583333333334\n",
      "diff: 0.0\n",
      "Epoch 72 loss: 536.4583333333334\n",
      "diff: 15.5\n",
      "Epoch 73 loss: 529.375\n",
      "diff: 8.416666666666629\n",
      "Epoch 74 loss: 532.7916666666666\n",
      "diff: 11.833333333333258\n",
      "Epoch 75 loss: 534.375\n",
      "diff: 13.416666666666629\n",
      "Epoch 76 loss: 543.3333333333334\n",
      "diff: 22.375\n",
      "Epoch 77 loss: 540.9583333333334\n",
      "diff: 20.0\n",
      "Epoch 78 loss: 548.0833333333334\n",
      "diff: 27.125\n",
      "Epoch 79 loss: 537.5\n",
      "diff: 16.54166666666663\n",
      "Epoch 80 loss: 531.7083333333334\n",
      "diff: 10.75\n",
      "Epoch 81 loss: 532.0416666666666\n",
      "diff: 11.083333333333258\n",
      "Epoch 82 loss: 523.3333333333334\n",
      "diff: 2.375\n",
      "Epoch 83 loss: 530.875\n",
      "diff: 9.916666666666629\n",
      "Epoch 84 loss: 530.2083333333334\n",
      "diff: 9.25\n",
      "Epoch 85 loss: 526.75\n",
      "diff: 5.791666666666629\n",
      "Epoch 86 loss: 543.4166666666666\n",
      "diff: 22.458333333333258\n",
      "Epoch 87 loss: 520.7916666666666\n",
      "diff: 0.0\n",
      "Epoch 88 loss: 529.125\n",
      "diff: 8.333333333333371\n",
      "Epoch 89 loss: 547.4166666666666\n",
      "diff: 26.625\n",
      "Epoch 90 loss: 549.875\n",
      "diff: 29.08333333333337\n",
      "Epoch 91 loss: 510.2916666666667\n",
      "diff: 0.0\n",
      "Epoch 92 loss: 533.2916666666666\n",
      "diff: 22.999999999999943\n",
      "Epoch 93 loss: 521.9166666666666\n",
      "diff: 11.624999999999943\n",
      "Epoch 94 loss: 523.0416666666666\n",
      "diff: 12.749999999999943\n",
      "Epoch 95 loss: 528.375\n",
      "diff: 18.083333333333314\n",
      "Epoch 96 loss: 515.9166666666666\n",
      "diff: 5.624999999999943\n",
      "Epoch 97 loss: 511.7916666666667\n",
      "diff: 1.5\n",
      "Epoch 98 loss: 531.5833333333334\n",
      "diff: 21.291666666666686\n",
      "Epoch 99 loss: 520.0416666666666\n",
      "diff: 9.749999999999943\n"
     ]
    }
   ],
   "source": [
    "train_fn = lambda x:train(x,100)\n",
    "diffusion_model = FABRIC.launch(train_fn)"
   ]
  },
  {
   "cell_type": "code",
   "execution_count": 12,
   "metadata": {},
   "outputs": [
    {
     "data": {
      "text/plain": [
       "<All keys matched successfully>"
      ]
     },
     "execution_count": 12,
     "metadata": {},
     "output_type": "execute_result"
    }
   ],
   "source": [
    "diffusion_model.load_state_dict(torch.load(os.path.join(SAVE_PATH,\"unet_diff.pt\")))"
   ]
  },
  {
   "cell_type": "code",
   "execution_count": 13,
   "metadata": {},
   "outputs": [
    {
     "data": {
      "text/plain": [
       "<All keys matched successfully>"
      ]
     },
     "execution_count": 13,
     "metadata": {},
     "output_type": "execute_result"
    }
   ],
   "source": [
    "unet.load_state_dict(torch.load(os.path.join(SAVE_PATH,\"unet_state_dict.pt\")))"
   ]
  },
  {
   "cell_type": "code",
   "execution_count": 14,
   "metadata": {},
   "outputs": [],
   "source": [
    "def generate_samples(fabric,\n",
    "                     diffusion_model, \n",
    "\t\t\t\t\t condition,\n",
    "                     batch_size=200,\n",
    "                     n_iter=20,\n",
    "                     w=0):\n",
    "    # it's a bit hard to predict memory consumption so splitting in mini-batches to be safe\n",
    "    num_samples = batch_size\n",
    "    cond = 0\n",
    "    if (condition == 0):\n",
    "        cond = (torch.zeros(num_samples, 1, 512)+1).to(dtype=torch.float16,\n",
    "                                                       device=DEVICE)\n",
    "    elif (condition == 1):\n",
    "        cond = (torch.ones(num_samples, 1, 512)+1).to(dtype=torch.float16,\n",
    "                                                      device=DEVICE)\n",
    "    \n",
    "    diffusion_model.eval()\n",
    "\n",
    "    print(f\"Generating samples: cue {condition + 1}\")\n",
    "    complete_samples = []\n",
    "    with fabric.autocast():\n",
    "        with torch.no_grad():\n",
    "            for i in range(n_iter):\n",
    "                samples, _ = diffusion_model.sample(num_samples, cond=cond,w=w)\n",
    "                samples = samples.cpu().numpy()\n",
    "                print(samples.shape)\n",
    "                complete_samples.append(samples)\n",
    "    complete_samples = np.float32(np.concatenate(complete_samples))\n",
    "    print(complete_samples.shape)\n",
    "    return complete_samples"
   ]
  },
  {
   "cell_type": "code",
   "execution_count": 15,
   "metadata": {},
   "outputs": [
    {
     "name": "stdout",
     "output_type": "stream",
     "text": [
      "Generating samples: cue 1\n",
      "(200, 3, 512)\n",
      "(200, 3, 512)\n",
      "(200, 3, 512)\n",
      "(200, 3, 512)\n",
      "(200, 3, 512)\n",
      "(200, 3, 512)\n",
      "(200, 3, 512)\n",
      "(200, 3, 512)\n",
      "(200, 3, 512)\n",
      "(200, 3, 512)\n",
      "(2000, 3, 512)\n",
      "Generating samples: cue 2\n",
      "(200, 3, 512)\n",
      "(200, 3, 512)\n",
      "(200, 3, 512)\n",
      "(200, 3, 512)\n",
      "(200, 3, 512)\n",
      "(200, 3, 512)\n",
      "(200, 3, 512)\n",
      "(200, 3, 512)\n",
      "(200, 3, 512)\n",
      "(200, 3, 512)\n",
      "(2000, 3, 512)\n"
     ]
    }
   ],
   "source": [
    "generated_signals_zero = generate_samples(FABRIC,diffusion_model, condition=0,n_iter=10,\n",
    "\t\t\t\t\t\t\t\t\t\t  batch_size=200,w=3)\n",
    "generated_signals_one = generate_samples(FABRIC,diffusion_model, condition=1,n_iter=10,\n",
    "\t\t\t\t\t\t\t\t\t\t batch_size=200,w=3)\n",
    "np.save(os.path.join(SAVE_PATH,\"generated_zeros.npy\"),generated_signals_zero)\n",
    "np.save(os.path.join(SAVE_PATH,\"generated_ones.npy\"),generated_signals_one)"
   ]
  },
  {
   "cell_type": "code",
   "execution_count": 16,
   "metadata": {},
   "outputs": [],
   "source": [
    "def check():\n",
    "\n",
    "\tgenerated_signals_zero = np.load(os.path.join(SAVE_PATH,\"generated_zeros.npy\"))\n",
    "\tgenerated_signals_one = np.load(os.path.join(SAVE_PATH,\"generated_ones.npy\"))\n",
    "\n",
    "\taccuracies = []\n",
    "\t\t\n",
    "\ttest_classifier = SimpleCSP(train_split=TRAIN_SPLIT,\n",
    "\t\t\t\t\t\t\t\ttest_split=TEST_SPLIT,\n",
    "\t\t\t\t\t\t\t\tdataset=None,\n",
    "\t\t\t\t\t\t\t\tsave_paths=[REAL_DATA],\n",
    "\t\t\t\t\t\t\t\tchannels=CHANNELS,\n",
    "\t\t\t\t\t\t\t\tlength=2.05)\n",
    "\n",
    "\tfull_x,full_y = test_classifier.get_train()\n",
    "\n",
    "\tprint(f\"full x shape: {full_x.shape}\")\n",
    "\n",
    "\tacc = test_classifier.fit()\n",
    "\n",
    "\tprint(f\"reaching an accuracy of {acc} without fake data\")\n",
    "\n",
    "\tfor real_fake_split in range(15, 46, 15):\n",
    "\t\t\n",
    "\t\t# Train new classifier with a mix of generated and real data\n",
    "\t\t\n",
    "\t\t# Change real_fake_split percent of the test_classifier data to generated signals\n",
    "\t\tn = int(len(full_x) * real_fake_split / 100)\n",
    "\n",
    "\t\tshuffling = np.random.permutation(full_x.shape[0])\n",
    "\n",
    "\t\tsplit_x = full_x[shuffling]\n",
    "\t\tsplit_y = full_y[shuffling]\n",
    "\t\tsplit_x[0:n//2] = generated_signals_one[0:n//2]\n",
    "\t\tsplit_y[0:n//2] = 1\n",
    "\n",
    "\t\tsplit_x[n//2:2*(n//2)] = generated_signals_zero[0:n//2]\n",
    "\t\tsplit_y[n//2:2*(n//2)] = 0\n",
    "\n",
    "\t\tprint(f\"split x shape: {split_x.shape}\")\n",
    "\n",
    "\t\tacc = test_classifier.fit((split_x,split_y))\n",
    "\n",
    "\t\taccuracies.append(acc)\n",
    "\t\t\t\t\t\n",
    "\t\tprint(f\"Reaching an accuracy of {acc} using {real_fake_split}% fake data\")"
   ]
  },
  {
   "cell_type": "code",
   "execution_count": 17,
   "metadata": {},
   "outputs": [
    {
     "name": "stdout",
     "output_type": "stream",
     "text": [
      "(3026, 3, 512)\n",
      "(3026,)\n",
      "final data shape: (3026, 3, 512)\n",
      "(2241, 3, 512)\n",
      "(2241,)\n",
      "final data shape: (2241, 3, 512)\n",
      "full x shape: (3026, 3, 512)\n",
      "input shape: (3026, 3, 512)\n",
      "Computing rank from data with rank=None\n",
      "    Using tolerance 3.4 (2.2e-16 eps * 3 dim * 5.2e+15  max singular value)\n",
      "    Estimated rank (mag): 3\n",
      "    MAG: rank 3 computed from 3 data channels with 0 projectors\n",
      "Reducing data rank from 3 -> 3\n",
      "Estimating covariance using EMPIRICAL\n",
      "Done.\n",
      "Computing rank from data with rank=None\n",
      "    Using tolerance 3.4 (2.2e-16 eps * 3 dim * 5.1e+15  max singular value)\n",
      "    Estimated rank (mag): 3\n",
      "    MAG: rank 3 computed from 3 data channels with 0 projectors\n",
      "Reducing data rank from 3 -> 3\n",
      "Estimating covariance using EMPIRICAL\n",
      "Done.\n",
      "reaching an accuracy of 0.5885765283355645 without fake data\n",
      "split x shape: (3026, 3, 512)\n",
      "input shape: (3026, 3, 512)\n",
      "Computing rank from data with rank=None\n",
      "    Using tolerance 4.2 (2.2e-16 eps * 3 dim * 6.3e+15  max singular value)\n",
      "    Estimated rank (mag): 3\n",
      "    MAG: rank 3 computed from 3 data channels with 0 projectors\n",
      "Reducing data rank from 3 -> 3\n",
      "Estimating covariance using EMPIRICAL\n",
      "Done.\n",
      "Computing rank from data with rank=None\n",
      "    Using tolerance 4.2 (2.2e-16 eps * 3 dim * 6.3e+15  max singular value)\n",
      "    Estimated rank (mag): 3\n",
      "    MAG: rank 3 computed from 3 data channels with 0 projectors\n",
      "Reducing data rank from 3 -> 3\n",
      "Estimating covariance using EMPIRICAL\n",
      "Done.\n",
      "Reaching an accuracy of 0.5774207942882642 using 15% fake data\n",
      "split x shape: (3026, 3, 512)\n",
      "input shape: (3026, 3, 512)\n",
      "Computing rank from data with rank=None\n",
      "    Using tolerance 4.8 (2.2e-16 eps * 3 dim * 7.2e+15  max singular value)\n",
      "    Estimated rank (mag): 3\n",
      "    MAG: rank 3 computed from 3 data channels with 0 projectors\n",
      "Reducing data rank from 3 -> 3\n",
      "Estimating covariance using EMPIRICAL\n",
      "Done.\n",
      "Computing rank from data with rank=None\n",
      "    Using tolerance 4.8 (2.2e-16 eps * 3 dim * 7.2e+15  max singular value)\n",
      "    Estimated rank (mag): 3\n",
      "    MAG: rank 3 computed from 3 data channels with 0 projectors\n",
      "Reducing data rank from 3 -> 3\n",
      "Estimating covariance using EMPIRICAL\n",
      "Done.\n",
      "Reaching an accuracy of 0.5765283355644801 using 30% fake data\n",
      "split x shape: (3026, 3, 512)\n",
      "input shape: (3026, 3, 512)\n",
      "Computing rank from data with rank=None\n",
      "    Using tolerance 5.2 (2.2e-16 eps * 3 dim * 7.8e+15  max singular value)\n",
      "    Estimated rank (mag): 3\n",
      "    MAG: rank 3 computed from 3 data channels with 0 projectors\n",
      "Reducing data rank from 3 -> 3\n",
      "Estimating covariance using EMPIRICAL\n",
      "Done.\n",
      "Computing rank from data with rank=None\n",
      "    Using tolerance 5.5 (2.2e-16 eps * 3 dim * 8.2e+15  max singular value)\n",
      "    Estimated rank (mag): 3\n",
      "    MAG: rank 3 computed from 3 data channels with 0 projectors\n",
      "Reducing data rank from 3 -> 3\n",
      "Estimating covariance using EMPIRICAL\n",
      "Done.\n",
      "Reaching an accuracy of 0.5684962070504239 using 45% fake data\n"
     ]
    }
   ],
   "source": [
    "check()"
   ]
  },
  {
   "cell_type": "markdown",
   "metadata": {},
   "source": [
    "## Classification"
   ]
  },
  {
   "cell_type": "code",
   "execution_count": 18,
   "metadata": {},
   "outputs": [],
   "source": [
    "x = torch.rand((2,3,512),device=unet.device)"
   ]
  },
  {
   "cell_type": "code",
   "execution_count": 20,
   "metadata": {},
   "outputs": [
    {
     "data": {
      "text/plain": [
       "tensor([[-0.1628, -0.0399],\n",
       "        [ 0.2175,  0.2106]], device='cuda:0', grad_fn=<AddmmBackward0>)"
      ]
     },
     "execution_count": 20,
     "metadata": {},
     "output_type": "execute_result"
    }
   ],
   "source": [
    "unet.classify(x)"
   ]
  },
  {
   "cell_type": "code",
   "execution_count": 21,
   "metadata": {},
   "outputs": [],
   "source": [
    "ones = os.path.join(SAVE_PATH,\"generated_ones.npy\")\n",
    "zeros = os.path.join(SAVE_PATH,\"generated_zeros.npy\")\n",
    "fake_paths = (ones,zeros)"
   ]
  },
  {
   "cell_type": "code",
   "execution_count": 22,
   "metadata": {},
   "outputs": [
    {
     "name": "stdout",
     "output_type": "stream",
     "text": [
      "(3026, 3, 512)\n",
      "(3026,)\n",
      "we have fake data\n",
      "final data shape: (4538, 3, 512)\n",
      "(2241, 3, 512)\n",
      "(2241,)\n",
      "final data shape: (2241, 3, 512)\n"
     ]
    }
   ],
   "source": [
    "deep_clf = DeepClassifier(\n",
    "\tmodel=unet,\n",
    "\tsave_paths=[\"../../data/2b_iv/raw/\"],\n",
    "\tfake_data=fake_paths,\n",
    "\ttrain_split=TRAIN_SPLIT,\n",
    "\ttest_split=TEST_SPLIT,\n",
    "\tdataset=None,\n",
    "\tdataset_type=subject_dataset,\n",
    "\tlength=2.05,\n",
    "\tindex_cutoff=512\n",
    ")"
   ]
  },
  {
   "cell_type": "code",
   "execution_count": 23,
   "metadata": {},
   "outputs": [
    {
     "data": {
      "text/plain": [
       "  | Name          | Type                 | Params\n",
       "-------------------------------------------------------\n",
       "0 | time_embed    | SinusoidalPosEmb     | 0     \n",
       "1 | class_embed   | Embedding            | 36    \n",
       "2 | encoder       | ModuleList           | 1.2 M \n",
       "3 | decoder       | ModuleList           | 2.5 M \n",
       "4 | auxiliary_clf | BottleNeckClassifier | 2.1 M \n",
       "5 | middle_conv   | EmbedConvdown        | 400 K \n",
       "6 | output_conv   | Conv1d               | 99    \n",
       "-------------------------------------------------------\n",
       "6.2 M     Trainable params\n",
       "0         Non-trainable params\n",
       "6.2 M     Total params\n",
       "24.706    Total estimated model params size (MB)"
      ]
     },
     "execution_count": 23,
     "metadata": {},
     "output_type": "execute_result"
    }
   ],
   "source": [
    "ModelSummary(unet)"
   ]
  },
  {
   "cell_type": "markdown",
   "metadata": {},
   "source": []
  },
  {
   "cell_type": "code",
   "execution_count": 26,
   "metadata": {},
   "outputs": [],
   "source": [
    "fine_tune = [unet.encoder,\n",
    "\t\t\tunet.decoder,\n",
    "\t\t\tunet.middle_conv,\n",
    "\t\t\tunet.output_conv,]\n",
    "\n",
    "to_optimize = [{\"params\":i.parameters(),\n",
    "\t\"lr\":2E-5,\n",
    "\t\"weight_decay\":1E-4} for i in fine_tune]\n",
    "\n",
    "to_optimize.append({\"params\":unet.auxiliary_clf.parameters(),\n",
    "     \"lr\":1E-3,\n",
    " \t\"weight_decay\":1E-4})\n",
    "\n",
    "optimizer = optim.AdamW(to_optimize)"
   ]
  },
  {
   "cell_type": "code",
   "execution_count": 27,
   "metadata": {},
   "outputs": [
    {
     "name": "stdout",
     "output_type": "stream",
     "text": [
      "using specified optimizer\n",
      "Epoch [1/150], Training Loss: 0.803, Training Accuracy: 49.69%, Validation Loss: 0.689, Validation Accuracy: 53.73%\n",
      "Epoch [2/150], Training Loss: 0.704, Training Accuracy: 48.55%, Validation Loss: 0.697, Validation Accuracy: 50.38%\n",
      "Epoch [3/150], Training Loss: 0.701, Training Accuracy: 50.64%, Validation Loss: 0.691, Validation Accuracy: 54.71%\n",
      "Epoch [4/150], Training Loss: 0.702, Training Accuracy: 50.37%, Validation Loss: 0.694, Validation Accuracy: 51.18%\n",
      "Epoch [5/150], Training Loss: 0.700, Training Accuracy: 50.31%, Validation Loss: 0.714, Validation Accuracy: 51.85%\n",
      "Epoch [6/150], Training Loss: 0.700, Training Accuracy: 50.20%, Validation Loss: 0.709, Validation Accuracy: 51.49%\n",
      "Epoch [7/150], Training Loss: 0.698, Training Accuracy: 51.94%, Validation Loss: 0.696, Validation Accuracy: 51.45%\n",
      "Epoch [8/150], Training Loss: 0.699, Training Accuracy: 50.02%, Validation Loss: 0.696, Validation Accuracy: 50.56%\n",
      "Epoch [9/150], Training Loss: 0.699, Training Accuracy: 50.09%, Validation Loss: 0.691, Validation Accuracy: 52.97%\n"
     ]
    },
    {
     "ename": "KeyboardInterrupt",
     "evalue": "",
     "output_type": "error",
     "traceback": [
      "\u001b[1;31m---------------------------------------------------------------------------\u001b[0m",
      "\u001b[1;31mKeyboardInterrupt\u001b[0m                         Traceback (most recent call last)",
      "Cell \u001b[1;32mIn[27], line 1\u001b[0m\n\u001b[1;32m----> 1\u001b[0m \u001b[43mdeep_clf\u001b[49m\u001b[38;5;241;43m.\u001b[39;49m\u001b[43mfit\u001b[49m\u001b[43m(\u001b[49m\u001b[43mfabric\u001b[49m\u001b[38;5;241;43m=\u001b[39;49m\u001b[43mFABRIC\u001b[49m\u001b[43m,\u001b[49m\n\u001b[0;32m      2\u001b[0m \u001b[43m\t\t\t \u001b[49m\u001b[43mnum_epochs\u001b[49m\u001b[38;5;241;43m=\u001b[39;49m\u001b[38;5;241;43m150\u001b[39;49m\u001b[43m,\u001b[49m\n\u001b[0;32m      3\u001b[0m \u001b[43m\t\t\t \u001b[49m\u001b[43mlr\u001b[49m\u001b[38;5;241;43m=\u001b[39;49m\u001b[38;5;241;43m1E-3\u001b[39;49m\u001b[43m,\u001b[49m\n\u001b[0;32m      4\u001b[0m \u001b[43m\t\t\t \u001b[49m\u001b[43mweight_decay\u001b[49m\u001b[38;5;241;43m=\u001b[39;49m\u001b[38;5;241;43m1E-4\u001b[39;49m\u001b[43m,\u001b[49m\n\u001b[0;32m      5\u001b[0m \u001b[43m\t\t\t \u001b[49m\u001b[43mverbose\u001b[49m\u001b[38;5;241;43m=\u001b[39;49m\u001b[38;5;28;43;01mTrue\u001b[39;49;00m\u001b[43m,\u001b[49m\n\u001b[0;32m      6\u001b[0m \u001b[43m\t\t\t \u001b[49m\u001b[43moptimizer\u001b[49m\u001b[38;5;241;43m=\u001b[39;49m\u001b[43moptimizer\u001b[49m\u001b[43m)\u001b[49m\n",
      "File \u001b[1;32md:\\Machine learning\\MI SSL\\motor-imagery-classification-2024\\models\\diffusion\\../../../motor-imagery-classification-2024\\classification\\classifiers.py:533\u001b[0m, in \u001b[0;36mDeepClassifier.fit\u001b[1;34m(self, fabric, num_epochs, lr, weight_decay, verbose, validation_step, optimizer)\u001b[0m\n\u001b[0;32m    531\u001b[0m \u001b[38;5;28;01mwith\u001b[39;00m fabric\u001b[38;5;241m.\u001b[39mautocast():\n\u001b[0;32m    532\u001b[0m     inputs, labels \u001b[38;5;241m=\u001b[39m inputs[:, :, :\u001b[38;5;28mself\u001b[39m\u001b[38;5;241m.\u001b[39mindex_cutoff], labels\n\u001b[1;32m--> 533\u001b[0m     outputs \u001b[38;5;241m=\u001b[39m \u001b[38;5;28;43mself\u001b[39;49m\u001b[38;5;241;43m.\u001b[39;49m\u001b[43mmodel\u001b[49m\u001b[38;5;241;43m.\u001b[39;49m\u001b[43mclassify\u001b[49m\u001b[43m(\u001b[49m\u001b[43minputs\u001b[49m\u001b[43m)\u001b[49m\n\u001b[0;32m    534\u001b[0m     loss \u001b[38;5;241m=\u001b[39m criterion(outputs, labels)\n\u001b[0;32m    535\u001b[0m fabric\u001b[38;5;241m.\u001b[39mbackward(loss)\n",
      "File \u001b[1;32md:\\Machine learning\\MI SSL\\motor-imagery-classification-2024\\models\\diffusion\\u_net_diffusion.py:384\u001b[0m, in \u001b[0;36mDiffusionUnet.classify\u001b[1;34m(self, x)\u001b[0m\n\u001b[0;32m    382\u001b[0m skip_connections \u001b[38;5;241m=\u001b[39m []\n\u001b[0;32m    383\u001b[0m \u001b[38;5;28;01mfor\u001b[39;00m encode \u001b[38;5;129;01min\u001b[39;00m \u001b[38;5;28mself\u001b[39m\u001b[38;5;241m.\u001b[39mencoder:\n\u001b[1;32m--> 384\u001b[0m \tx,skip \u001b[38;5;241m=\u001b[39m \u001b[43mencode\u001b[49m\u001b[43m(\u001b[49m\u001b[43mx\u001b[49m\u001b[43m,\u001b[49m\u001b[43mt\u001b[49m\u001b[43m,\u001b[49m\u001b[43mc\u001b[49m\u001b[43m)\u001b[49m\n\u001b[0;32m    385\u001b[0m \tskip_connections\u001b[38;5;241m.\u001b[39mappend(skip)\n\u001b[0;32m    387\u001b[0m x \u001b[38;5;241m=\u001b[39m \u001b[38;5;28mself\u001b[39m\u001b[38;5;241m.\u001b[39mmiddle_conv(x,t,c)\n",
      "File \u001b[1;32mc:\\Users\\rahar\\anaconda3\\envs\\neuro\\lib\\site-packages\\torch\\nn\\modules\\module.py:1501\u001b[0m, in \u001b[0;36mModule._call_impl\u001b[1;34m(self, *args, **kwargs)\u001b[0m\n\u001b[0;32m   1496\u001b[0m \u001b[38;5;66;03m# If we don't have any hooks, we want to skip the rest of the logic in\u001b[39;00m\n\u001b[0;32m   1497\u001b[0m \u001b[38;5;66;03m# this function, and just call forward.\u001b[39;00m\n\u001b[0;32m   1498\u001b[0m \u001b[38;5;28;01mif\u001b[39;00m \u001b[38;5;129;01mnot\u001b[39;00m (\u001b[38;5;28mself\u001b[39m\u001b[38;5;241m.\u001b[39m_backward_hooks \u001b[38;5;129;01mor\u001b[39;00m \u001b[38;5;28mself\u001b[39m\u001b[38;5;241m.\u001b[39m_backward_pre_hooks \u001b[38;5;129;01mor\u001b[39;00m \u001b[38;5;28mself\u001b[39m\u001b[38;5;241m.\u001b[39m_forward_hooks \u001b[38;5;129;01mor\u001b[39;00m \u001b[38;5;28mself\u001b[39m\u001b[38;5;241m.\u001b[39m_forward_pre_hooks\n\u001b[0;32m   1499\u001b[0m         \u001b[38;5;129;01mor\u001b[39;00m _global_backward_pre_hooks \u001b[38;5;129;01mor\u001b[39;00m _global_backward_hooks\n\u001b[0;32m   1500\u001b[0m         \u001b[38;5;129;01mor\u001b[39;00m _global_forward_hooks \u001b[38;5;129;01mor\u001b[39;00m _global_forward_pre_hooks):\n\u001b[1;32m-> 1501\u001b[0m     \u001b[38;5;28;01mreturn\u001b[39;00m forward_call(\u001b[38;5;241m*\u001b[39margs, \u001b[38;5;241m*\u001b[39m\u001b[38;5;241m*\u001b[39mkwargs)\n\u001b[0;32m   1502\u001b[0m \u001b[38;5;66;03m# Do not call functions when jit is used\u001b[39;00m\n\u001b[0;32m   1503\u001b[0m full_backward_hooks, non_full_backward_hooks \u001b[38;5;241m=\u001b[39m [], []\n",
      "File \u001b[1;32md:\\Machine learning\\MI SSL\\motor-imagery-classification-2024\\models\\diffusion\\u_net_diffusion.py:170\u001b[0m, in \u001b[0;36mEmbedEncode.forward\u001b[1;34m(self, x, t, c)\u001b[0m\n\u001b[0;32m    169\u001b[0m \u001b[38;5;28;01mdef\u001b[39;00m \u001b[38;5;21mforward\u001b[39m(\u001b[38;5;28mself\u001b[39m, x,t,c):\n\u001b[1;32m--> 170\u001b[0m \tx \u001b[38;5;241m=\u001b[39m \u001b[38;5;28;43mself\u001b[39;49m\u001b[38;5;241;43m.\u001b[39;49m\u001b[43mconvdown\u001b[49m\u001b[43m(\u001b[49m\u001b[43mx\u001b[49m\u001b[43m,\u001b[49m\u001b[43mt\u001b[49m\u001b[43m,\u001b[49m\u001b[43mc\u001b[49m\u001b[43m)\u001b[49m\n\u001b[0;32m    171\u001b[0m \tpooled \u001b[38;5;241m=\u001b[39m \u001b[38;5;28mself\u001b[39m\u001b[38;5;241m.\u001b[39mpool(x)\n\u001b[0;32m    172\u001b[0m \t\u001b[38;5;28;01mreturn\u001b[39;00m pooled, x\n",
      "File \u001b[1;32mc:\\Users\\rahar\\anaconda3\\envs\\neuro\\lib\\site-packages\\torch\\nn\\modules\\module.py:1501\u001b[0m, in \u001b[0;36mModule._call_impl\u001b[1;34m(self, *args, **kwargs)\u001b[0m\n\u001b[0;32m   1496\u001b[0m \u001b[38;5;66;03m# If we don't have any hooks, we want to skip the rest of the logic in\u001b[39;00m\n\u001b[0;32m   1497\u001b[0m \u001b[38;5;66;03m# this function, and just call forward.\u001b[39;00m\n\u001b[0;32m   1498\u001b[0m \u001b[38;5;28;01mif\u001b[39;00m \u001b[38;5;129;01mnot\u001b[39;00m (\u001b[38;5;28mself\u001b[39m\u001b[38;5;241m.\u001b[39m_backward_hooks \u001b[38;5;129;01mor\u001b[39;00m \u001b[38;5;28mself\u001b[39m\u001b[38;5;241m.\u001b[39m_backward_pre_hooks \u001b[38;5;129;01mor\u001b[39;00m \u001b[38;5;28mself\u001b[39m\u001b[38;5;241m.\u001b[39m_forward_hooks \u001b[38;5;129;01mor\u001b[39;00m \u001b[38;5;28mself\u001b[39m\u001b[38;5;241m.\u001b[39m_forward_pre_hooks\n\u001b[0;32m   1499\u001b[0m         \u001b[38;5;129;01mor\u001b[39;00m _global_backward_pre_hooks \u001b[38;5;129;01mor\u001b[39;00m _global_backward_hooks\n\u001b[0;32m   1500\u001b[0m         \u001b[38;5;129;01mor\u001b[39;00m _global_forward_hooks \u001b[38;5;129;01mor\u001b[39;00m _global_forward_pre_hooks):\n\u001b[1;32m-> 1501\u001b[0m     \u001b[38;5;28;01mreturn\u001b[39;00m forward_call(\u001b[38;5;241m*\u001b[39margs, \u001b[38;5;241m*\u001b[39m\u001b[38;5;241m*\u001b[39mkwargs)\n\u001b[0;32m   1502\u001b[0m \u001b[38;5;66;03m# Do not call functions when jit is used\u001b[39;00m\n\u001b[0;32m   1503\u001b[0m full_backward_hooks, non_full_backward_hooks \u001b[38;5;241m=\u001b[39m [], []\n",
      "File \u001b[1;32md:\\Machine learning\\MI SSL\\motor-imagery-classification-2024\\models\\diffusion\\u_net_diffusion.py:150\u001b[0m, in \u001b[0;36mEmbedConvdown.forward\u001b[1;34m(self, x, t, c)\u001b[0m\n\u001b[0;32m    148\u001b[0m x \u001b[38;5;241m=\u001b[39m \u001b[38;5;28mself\u001b[39m\u001b[38;5;241m.\u001b[39mdrop(\u001b[38;5;28mself\u001b[39m\u001b[38;5;241m.\u001b[39mc1(x))\n\u001b[0;32m    149\u001b[0m x \u001b[38;5;241m=\u001b[39m \u001b[38;5;28mself\u001b[39m\u001b[38;5;241m.\u001b[39mnon_lin(x)\n\u001b[1;32m--> 150\u001b[0m x \u001b[38;5;241m=\u001b[39m \u001b[43mcrop_add\u001b[49m\u001b[43m(\u001b[49m\u001b[43mx\u001b[49m\u001b[43m,\u001b[49m\u001b[43mt\u001b[49m\u001b[43m,\u001b[49m\u001b[43mc\u001b[49m\u001b[43m)\u001b[49m\n\u001b[0;32m    151\u001b[0m x \u001b[38;5;241m=\u001b[39m x \u001b[38;5;241m+\u001b[39m \u001b[38;5;28mself\u001b[39m\u001b[38;5;241m.\u001b[39mdrop(\u001b[38;5;28mself\u001b[39m\u001b[38;5;241m.\u001b[39mc2(x))\n\u001b[0;32m    152\u001b[0m x \u001b[38;5;241m=\u001b[39m \u001b[38;5;28mself\u001b[39m\u001b[38;5;241m.\u001b[39mnon_lin(x)\n",
      "\u001b[1;31mKeyboardInterrupt\u001b[0m: "
     ]
    }
   ],
   "source": [
    "deep_clf.fit(fabric=FABRIC,\n",
    "\t\t\t num_epochs=150,\n",
    "\t\t\t lr=1E-3,\n",
    "\t\t\t weight_decay=1E-4,\n",
    "\t\t\t verbose=True,\n",
    "\t\t\t optimizer=optimizer)"
   ]
  },
  {
   "cell_type": "code",
   "execution_count": 4,
   "metadata": {},
   "outputs": [],
   "source": [
    "from classification.classifiers import k_fold_splits"
   ]
  },
  {
   "cell_type": "code",
   "execution_count": 5,
   "metadata": {},
   "outputs": [
    {
     "data": {
      "text/plain": [
       "[[['train', 'test'],\n",
       "  ['train', 'test'],\n",
       "  ['train', 'test'],\n",
       "  ['train', 'test'],\n",
       "  [],\n",
       "  ['train', 'test'],\n",
       "  ['train', 'test'],\n",
       "  ['train', 'test'],\n",
       "  ['train', 'test']],\n",
       " [[], [], [], [], ['test'], [], [], [], []]]"
      ]
     },
     "execution_count": 5,
     "metadata": {},
     "output_type": "execute_result"
    }
   ],
   "source": [
    "k_fold_splits(k=9,n_participants=9,leave_out=True)[0]"
   ]
  },
  {
   "cell_type": "code",
   "execution_count": null,
   "metadata": {},
   "outputs": [],
   "source": []
  }
 ],
 "metadata": {
  "kernelspec": {
   "display_name": "neuro",
   "language": "python",
   "name": "python3"
  },
  "language_info": {
   "codemirror_mode": {
    "name": "ipython",
    "version": 3
   },
   "file_extension": ".py",
   "mimetype": "text/x-python",
   "name": "python",
   "nbconvert_exporter": "python",
   "pygments_lexer": "ipython3",
   "version": "3.10.12"
  }
 },
 "nbformat": 4,
 "nbformat_minor": 2
}
