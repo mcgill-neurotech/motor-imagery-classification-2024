{
 "cells": [
  {
   "cell_type": "code",
   "execution_count": 1,
   "metadata": {},
   "outputs": [
    {
     "name": "stderr",
     "output_type": "stream",
     "text": [
      "c:\\Users\\rahar\\anaconda3\\envs\\neuro\\lib\\site-packages\\tqdm\\auto.py:21: TqdmWarning: IProgress not found. Please update jupyter and ipywidgets. See https://ipywidgets.readthedocs.io/en/stable/user_install.html\n",
      "  from .autonotebook import tqdm as notebook_tqdm\n",
      "c:\\Users\\rahar\\anaconda3\\envs\\neuro\\lib\\site-packages\\torchaudio\\backend\\utils.py:74: UserWarning: No audio backend is available.\n",
      "  warnings.warn(\"No audio backend is available.\")\n"
     ]
    }
   ],
   "source": [
    "import sys\n",
    "sys.path.append(\"../../../motor-imagery-classification-2024/\")\n",
    "import os\n",
    "import torch\n",
    "from torch import nn\n",
    "import optuna\n",
    "import torchsummary\n",
    "from datetime import datetime\n",
    "import json\n",
    "import numpy as np\n",
    "from classification.classifiers import DeepClassifier\n",
    "from classification.loaders import load_data\n",
    "from classification.open_bci_loaders import OpenBCIDataset,OpenBCISubject,load_files\n",
    "from models.unet.eeg_unets import UnetConfig,Unet,BottleNeckClassifier\n",
    "import lightning as L\n",
    "from lightning import Fabric\n",
    "from pytorch_lightning.utilities.model_summary import ModelSummary\n",
    "\n",
    "torch.set_float32_matmul_precision('medium')"
   ]
  },
  {
   "cell_type": "code",
   "execution_count": 2,
   "metadata": {},
   "outputs": [],
   "source": [
    "from models.unet import base_eegnet"
   ]
  },
  {
   "cell_type": "code",
   "execution_count": 3,
   "metadata": {},
   "outputs": [
    {
     "name": "stdout",
     "output_type": "stream",
     "text": [
      "path d:\\Machine learning\\MI SSL\\motor-imagery-classification-2024\\experiments\\supervised_clf\n",
      "Saving new data\n",
      "(1984, 2, 512)\n",
      "(1984,)\n",
      "final data shape: (1984, 2, 512)\n",
      "Saving new data\n",
      "(992, 2, 512)\n",
      "(992,)\n",
      "final data shape: (992, 2, 512)\n"
     ]
    }
   ],
   "source": [
    "print(f\"path {os.getcwd()}\")\n",
    "files = load_files(\"../../data/collected_data/\")\n",
    "train_split = 2*[[\"train\"]]\n",
    "test_split = 2*[[\"test\"]]\n",
    "save_path = os.path.join(\"processed\",\"raw\")\n",
    "csp_save_path = os.path.join(\"processed\",\"data/collected_data/csp\")\n",
    "\n",
    "train_csp_dataset = OpenBCIDataset(\n",
    "\tsubject_splits=train_split,\n",
    "\tdataset=files,\n",
    "\tsave_paths=[csp_save_path],\n",
    "\tfake_data=None,\n",
    "\tdataset_type=OpenBCISubject,\n",
    "\tchannels=np.arange(0,2),\n",
    "\tsubject_channels=[\"ch2\",\"ch5\"],\n",
    "\tstride=25,\n",
    "\tepoch_length=512\n",
    ")\n",
    "\n",
    "test_csp_dataset = OpenBCIDataset(\n",
    "\tsubject_splits=test_split,\n",
    "\tdataset=files,\n",
    "\tsave_paths=[csp_save_path],\n",
    "\tfake_data=None,\n",
    "\tdataset_type=OpenBCISubject,\n",
    "\tchannels=np.arange(0,2),\n",
    "\tsubject_channels=[\"ch2\",\"ch5\"],\n",
    "\tstride=25,\n",
    "\tepoch_length=512\n",
    ")"
   ]
  },
  {
   "cell_type": "code",
   "execution_count": 4,
   "metadata": {},
   "outputs": [],
   "source": [
    "model = base_eegnet.EEGNet(2,224)"
   ]
  },
  {
   "cell_type": "code",
   "execution_count": 5,
   "metadata": {},
   "outputs": [
    {
     "data": {
      "text/plain": [
       "   | Name       | Type        | Params\n",
       "--------------------------------------------\n",
       "0  | conv1      | Conv2d      | 2.1 K \n",
       "1  | batchnorm1 | BatchNorm2d | 32    \n",
       "2  | padding1   | ZeroPad2d   | 0     \n",
       "3  | conv2      | Conv2d      | 260   \n",
       "4  | batchnorm2 | BatchNorm2d | 8     \n",
       "5  | pooling2   | MaxPool2d   | 0     \n",
       "6  | padding2   | ZeroPad2d   | 0     \n",
       "7  | conv3      | Conv2d      | 516   \n",
       "8  | batchnorm3 | BatchNorm2d | 8     \n",
       "9  | pooling3   | MaxPool2d   | 0     \n",
       "10 | out_proj   | Linear      | 450   \n",
       "--------------------------------------------\n",
       "3.3 K     Trainable params\n",
       "0         Non-trainable params\n",
       "3.3 K     Total params\n",
       "0.013     Total estimated model params size (MB)"
      ]
     },
     "execution_count": 5,
     "metadata": {},
     "output_type": "execute_result"
    }
   ],
   "source": [
    "ModelSummary(model)"
   ]
  },
  {
   "cell_type": "code",
   "execution_count": 10,
   "metadata": {},
   "outputs": [
    {
     "name": "stdout",
     "output_type": "stream",
     "text": [
      "Loading saved data\n",
      "(1984, 2, 512)\n",
      "(1984,)\n",
      "final data shape: (1984, 2, 512)\n",
      "Loading saved data\n",
      "(992, 2, 512)\n",
      "(992,)\n",
      "final data shape: (992, 2, 512)\n"
     ]
    }
   ],
   "source": [
    "clf = DeepClassifier(\n",
    "\tmodel=model,\n",
    "\tsave_paths=[csp_save_path],\n",
    "\ttrain_split=train_split,\n",
    "\ttest_split=test_split,\n",
    "\tdataset=None,\n",
    "\tdataset_type=OpenBCIDataset,\n",
    "\tsubject_dataset_type=OpenBCISubject,\n",
    "\tchannels=np.arange(0,2),\n",
    "\tsubject_channels=[\"ch2\",\"ch5\"],\n",
    "\tstride=25,\n",
    "\tepoch_length=512,\n",
    "\tindex_cutoff=512\n",
    "\t)"
   ]
  },
  {
   "cell_type": "code",
   "execution_count": 11,
   "metadata": {},
   "outputs": [
    {
     "data": {
      "text/plain": [
       "torch.Size([32, 2, 512])"
      ]
     },
     "execution_count": 11,
     "metadata": {},
     "output_type": "execute_result"
    }
   ],
   "source": [
    "clf.sample_batch().shape"
   ]
  },
  {
   "cell_type": "code",
   "execution_count": 12,
   "metadata": {},
   "outputs": [
    {
     "name": "stderr",
     "output_type": "stream",
     "text": [
      "Using bfloat16 Automatic Mixed Precision (AMP)\n"
     ]
    },
    {
     "name": "stdout",
     "output_type": "stream",
     "text": [
      "checkpointing\n",
      "Epoch [1/32], Training Loss: 0.747, Training Accuracy: 50.86%, Validation Loss: 0.734, Validation Accuracy: 46.77%\n",
      "checkpointing\n",
      "Epoch [2/32], Training Loss: 0.713, Training Accuracy: 53.88%, Validation Loss: 0.707, Validation Accuracy: 50.40%\n",
      "checkpointing\n",
      "Epoch [3/32], Training Loss: 0.719, Training Accuracy: 52.17%, Validation Loss: 0.691, Validation Accuracy: 54.64%\n",
      "Min loss: 0.69091796875 vs 0.694580078125\n",
      "Epoch [4/32], Training Loss: 0.694, Training Accuracy: 56.80%, Validation Loss: 0.695, Validation Accuracy: 55.44%\n",
      "checkpointing\n",
      "Epoch [5/32], Training Loss: 0.670, Training Accuracy: 60.13%, Validation Loss: 0.686, Validation Accuracy: 55.04%\n",
      "checkpointing\n",
      "Epoch [6/32], Training Loss: 0.669, Training Accuracy: 60.58%, Validation Loss: 0.683, Validation Accuracy: 57.66%\n",
      "checkpointing\n",
      "Epoch [7/32], Training Loss: 0.655, Training Accuracy: 61.90%, Validation Loss: 0.676, Validation Accuracy: 57.06%\n",
      "Min loss: 0.676025390625 vs 0.677001953125\n",
      "Epoch [8/32], Training Loss: 0.623, Training Accuracy: 66.13%, Validation Loss: 0.677, Validation Accuracy: 57.46%\n",
      "checkpointing\n",
      "Epoch [9/32], Training Loss: 0.597, Training Accuracy: 67.94%, Validation Loss: 0.642, Validation Accuracy: 62.10%\n",
      "Min loss: 0.641845703125 vs 0.673583984375\n",
      "Epoch [10/32], Training Loss: 0.569, Training Accuracy: 70.77%, Validation Loss: 0.674, Validation Accuracy: 59.07%\n",
      "checkpointing\n",
      "Epoch [11/32], Training Loss: 0.540, Training Accuracy: 72.28%, Validation Loss: 0.614, Validation Accuracy: 65.12%\n",
      "Min loss: 0.6141357421875 vs 0.620361328125\n",
      "Epoch [12/32], Training Loss: 0.502, Training Accuracy: 74.90%, Validation Loss: 0.620, Validation Accuracy: 63.31%\n",
      "Min loss: 0.6141357421875 vs 0.651123046875\n",
      "Epoch [13/32], Training Loss: 0.490, Training Accuracy: 75.86%, Validation Loss: 0.651, Validation Accuracy: 63.71%\n",
      "Min loss: 0.6141357421875 vs 0.6190185546875\n",
      "Epoch [14/32], Training Loss: 0.469, Training Accuracy: 76.56%, Validation Loss: 0.619, Validation Accuracy: 65.73%\n",
      "Min loss: 0.6141357421875 vs 0.6409912109375\n",
      "Epoch [15/32], Training Loss: 0.455, Training Accuracy: 78.12%, Validation Loss: 0.641, Validation Accuracy: 66.53%\n",
      "Min loss: 0.6141357421875 vs 0.6390380859375\n",
      "Epoch [16/32], Training Loss: 0.434, Training Accuracy: 78.63%, Validation Loss: 0.639, Validation Accuracy: 62.70%\n",
      "Min loss: 0.6141357421875 vs 0.67578125\n",
      "Epoch [17/32], Training Loss: 0.409, Training Accuracy: 80.80%, Validation Loss: 0.676, Validation Accuracy: 65.73%\n",
      "Min loss: 0.6141357421875 vs 0.6380615234375\n",
      "Epoch [18/32], Training Loss: 0.391, Training Accuracy: 80.80%, Validation Loss: 0.638, Validation Accuracy: 67.34%\n",
      "Min loss: 0.6141357421875 vs 0.689208984375\n",
      "Epoch [19/32], Training Loss: 0.341, Training Accuracy: 84.43%, Validation Loss: 0.689, Validation Accuracy: 66.53%\n",
      "Min loss: 0.6141357421875 vs 0.7374267578125\n",
      "Epoch [20/32], Training Loss: 0.348, Training Accuracy: 83.72%, Validation Loss: 0.737, Validation Accuracy: 67.54%\n",
      "Min loss: 0.6141357421875 vs 0.7030029296875\n",
      "Epoch [21/32], Training Loss: 0.348, Training Accuracy: 83.92%, Validation Loss: 0.703, Validation Accuracy: 63.51%\n",
      "Min loss: 0.6141357421875 vs 0.8563232421875\n",
      "Epoch [22/32], Training Loss: 0.331, Training Accuracy: 84.73%, Validation Loss: 0.856, Validation Accuracy: 66.13%\n",
      "Min loss: 0.6141357421875 vs 0.7403564453125\n",
      "Epoch [23/32], Training Loss: 0.296, Training Accuracy: 86.90%, Validation Loss: 0.740, Validation Accuracy: 63.71%\n",
      "Min loss: 0.6141357421875 vs 0.77685546875\n",
      "Epoch [24/32], Training Loss: 0.303, Training Accuracy: 86.54%, Validation Loss: 0.777, Validation Accuracy: 60.08%\n",
      "Min loss: 0.6141357421875 vs 0.79833984375\n",
      "Epoch [25/32], Training Loss: 0.291, Training Accuracy: 86.64%, Validation Loss: 0.798, Validation Accuracy: 65.12%\n",
      "Min loss: 0.6141357421875 vs 0.806396484375\n",
      "Epoch [26/32], Training Loss: 0.295, Training Accuracy: 86.84%, Validation Loss: 0.806, Validation Accuracy: 63.91%\n",
      "Min loss: 0.6141357421875 vs 0.792724609375\n",
      "Epoch [27/32], Training Loss: 0.248, Training Accuracy: 89.57%, Validation Loss: 0.793, Validation Accuracy: 60.08%\n",
      "Min loss: 0.6141357421875 vs 0.7974853515625\n",
      "Epoch [28/32], Training Loss: 0.256, Training Accuracy: 88.76%, Validation Loss: 0.797, Validation Accuracy: 62.90%\n",
      "Min loss: 0.6141357421875 vs 0.9383544921875\n",
      "Epoch [29/32], Training Loss: 0.231, Training Accuracy: 90.47%, Validation Loss: 0.938, Validation Accuracy: 62.70%\n",
      "Min loss: 0.6141357421875 vs 0.82421875\n",
      "Epoch [30/32], Training Loss: 0.261, Training Accuracy: 88.41%, Validation Loss: 0.824, Validation Accuracy: 61.09%\n",
      "Min loss: 0.6141357421875 vs 0.851318359375\n",
      "Epoch [31/32], Training Loss: 0.233, Training Accuracy: 90.17%, Validation Loss: 0.851, Validation Accuracy: 59.48%\n",
      "Min loss: 0.6141357421875 vs 0.8551025390625\n",
      "Epoch [32/32], Training Loss: 0.220, Training Accuracy: 90.47%, Validation Loss: 0.855, Validation Accuracy: 58.67%\n",
      "Finished Training\n"
     ]
    },
    {
     "data": {
      "text/plain": [
       "67.54032258064517"
      ]
     },
     "execution_count": 12,
     "metadata": {},
     "output_type": "execute_result"
    }
   ],
   "source": [
    "lr = 4E-4\n",
    "weight_decay = 2E-6\n",
    "FABRIC = Fabric(accelerator=\"cuda\",precision=\"bf16-mixed\")\n",
    "clf.fit(FABRIC,32,lr,weight_decay)"
   ]
  },
  {
   "cell_type": "code",
   "execution_count": null,
   "metadata": {},
   "outputs": [],
   "source": []
  }
 ],
 "metadata": {
  "kernelspec": {
   "display_name": "neuro",
   "language": "python",
   "name": "python3"
  },
  "language_info": {
   "codemirror_mode": {
    "name": "ipython",
    "version": 3
   },
   "file_extension": ".py",
   "mimetype": "text/x-python",
   "name": "python",
   "nbconvert_exporter": "python",
   "pygments_lexer": "ipython3",
   "version": "3.10.12"
  }
 },
 "nbformat": 4,
 "nbformat_minor": 2
}
